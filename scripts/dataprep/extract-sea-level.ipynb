{
 "cells": [
  {
   "cell_type": "code",
   "execution_count": 1,
   "id": "24994e2f-d842-4903-a8f1-70b7071367a0",
   "metadata": {},
   "outputs": [],
   "source": [
    "from typing import Dict, Optional\n",
    "import os\n",
    "\n",
    "import geopandas as gpd\n",
    "import matplotlib.pyplot as plt\n",
    "import numpy as np\n",
    "import pandas as pd\n",
    "import xarray as xr\n",
    "\n",
    "from xcube.core.store import new_data_store\n",
    "from xcube.core.select import select_variables_subset"
   ]
  },
  {
   "cell_type": "markdown",
   "id": "18bbf3bd-5e5a-4a9d-b485-4c3089f92eb8",
   "metadata": {},
   "source": [
    "## Prepare I/O directories"
   ]
  },
  {
   "cell_type": "code",
   "execution_count": 2,
   "id": "8527f2b7-7754-49a0-b8e2-568b15d74200",
   "metadata": {},
   "outputs": [],
   "source": [
    "clip_repo_name = \"clip_02_we_live_in_a_world_of_rising_seas\""
   ]
  },
  {
   "cell_type": "code",
   "execution_count": 3,
   "id": "0bca58db-6679-4b5c-8ad9-c8f2962bb840",
   "metadata": {},
   "outputs": [],
   "source": [
    "from init_nb import ws_path, cliplib\n",
    "clip_dir = ws_path / clip_repo_name\n",
    "clip_data_dir = clip_dir / \"data\"\n",
    "clip_cache_dir = clip_data_dir / \"temp\"\n",
    "if not clip_cache_dir.exists():\n",
    "    clip_cache_dir.mkdir()"
   ]
  },
  {
   "cell_type": "markdown",
   "id": "0e8295fa-e2eb-411d-935a-42ec76d1cbae",
   "metadata": {},
   "source": [
    "Open CCI Open Data Portal store and list contents:"
   ]
  },
  {
   "cell_type": "code",
   "execution_count": 4,
   "id": "33d63c49-a8df-4915-a034-2a0018fa2677",
   "metadata": {},
   "outputs": [],
   "source": [
    "odp_store = new_data_store(\"cciodp\")"
   ]
  },
  {
   "cell_type": "code",
   "execution_count": 5,
   "id": "4bf02e09-5707-40ce-9663-25503ee02c5f",
   "metadata": {},
   "outputs": [],
   "source": [
    "# list(cz_store.get_data_ids())"
   ]
  },
  {
   "cell_type": "markdown",
   "id": "00c252c9-b136-4f19-b543-92dd73f4b1c5",
   "metadata": {},
   "source": [
    "## Open CCI Oceanic Indicators of Mean Sea Level Changes (MSL), Version 2.0"
   ]
  },
  {
   "cell_type": "code",
   "execution_count": 6,
   "id": "51272895-a262-47fc-ab7c-e337aca98765",
   "metadata": {},
   "outputs": [],
   "source": [
    "data_id = \"esacci.SEALEVEL.mon.IND.MSL.multi-sensor.multi-platform.MERGED.2-0.r1\""
   ]
  },
  {
   "cell_type": "code",
   "execution_count": 7,
   "id": "6eed475b-31ac-4f72-98b2-c32a54980a83",
   "metadata": {},
   "outputs": [
    {
     "data": {
      "application/json": {
       "attrs": {
        "abstract": "As part of the European Space Agency's (ESA) Sea Level Climate Change Initiative (CCI) project, a number of oceanic indicators of mean sea level changes have been produced from merging satellite altimetry measurements of sea level anomalies.  The oceanic indicators dataset consists of static files covering the whole altimeter period, describing the evolution of the project's monthly sea level anomaly gridded product (see separate dataset record).\n\nThe oceanic indicators that are provided are: \n1) the temporal evolution of the global Mean Sea Level (MSL) DOI: 10.5270/esa-sea_level_cci-IND_MSL_MERGED-1993_2015-v_2.0-201612 ;\n2) the geographic distribution of Mean Sea Level changes (MSLTR) DOI: 10.5270/esa-sea_level_cci-IND_MSLTR_MERGED-1993_2015-v_2.0-201612 ;\n3) Maps of the amplitude and phase of the annual cycle (MSLAMPH) DOI: 10.5270/esa-sea_level_cci-IND_MSLAMPH_MERGED-1993_2015-v_2.0-201612.\n\nThe complete collection of v2.0 products from the Sea Level CCI project can be referenced using the following  DOI: 10.5270/esa-sea_level_cci-1993_2015-v_2.0-201612.\n\nWhen using or referring to the SL_cci products, please mention the associated DOIs and also use the following citation where a detailed description of the SL_cci project and products can be found:\n\nAblain, M., Cazenave, A., Larnicol, G., Balmaseda, M., Cipollini, P., Faugère, Y., Fernandes, M. J., Henry, O., Johannessen, J. A., Knudsen, P., Andersen, O., Legeais, J., Meyssignac, B., Picot, N., Roca, M., Rudenko, S., Scharffenberg, M. G., Stammer, D., Timms, G., and Benveniste, J.: Improved sea level record over the satellite altimetry era (1993–2010) from the Climate Change Initiative project, Ocean Sci., 11, 67-82, doi:10.5194/os-11-67-2015, 2015.\n\nFor further information on the Sea Level CCI products, and to register for these products please email: info-sealevel@esa-sealevel-cci.org\n\n",
        "catalog_url": "https://catalogue.ceda.ac.uk/uuid/3ac333b828b54e3495c7749f5bce2fe3",
        "cci_project": "SEALEVEL",
        "comment": "These data were produced at CLS as part of the ESA Sea Level CCI project.",
        "data_type": "MSL",
        "ecv": "SEALEVEL",
        "history": "2016-12-02 00:00:00 : creation",
        "platform_id": "multi-platform",
        "processing_level": "IND",
        "product_string": "MERGED",
        "product_version": "2-0",
        "project": "Climate Change Initiative - European Space Agency",
        "publication_date": "2017-01-24T17:41:04",
        "references": "http://www.esa-sealevel-cci.org/products",
        "sensor_id": "multi-sensor",
        "source": "ERS-1 Phase C OPR V6, ERS-1 Phase E OPR V3, ERS-1 Phase F OPR V3, ERS-1 Phase G OPR V6, ERS-2 OPR V6, Envisat V2.1, TOPEX/Poseidon MGDR, Jason-1 GDR-C, Jason-2 GDR-D, GFO GDR NOAA, CryoSat-2 CCP CNES, SARAL GDR-T patch 2",
        "title": "ESA Sea Level Climate Change Initiative (Sea_Level_cci): Oceanic Indicators of Mean Sea Level Changes,  Version 2.0",
        "uuid": "3ac333b828b54e3495c7749f5bce2fe3"
       },
       "bbox": [
        -180,
        -90,
        180,
        90
       ],
       "coords": {
        "lat": {
         "attrs": {
          "axis": "Y",
          "chunk_sizes": [
           720
          ],
          "data_type": "float32",
          "dimensions": [
           "lat"
          ],
          "file_chunk_sizes": [
           720
          ],
          "file_dimensions": [
           "lat"
          ],
          "fill_value": null,
          "long_name": "Latitude",
          "orig_data_type": "float32",
          "shape": [
           720
          ],
          "size": 720,
          "standard_name": "latitude",
          "units": "degrees_north",
          "valid_max": 89.875,
          "valid_min": -89.875
         },
         "dims": [
          "lat"
         ],
         "dtype": "float32",
         "name": "lat"
        },
        "lon": {
         "attrs": {
          "axis": "X",
          "chunk_sizes": [
           1440
          ],
          "data_type": "float32",
          "dimensions": [
           "lon"
          ],
          "file_chunk_sizes": [
           1440
          ],
          "file_dimensions": [
           "lon"
          ],
          "fill_value": null,
          "long_name": "Longitude",
          "orig_data_type": "float32",
          "shape": [
           1440
          ],
          "size": 1440,
          "standard_name": "longitude",
          "units": "degrees_east",
          "valid_max": 359.875,
          "valid_min": 0.125
         },
         "dims": [
          "lon"
         ],
         "dtype": "float32",
         "name": "lon"
        },
        "time": {
         "attrs": {
          "calendar": "julian",
          "chunk_sizes": [
           276
          ],
          "data_type": "float32",
          "dimensions": [
           "time"
          ],
          "file_chunk_sizes": [
           276
          ],
          "file_dimensions": [
           "time"
          ],
          "fill_value": null,
          "long_name": "time",
          "orig_data_type": "float32",
          "shape": [
           276
          ],
          "size": 276,
          "standard_name": "time",
          "units": "days since 1950-01-01"
         },
         "dims": [
          "time"
         ],
         "dtype": "float32",
         "name": "time"
        },
        "time_bnds": {
         "attrs": {
          "calendar": "proleptic_gregorian",
          "standard_name": "time_bnds",
          "units": "seconds since 1970-01-01T00:00:00Z"
         },
         "dims": [
          "time",
          "bnds"
         ],
         "dtype": "int64",
         "name": "time_bnds"
        }
       },
       "crs": "WGS84",
       "data_id": "esacci.SEALEVEL.mon.IND.MSL.multi-sensor.multi-platform.MERGED.2-0.r1",
       "data_type": "dataset",
       "data_vars": {
        "global_msl": {
         "attrs": {
          "chunk_sizes": [
           276
          ],
          "data_type": "float32",
          "dimensions": [
           "time"
          ],
          "file_chunk_sizes": [
           276
          ],
          "file_dimensions": [
           "time"
          ],
          "fill_value": 18446744000000000000,
          "long_name": "Global mean sea level variations",
          "orig_data_type": "float32",
          "shape": [
           276
          ],
          "size": 276,
          "standard_name": "global_average_sea_level_change",
          "units": "m"
         },
         "dims": [
          "time"
         ],
         "dtype": "float32",
         "name": "global_msl"
        },
        "global_msl_trend": {
         "attrs": {
          "chunk_sizes": [
           1
          ],
          "data_type": "float32",
          "dimensions": [],
          "file_chunk_sizes": [
           1
          ],
          "file_dimensions": [],
          "fill_value": null,
          "long_name": "Tendency of global mean sea level variations",
          "orig_data_type": "float32",
          "shape": [
           1
          ],
          "size": 1,
          "standard_name": "tendency_of_global_average_sea_level_change",
          "units": "mm/year"
         },
         "dims": [],
         "dtype": "float32",
         "name": "global_msl_trend"
        },
        "global_msl_trend_error": {
         "attrs": {
          "chunk_sizes": [
           1
          ],
          "data_type": "float32",
          "dimensions": [],
          "file_chunk_sizes": [
           1
          ],
          "file_dimensions": [],
          "fill_value": null,
          "long_name": "Standard error on global mean sea level variations tendency",
          "orig_data_type": "float32",
          "shape": [
           1
          ],
          "size": 1,
          "units": "mm/year"
         },
         "dims": [],
         "dtype": "float32",
         "name": "global_msl_trend_error"
        }
       },
       "dims": {
        "bnds": 2,
        "lat": 720,
        "lon": 1440,
        "time": 276
       },
       "open_params_schema": {
        "additionalProperties": false,
        "properties": {
         "bbox": {
          "items": [
           {
            "maximum": 180,
            "minimum": -180,
            "type": "number"
           },
           {
            "maximum": 90,
            "minimum": -90,
            "type": "number"
           },
           {
            "maximum": 180,
            "minimum": -180,
            "type": "number"
           },
           {
            "maximum": 90,
            "minimum": -90,
            "type": "number"
           }
          ],
          "type": "array"
         },
         "normalize_data": {
          "default": true,
          "type": "boolean"
         },
         "time_range": {
          "items": [
           {
            "format": "date",
            "maxDate": "2015-12-31",
            "minDate": "1993-01-01",
            "type": "string"
           },
           {
            "format": "date",
            "maxDate": "2015-12-31",
            "minDate": "1993-01-01",
            "type": "string"
           }
          ],
          "type": "array"
         },
         "variable_names": {
          "items": {
           "enum": [
            "global_msl",
            "global_msl_trend",
            "global_msl_trend_error"
           ],
           "type": "string"
          },
          "type": "array"
         }
        },
        "type": "object"
       },
       "time_period": "1M",
       "time_range": [
        "1993-01-01",
        "2015-12-31"
       ]
      },
      "text/plain": [
       "<xcube.core.store.descriptor.DatasetDescriptor at 0x7fad16c24d90>"
      ]
     },
     "execution_count": 7,
     "metadata": {},
     "output_type": "execute_result"
    }
   ],
   "source": [
    "odp_store.describe_data(data_id)"
   ]
  },
  {
   "cell_type": "code",
   "execution_count": 8,
   "id": "2d6ab1a5-563a-46b0-a4ea-39aca54dca4b",
   "metadata": {},
   "outputs": [
    {
     "data": {
      "text/html": [
       "<div><svg style=\"position: absolute; width: 0; height: 0; overflow: hidden\">\n",
       "<defs>\n",
       "<symbol id=\"icon-database\" viewBox=\"0 0 32 32\">\n",
       "<path d=\"M16 0c-8.837 0-16 2.239-16 5v4c0 2.761 7.163 5 16 5s16-2.239 16-5v-4c0-2.761-7.163-5-16-5z\"></path>\n",
       "<path d=\"M16 17c-8.837 0-16-2.239-16-5v6c0 2.761 7.163 5 16 5s16-2.239 16-5v-6c0 2.761-7.163 5-16 5z\"></path>\n",
       "<path d=\"M16 26c-8.837 0-16-2.239-16-5v6c0 2.761 7.163 5 16 5s16-2.239 16-5v-6c0 2.761-7.163 5-16 5z\"></path>\n",
       "</symbol>\n",
       "<symbol id=\"icon-file-text2\" viewBox=\"0 0 32 32\">\n",
       "<path d=\"M28.681 7.159c-0.694-0.947-1.662-2.053-2.724-3.116s-2.169-2.030-3.116-2.724c-1.612-1.182-2.393-1.319-2.841-1.319h-15.5c-1.378 0-2.5 1.121-2.5 2.5v27c0 1.378 1.122 2.5 2.5 2.5h23c1.378 0 2.5-1.122 2.5-2.5v-19.5c0-0.448-0.137-1.23-1.319-2.841zM24.543 5.457c0.959 0.959 1.712 1.825 2.268 2.543h-4.811v-4.811c0.718 0.556 1.584 1.309 2.543 2.268zM28 29.5c0 0.271-0.229 0.5-0.5 0.5h-23c-0.271 0-0.5-0.229-0.5-0.5v-27c0-0.271 0.229-0.5 0.5-0.5 0 0 15.499-0 15.5 0v7c0 0.552 0.448 1 1 1h7v19.5z\"></path>\n",
       "<path d=\"M23 26h-14c-0.552 0-1-0.448-1-1s0.448-1 1-1h14c0.552 0 1 0.448 1 1s-0.448 1-1 1z\"></path>\n",
       "<path d=\"M23 22h-14c-0.552 0-1-0.448-1-1s0.448-1 1-1h14c0.552 0 1 0.448 1 1s-0.448 1-1 1z\"></path>\n",
       "<path d=\"M23 18h-14c-0.552 0-1-0.448-1-1s0.448-1 1-1h14c0.552 0 1 0.448 1 1s-0.448 1-1 1z\"></path>\n",
       "</symbol>\n",
       "</defs>\n",
       "</svg>\n",
       "<style>/* CSS stylesheet for displaying xarray objects in jupyterlab.\n",
       " *\n",
       " */\n",
       "\n",
       ":root {\n",
       "  --xr-font-color0: var(--jp-content-font-color0, rgba(0, 0, 0, 1));\n",
       "  --xr-font-color2: var(--jp-content-font-color2, rgba(0, 0, 0, 0.54));\n",
       "  --xr-font-color3: var(--jp-content-font-color3, rgba(0, 0, 0, 0.38));\n",
       "  --xr-border-color: var(--jp-border-color2, #e0e0e0);\n",
       "  --xr-disabled-color: var(--jp-layout-color3, #bdbdbd);\n",
       "  --xr-background-color: var(--jp-layout-color0, white);\n",
       "  --xr-background-color-row-even: var(--jp-layout-color1, white);\n",
       "  --xr-background-color-row-odd: var(--jp-layout-color2, #eeeeee);\n",
       "}\n",
       "\n",
       "html[theme=dark],\n",
       "body[data-theme=dark],\n",
       "body.vscode-dark {\n",
       "  --xr-font-color0: rgba(255, 255, 255, 1);\n",
       "  --xr-font-color2: rgba(255, 255, 255, 0.54);\n",
       "  --xr-font-color3: rgba(255, 255, 255, 0.38);\n",
       "  --xr-border-color: #1F1F1F;\n",
       "  --xr-disabled-color: #515151;\n",
       "  --xr-background-color: #111111;\n",
       "  --xr-background-color-row-even: #111111;\n",
       "  --xr-background-color-row-odd: #313131;\n",
       "}\n",
       "\n",
       ".xr-wrap {\n",
       "  display: block !important;\n",
       "  min-width: 300px;\n",
       "  max-width: 700px;\n",
       "}\n",
       "\n",
       ".xr-text-repr-fallback {\n",
       "  /* fallback to plain text repr when CSS is not injected (untrusted notebook) */\n",
       "  display: none;\n",
       "}\n",
       "\n",
       ".xr-header {\n",
       "  padding-top: 6px;\n",
       "  padding-bottom: 6px;\n",
       "  margin-bottom: 4px;\n",
       "  border-bottom: solid 1px var(--xr-border-color);\n",
       "}\n",
       "\n",
       ".xr-header > div,\n",
       ".xr-header > ul {\n",
       "  display: inline;\n",
       "  margin-top: 0;\n",
       "  margin-bottom: 0;\n",
       "}\n",
       "\n",
       ".xr-obj-type,\n",
       ".xr-array-name {\n",
       "  margin-left: 2px;\n",
       "  margin-right: 10px;\n",
       "}\n",
       "\n",
       ".xr-obj-type {\n",
       "  color: var(--xr-font-color2);\n",
       "}\n",
       "\n",
       ".xr-sections {\n",
       "  padding-left: 0 !important;\n",
       "  display: grid;\n",
       "  grid-template-columns: 150px auto auto 1fr 20px 20px;\n",
       "}\n",
       "\n",
       ".xr-section-item {\n",
       "  display: contents;\n",
       "}\n",
       "\n",
       ".xr-section-item input {\n",
       "  display: none;\n",
       "}\n",
       "\n",
       ".xr-section-item input + label {\n",
       "  color: var(--xr-disabled-color);\n",
       "}\n",
       "\n",
       ".xr-section-item input:enabled + label {\n",
       "  cursor: pointer;\n",
       "  color: var(--xr-font-color2);\n",
       "}\n",
       "\n",
       ".xr-section-item input:enabled + label:hover {\n",
       "  color: var(--xr-font-color0);\n",
       "}\n",
       "\n",
       ".xr-section-summary {\n",
       "  grid-column: 1;\n",
       "  color: var(--xr-font-color2);\n",
       "  font-weight: 500;\n",
       "}\n",
       "\n",
       ".xr-section-summary > span {\n",
       "  display: inline-block;\n",
       "  padding-left: 0.5em;\n",
       "}\n",
       "\n",
       ".xr-section-summary-in:disabled + label {\n",
       "  color: var(--xr-font-color2);\n",
       "}\n",
       "\n",
       ".xr-section-summary-in + label:before {\n",
       "  display: inline-block;\n",
       "  content: '►';\n",
       "  font-size: 11px;\n",
       "  width: 15px;\n",
       "  text-align: center;\n",
       "}\n",
       "\n",
       ".xr-section-summary-in:disabled + label:before {\n",
       "  color: var(--xr-disabled-color);\n",
       "}\n",
       "\n",
       ".xr-section-summary-in:checked + label:before {\n",
       "  content: '▼';\n",
       "}\n",
       "\n",
       ".xr-section-summary-in:checked + label > span {\n",
       "  display: none;\n",
       "}\n",
       "\n",
       ".xr-section-summary,\n",
       ".xr-section-inline-details {\n",
       "  padding-top: 4px;\n",
       "  padding-bottom: 4px;\n",
       "}\n",
       "\n",
       ".xr-section-inline-details {\n",
       "  grid-column: 2 / -1;\n",
       "}\n",
       "\n",
       ".xr-section-details {\n",
       "  display: none;\n",
       "  grid-column: 1 / -1;\n",
       "  margin-bottom: 5px;\n",
       "}\n",
       "\n",
       ".xr-section-summary-in:checked ~ .xr-section-details {\n",
       "  display: contents;\n",
       "}\n",
       "\n",
       ".xr-array-wrap {\n",
       "  grid-column: 1 / -1;\n",
       "  display: grid;\n",
       "  grid-template-columns: 20px auto;\n",
       "}\n",
       "\n",
       ".xr-array-wrap > label {\n",
       "  grid-column: 1;\n",
       "  vertical-align: top;\n",
       "}\n",
       "\n",
       ".xr-preview {\n",
       "  color: var(--xr-font-color3);\n",
       "}\n",
       "\n",
       ".xr-array-preview,\n",
       ".xr-array-data {\n",
       "  padding: 0 5px !important;\n",
       "  grid-column: 2;\n",
       "}\n",
       "\n",
       ".xr-array-data,\n",
       ".xr-array-in:checked ~ .xr-array-preview {\n",
       "  display: none;\n",
       "}\n",
       "\n",
       ".xr-array-in:checked ~ .xr-array-data,\n",
       ".xr-array-preview {\n",
       "  display: inline-block;\n",
       "}\n",
       "\n",
       ".xr-dim-list {\n",
       "  display: inline-block !important;\n",
       "  list-style: none;\n",
       "  padding: 0 !important;\n",
       "  margin: 0;\n",
       "}\n",
       "\n",
       ".xr-dim-list li {\n",
       "  display: inline-block;\n",
       "  padding: 0;\n",
       "  margin: 0;\n",
       "}\n",
       "\n",
       ".xr-dim-list:before {\n",
       "  content: '(';\n",
       "}\n",
       "\n",
       ".xr-dim-list:after {\n",
       "  content: ')';\n",
       "}\n",
       "\n",
       ".xr-dim-list li:not(:last-child):after {\n",
       "  content: ',';\n",
       "  padding-right: 5px;\n",
       "}\n",
       "\n",
       ".xr-has-index {\n",
       "  font-weight: bold;\n",
       "}\n",
       "\n",
       ".xr-var-list,\n",
       ".xr-var-item {\n",
       "  display: contents;\n",
       "}\n",
       "\n",
       ".xr-var-item > div,\n",
       ".xr-var-item label,\n",
       ".xr-var-item > .xr-var-name span {\n",
       "  background-color: var(--xr-background-color-row-even);\n",
       "  margin-bottom: 0;\n",
       "}\n",
       "\n",
       ".xr-var-item > .xr-var-name:hover span {\n",
       "  padding-right: 5px;\n",
       "}\n",
       "\n",
       ".xr-var-list > li:nth-child(odd) > div,\n",
       ".xr-var-list > li:nth-child(odd) > label,\n",
       ".xr-var-list > li:nth-child(odd) > .xr-var-name span {\n",
       "  background-color: var(--xr-background-color-row-odd);\n",
       "}\n",
       "\n",
       ".xr-var-name {\n",
       "  grid-column: 1;\n",
       "}\n",
       "\n",
       ".xr-var-dims {\n",
       "  grid-column: 2;\n",
       "}\n",
       "\n",
       ".xr-var-dtype {\n",
       "  grid-column: 3;\n",
       "  text-align: right;\n",
       "  color: var(--xr-font-color2);\n",
       "}\n",
       "\n",
       ".xr-var-preview {\n",
       "  grid-column: 4;\n",
       "}\n",
       "\n",
       ".xr-index-preview {\n",
       "  grid-column: 2 / 5;\n",
       "  color: var(--xr-font-color2);\n",
       "}\n",
       "\n",
       ".xr-var-name,\n",
       ".xr-var-dims,\n",
       ".xr-var-dtype,\n",
       ".xr-preview,\n",
       ".xr-attrs dt {\n",
       "  white-space: nowrap;\n",
       "  overflow: hidden;\n",
       "  text-overflow: ellipsis;\n",
       "  padding-right: 10px;\n",
       "}\n",
       "\n",
       ".xr-var-name:hover,\n",
       ".xr-var-dims:hover,\n",
       ".xr-var-dtype:hover,\n",
       ".xr-attrs dt:hover {\n",
       "  overflow: visible;\n",
       "  width: auto;\n",
       "  z-index: 1;\n",
       "}\n",
       "\n",
       ".xr-var-attrs,\n",
       ".xr-var-data,\n",
       ".xr-index-data {\n",
       "  display: none;\n",
       "  background-color: var(--xr-background-color) !important;\n",
       "  padding-bottom: 5px !important;\n",
       "}\n",
       "\n",
       ".xr-var-attrs-in:checked ~ .xr-var-attrs,\n",
       ".xr-var-data-in:checked ~ .xr-var-data,\n",
       ".xr-index-data-in:checked ~ .xr-index-data {\n",
       "  display: block;\n",
       "}\n",
       "\n",
       ".xr-var-data > table {\n",
       "  float: right;\n",
       "}\n",
       "\n",
       ".xr-var-name span,\n",
       ".xr-var-data,\n",
       ".xr-index-name div,\n",
       ".xr-index-data,\n",
       ".xr-attrs {\n",
       "  padding-left: 25px !important;\n",
       "}\n",
       "\n",
       ".xr-attrs,\n",
       ".xr-var-attrs,\n",
       ".xr-var-data,\n",
       ".xr-index-data {\n",
       "  grid-column: 1 / -1;\n",
       "}\n",
       "\n",
       "dl.xr-attrs {\n",
       "  padding: 0;\n",
       "  margin: 0;\n",
       "  display: grid;\n",
       "  grid-template-columns: 125px auto;\n",
       "}\n",
       "\n",
       ".xr-attrs dt,\n",
       ".xr-attrs dd {\n",
       "  padding: 0;\n",
       "  margin: 0;\n",
       "  float: left;\n",
       "  padding-right: 10px;\n",
       "  width: auto;\n",
       "}\n",
       "\n",
       ".xr-attrs dt {\n",
       "  font-weight: normal;\n",
       "  grid-column: 1;\n",
       "}\n",
       "\n",
       ".xr-attrs dt:hover span {\n",
       "  display: inline-block;\n",
       "  background: var(--xr-background-color);\n",
       "  padding-right: 10px;\n",
       "}\n",
       "\n",
       ".xr-attrs dd {\n",
       "  grid-column: 2;\n",
       "  white-space: pre-wrap;\n",
       "  word-break: break-all;\n",
       "}\n",
       "\n",
       ".xr-icon-database,\n",
       ".xr-icon-file-text2,\n",
       ".xr-no-icon {\n",
       "  display: inline-block;\n",
       "  vertical-align: middle;\n",
       "  width: 1em;\n",
       "  height: 1.5em !important;\n",
       "  stroke-width: 0;\n",
       "  stroke: currentColor;\n",
       "  fill: currentColor;\n",
       "}\n",
       "</style><pre class='xr-text-repr-fallback'>&lt;xarray.Dataset&gt;\n",
       "Dimensions:                 (time: 276, lat: 720, lon: 1440, bnds: 2)\n",
       "Coordinates:\n",
       "  * lat                     (lat) float32 -89.88 -89.62 -89.38 ... 89.62 89.88\n",
       "  * lon                     (lon) float64 -179.9 -179.6 -179.4 ... 179.6 179.9\n",
       "  * time                    (time) datetime64[ns] 1993-01-16T12:00:00 ... 201...\n",
       "    time_bnds               (time, bnds) datetime64[ns] dask.array&lt;chunksize=(276, 2), meta=np.ndarray&gt;\n",
       "Dimensions without coordinates: bnds\n",
       "Data variables:\n",
       "    global_msl              (time) float32 dask.array&lt;chunksize=(276,), meta=np.ndarray&gt;\n",
       "    global_msl_trend        float32 ...\n",
       "    global_msl_trend_error  float32 ...\n",
       "Attributes: (12/18)\n",
       "    Conventions:                CF-1.7\n",
       "    title:                      esacci.SEALEVEL.mon.IND.MSL.multi-sensor.mult...\n",
       "    date_created:               2023-01-20T16:47:15.325860\n",
       "    processing_level:           IND\n",
       "    time_coverage_start:        1993-01-01T00:00:00\n",
       "    time_coverage_end:          2016-01-01T00:00:00\n",
       "    ...                         ...\n",
       "    geospatial_lat_resolution:  0.25\n",
       "    geospatial_lat_min:         -90.0\n",
       "    geospatial_lat_max:         90.0\n",
       "    geospatial_lat_units:       degrees_north\n",
       "    geospatial_bounds_crs:      CRS84\n",
       "    geospatial_bounds:          POLYGON((-180.0 -90.0, -180.0 90.0, 180.0 90....</pre><div class='xr-wrap' style='display:none'><div class='xr-header'><div class='xr-obj-type'>xarray.Dataset</div></div><ul class='xr-sections'><li class='xr-section-item'><input id='section-ea641874-a2de-4d30-a6d6-c7204faa03cd' class='xr-section-summary-in' type='checkbox' disabled ><label for='section-ea641874-a2de-4d30-a6d6-c7204faa03cd' class='xr-section-summary'  title='Expand/collapse section'>Dimensions:</label><div class='xr-section-inline-details'><ul class='xr-dim-list'><li><span class='xr-has-index'>time</span>: 276</li><li><span class='xr-has-index'>lat</span>: 720</li><li><span class='xr-has-index'>lon</span>: 1440</li><li><span>bnds</span>: 2</li></ul></div><div class='xr-section-details'></div></li><li class='xr-section-item'><input id='section-a4cd42ba-bc21-44d0-8fbe-4af1afc9e819' class='xr-section-summary-in' type='checkbox'  checked><label for='section-a4cd42ba-bc21-44d0-8fbe-4af1afc9e819' class='xr-section-summary' >Coordinates: <span>(4)</span></label><div class='xr-section-inline-details'></div><div class='xr-section-details'><ul class='xr-var-list'><li class='xr-var-item'><div class='xr-var-name'><span class='xr-has-index'>lat</span></div><div class='xr-var-dims'>(lat)</div><div class='xr-var-dtype'>float32</div><div class='xr-var-preview xr-preview'>-89.88 -89.62 ... 89.62 89.88</div><input id='attrs-fdc219f4-6aa6-443a-8625-da252fb4a7e1' class='xr-var-attrs-in' type='checkbox' ><label for='attrs-fdc219f4-6aa6-443a-8625-da252fb4a7e1' title='Show/Hide attributes'><svg class='icon xr-icon-file-text2'><use xlink:href='#icon-file-text2'></use></svg></label><input id='data-55293373-bc10-4a00-95ad-d84b1d140ce2' class='xr-var-data-in' type='checkbox'><label for='data-55293373-bc10-4a00-95ad-d84b1d140ce2' title='Show/Hide data repr'><svg class='icon xr-icon-database'><use xlink:href='#icon-database'></use></svg></label><div class='xr-var-attrs'><dl class='xr-attrs'><dt><span>long_name :</span></dt><dd>Latitude</dd><dt><span>standard_name :</span></dt><dd>latitude</dd><dt><span>units :</span></dt><dd>degrees_north</dd><dt><span>axis :</span></dt><dd>Y</dd><dt><span>valid_min :</span></dt><dd>-89.875</dd><dt><span>valid_max :</span></dt><dd>89.875</dd><dt><span>orig_data_type :</span></dt><dd>float32</dd><dt><span>fill_value :</span></dt><dd>nan</dd><dt><span>size :</span></dt><dd>720</dd><dt><span>shape :</span></dt><dd>[720]</dd><dt><span>chunk_sizes :</span></dt><dd>[720]</dd><dt><span>file_chunk_sizes :</span></dt><dd>[720]</dd><dt><span>data_type :</span></dt><dd>float32</dd><dt><span>dimensions :</span></dt><dd>[&#x27;lat&#x27;]</dd><dt><span>file_dimensions :</span></dt><dd>[&#x27;lat&#x27;]</dd></dl></div><div class='xr-var-data'><pre>array([-89.875, -89.625, -89.375, ...,  89.375,  89.625,  89.875],\n",
       "      dtype=float32)</pre></div></li><li class='xr-var-item'><div class='xr-var-name'><span class='xr-has-index'>lon</span></div><div class='xr-var-dims'>(lon)</div><div class='xr-var-dtype'>float64</div><div class='xr-var-preview xr-preview'>-179.9 -179.6 ... 179.6 179.9</div><input id='attrs-1b6737be-deeb-4671-b27a-616e5c81f5c5' class='xr-var-attrs-in' type='checkbox' ><label for='attrs-1b6737be-deeb-4671-b27a-616e5c81f5c5' title='Show/Hide attributes'><svg class='icon xr-icon-file-text2'><use xlink:href='#icon-file-text2'></use></svg></label><input id='data-6d65b724-7ee0-4332-81f3-6fe4329550e1' class='xr-var-data-in' type='checkbox'><label for='data-6d65b724-7ee0-4332-81f3-6fe4329550e1' title='Show/Hide data repr'><svg class='icon xr-icon-database'><use xlink:href='#icon-database'></use></svg></label><div class='xr-var-attrs'><dl class='xr-attrs'><dt><span>long_name :</span></dt><dd>longitude</dd><dt><span>standard_name :</span></dt><dd>longitude</dd><dt><span>units :</span></dt><dd>degrees east</dd></dl></div><div class='xr-var-data'><pre>array([-179.875, -179.625, -179.375, ...,  179.375,  179.625,  179.875])</pre></div></li><li class='xr-var-item'><div class='xr-var-name'><span class='xr-has-index'>time</span></div><div class='xr-var-dims'>(time)</div><div class='xr-var-dtype'>datetime64[ns]</div><div class='xr-var-preview xr-preview'>1993-01-16T12:00:00 ... 2015-12-...</div><input id='attrs-75191321-8415-4cb6-88eb-40d6ce5ad404' class='xr-var-attrs-in' type='checkbox' ><label for='attrs-75191321-8415-4cb6-88eb-40d6ce5ad404' title='Show/Hide attributes'><svg class='icon xr-icon-file-text2'><use xlink:href='#icon-file-text2'></use></svg></label><input id='data-87cdfb07-560b-4fd5-893b-d4d5111adc57' class='xr-var-data-in' type='checkbox'><label for='data-87cdfb07-560b-4fd5-893b-d4d5111adc57' title='Show/Hide data repr'><svg class='icon xr-icon-database'><use xlink:href='#icon-database'></use></svg></label><div class='xr-var-attrs'><dl class='xr-attrs'><dt><span>standard_name :</span></dt><dd>time</dd><dt><span>bounds :</span></dt><dd>time_bnds</dd></dl></div><div class='xr-var-data'><pre>array([&#x27;1993-01-16T12:00:00.000000000&#x27;, &#x27;1993-02-15T00:00:00.000000000&#x27;,\n",
       "       &#x27;1993-03-16T12:00:00.000000000&#x27;, ..., &#x27;2015-10-16T12:00:00.000000000&#x27;,\n",
       "       &#x27;2015-11-16T00:00:00.000000000&#x27;, &#x27;2015-12-16T12:00:00.000000000&#x27;],\n",
       "      dtype=&#x27;datetime64[ns]&#x27;)</pre></div></li><li class='xr-var-item'><div class='xr-var-name'><span>time_bnds</span></div><div class='xr-var-dims'>(time, bnds)</div><div class='xr-var-dtype'>datetime64[ns]</div><div class='xr-var-preview xr-preview'>dask.array&lt;chunksize=(276, 2), meta=np.ndarray&gt;</div><input id='attrs-fa890fb9-cd14-4ae8-8ffb-71d201b26df5' class='xr-var-attrs-in' type='checkbox' ><label for='attrs-fa890fb9-cd14-4ae8-8ffb-71d201b26df5' title='Show/Hide attributes'><svg class='icon xr-icon-file-text2'><use xlink:href='#icon-file-text2'></use></svg></label><input id='data-f9ec9494-0582-4f69-93c9-5b22a947803d' class='xr-var-data-in' type='checkbox'><label for='data-f9ec9494-0582-4f69-93c9-5b22a947803d' title='Show/Hide data repr'><svg class='icon xr-icon-database'><use xlink:href='#icon-database'></use></svg></label><div class='xr-var-attrs'><dl class='xr-attrs'><dt><span>standard_name :</span></dt><dd>time_bnds</dd></dl></div><div class='xr-var-data'><table>\n",
       "    <tr>\n",
       "        <td>\n",
       "            <table style=\"border-collapse: collapse;\">\n",
       "                <thead>\n",
       "                    <tr>\n",
       "                        <td> </td>\n",
       "                        <th> Array </th>\n",
       "                        <th> Chunk </th>\n",
       "                    </tr>\n",
       "                </thead>\n",
       "                <tbody>\n",
       "                    \n",
       "                    <tr>\n",
       "                        <th> Bytes </th>\n",
       "                        <td> 4.31 kiB </td>\n",
       "                        <td> 4.31 kiB </td>\n",
       "                    </tr>\n",
       "                    \n",
       "                    <tr>\n",
       "                        <th> Shape </th>\n",
       "                        <td> (276, 2) </td>\n",
       "                        <td> (276, 2) </td>\n",
       "                    </tr>\n",
       "                    <tr>\n",
       "                        <th> Dask graph </th>\n",
       "                        <td colspan=\"2\"> 1 chunks in 2 graph layers </td>\n",
       "                    </tr>\n",
       "                    <tr>\n",
       "                        <th> Data type </th>\n",
       "                        <td colspan=\"2\"> datetime64[ns] numpy.ndarray </td>\n",
       "                    </tr>\n",
       "                </tbody>\n",
       "            </table>\n",
       "        </td>\n",
       "        <td>\n",
       "        <svg width=\"75\" height=\"170\" style=\"stroke:rgb(0,0,0);stroke-width:1\" >\n",
       "\n",
       "  <!-- Horizontal lines -->\n",
       "  <line x1=\"0\" y1=\"0\" x2=\"25\" y2=\"0\" style=\"stroke-width:2\" />\n",
       "  <line x1=\"0\" y1=\"120\" x2=\"25\" y2=\"120\" style=\"stroke-width:2\" />\n",
       "\n",
       "  <!-- Vertical lines -->\n",
       "  <line x1=\"0\" y1=\"0\" x2=\"0\" y2=\"120\" style=\"stroke-width:2\" />\n",
       "  <line x1=\"25\" y1=\"0\" x2=\"25\" y2=\"120\" style=\"stroke-width:2\" />\n",
       "\n",
       "  <!-- Colored Rectangle -->\n",
       "  <polygon points=\"0.0,0.0 25.412616514582485,0.0 25.412616514582485,120.0 0.0,120.0\" style=\"fill:#ECB172A0;stroke-width:0\"/>\n",
       "\n",
       "  <!-- Text -->\n",
       "  <text x=\"12.706308\" y=\"140.000000\" font-size=\"1.0rem\" font-weight=\"100\" text-anchor=\"middle\" >2</text>\n",
       "  <text x=\"45.412617\" y=\"60.000000\" font-size=\"1.0rem\" font-weight=\"100\" text-anchor=\"middle\" transform=\"rotate(-90,45.412617,60.000000)\">276</text>\n",
       "</svg>\n",
       "        </td>\n",
       "    </tr>\n",
       "</table></div></li></ul></div></li><li class='xr-section-item'><input id='section-7c5f3867-b899-47ad-a509-8bfef7d915fc' class='xr-section-summary-in' type='checkbox'  checked><label for='section-7c5f3867-b899-47ad-a509-8bfef7d915fc' class='xr-section-summary' >Data variables: <span>(3)</span></label><div class='xr-section-inline-details'></div><div class='xr-section-details'><ul class='xr-var-list'><li class='xr-var-item'><div class='xr-var-name'><span>global_msl</span></div><div class='xr-var-dims'>(time)</div><div class='xr-var-dtype'>float32</div><div class='xr-var-preview xr-preview'>dask.array&lt;chunksize=(276,), meta=np.ndarray&gt;</div><input id='attrs-a4e7d5b6-3e5c-40c5-ba03-661562ee76f1' class='xr-var-attrs-in' type='checkbox' ><label for='attrs-a4e7d5b6-3e5c-40c5-ba03-661562ee76f1' title='Show/Hide attributes'><svg class='icon xr-icon-file-text2'><use xlink:href='#icon-file-text2'></use></svg></label><input id='data-372cc561-c477-42da-b05a-43c18ed13a17' class='xr-var-data-in' type='checkbox'><label for='data-372cc561-c477-42da-b05a-43c18ed13a17' title='Show/Hide data repr'><svg class='icon xr-icon-database'><use xlink:href='#icon-database'></use></svg></label><div class='xr-var-attrs'><dl class='xr-attrs'><dt><span>long_name :</span></dt><dd>Global mean sea level variations</dd><dt><span>standard_name :</span></dt><dd>global_average_sea_level_change</dd><dt><span>units :</span></dt><dd>m</dd><dt><span>orig_data_type :</span></dt><dd>float32</dd><dt><span>fill_value :</span></dt><dd>1.8446744e+19</dd><dt><span>size :</span></dt><dd>276</dd><dt><span>shape :</span></dt><dd>[276]</dd><dt><span>chunk_sizes :</span></dt><dd>[276]</dd><dt><span>file_chunk_sizes :</span></dt><dd>[276]</dd><dt><span>data_type :</span></dt><dd>float32</dd><dt><span>dimensions :</span></dt><dd>[&#x27;time&#x27;]</dd><dt><span>file_dimensions :</span></dt><dd>[&#x27;time&#x27;]</dd></dl></div><div class='xr-var-data'><table>\n",
       "    <tr>\n",
       "        <td>\n",
       "            <table style=\"border-collapse: collapse;\">\n",
       "                <thead>\n",
       "                    <tr>\n",
       "                        <td> </td>\n",
       "                        <th> Array </th>\n",
       "                        <th> Chunk </th>\n",
       "                    </tr>\n",
       "                </thead>\n",
       "                <tbody>\n",
       "                    \n",
       "                    <tr>\n",
       "                        <th> Bytes </th>\n",
       "                        <td> 1.08 kiB </td>\n",
       "                        <td> 1.08 kiB </td>\n",
       "                    </tr>\n",
       "                    \n",
       "                    <tr>\n",
       "                        <th> Shape </th>\n",
       "                        <td> (276,) </td>\n",
       "                        <td> (276,) </td>\n",
       "                    </tr>\n",
       "                    <tr>\n",
       "                        <th> Dask graph </th>\n",
       "                        <td colspan=\"2\"> 1 chunks in 2 graph layers </td>\n",
       "                    </tr>\n",
       "                    <tr>\n",
       "                        <th> Data type </th>\n",
       "                        <td colspan=\"2\"> float32 numpy.ndarray </td>\n",
       "                    </tr>\n",
       "                </tbody>\n",
       "            </table>\n",
       "        </td>\n",
       "        <td>\n",
       "        <svg width=\"170\" height=\"75\" style=\"stroke:rgb(0,0,0);stroke-width:1\" >\n",
       "\n",
       "  <!-- Horizontal lines -->\n",
       "  <line x1=\"0\" y1=\"0\" x2=\"120\" y2=\"0\" style=\"stroke-width:2\" />\n",
       "  <line x1=\"0\" y1=\"25\" x2=\"120\" y2=\"25\" style=\"stroke-width:2\" />\n",
       "\n",
       "  <!-- Vertical lines -->\n",
       "  <line x1=\"0\" y1=\"0\" x2=\"0\" y2=\"25\" style=\"stroke-width:2\" />\n",
       "  <line x1=\"120\" y1=\"0\" x2=\"120\" y2=\"25\" style=\"stroke-width:2\" />\n",
       "\n",
       "  <!-- Colored Rectangle -->\n",
       "  <polygon points=\"0.0,0.0 120.0,0.0 120.0,25.412616514582485 0.0,25.412616514582485\" style=\"fill:#ECB172A0;stroke-width:0\"/>\n",
       "\n",
       "  <!-- Text -->\n",
       "  <text x=\"60.000000\" y=\"45.412617\" font-size=\"1.0rem\" font-weight=\"100\" text-anchor=\"middle\" >276</text>\n",
       "  <text x=\"140.000000\" y=\"12.706308\" font-size=\"1.0rem\" font-weight=\"100\" text-anchor=\"middle\" transform=\"rotate(0,140.000000,12.706308)\">1</text>\n",
       "</svg>\n",
       "        </td>\n",
       "    </tr>\n",
       "</table></div></li><li class='xr-var-item'><div class='xr-var-name'><span>global_msl_trend</span></div><div class='xr-var-dims'>()</div><div class='xr-var-dtype'>float32</div><div class='xr-var-preview xr-preview'>...</div><input id='attrs-f54bd2ed-a258-419d-8c32-39dcbc087e00' class='xr-var-attrs-in' type='checkbox' ><label for='attrs-f54bd2ed-a258-419d-8c32-39dcbc087e00' title='Show/Hide attributes'><svg class='icon xr-icon-file-text2'><use xlink:href='#icon-file-text2'></use></svg></label><input id='data-f0aed695-420f-47b2-989e-9a05e361fe4b' class='xr-var-data-in' type='checkbox'><label for='data-f0aed695-420f-47b2-989e-9a05e361fe4b' title='Show/Hide data repr'><svg class='icon xr-icon-database'><use xlink:href='#icon-database'></use></svg></label><div class='xr-var-attrs'><dl class='xr-attrs'><dt><span>long_name :</span></dt><dd>Tendency of global mean sea level variations</dd><dt><span>standard_name :</span></dt><dd>tendency_of_global_average_sea_level_change</dd><dt><span>units :</span></dt><dd>mm/year</dd><dt><span>orig_data_type :</span></dt><dd>float32</dd><dt><span>fill_value :</span></dt><dd>nan</dd><dt><span>size :</span></dt><dd>1</dd><dt><span>shape :</span></dt><dd>[]</dd><dt><span>chunk_sizes :</span></dt><dd>[]</dd><dt><span>file_chunk_sizes :</span></dt><dd>[1]</dd><dt><span>data_type :</span></dt><dd>float32</dd><dt><span>dimensions :</span></dt><dd>[]</dd><dt><span>file_dimensions :</span></dt><dd>[]</dd></dl></div><div class='xr-var-data'><pre>[1 values with dtype=float32]</pre></div></li><li class='xr-var-item'><div class='xr-var-name'><span>global_msl_trend_error</span></div><div class='xr-var-dims'>()</div><div class='xr-var-dtype'>float32</div><div class='xr-var-preview xr-preview'>...</div><input id='attrs-a2ba516e-5176-4c97-a90f-1ffe7b5e260c' class='xr-var-attrs-in' type='checkbox' ><label for='attrs-a2ba516e-5176-4c97-a90f-1ffe7b5e260c' title='Show/Hide attributes'><svg class='icon xr-icon-file-text2'><use xlink:href='#icon-file-text2'></use></svg></label><input id='data-ecea6ed5-736d-416f-9832-568d3f255c6f' class='xr-var-data-in' type='checkbox'><label for='data-ecea6ed5-736d-416f-9832-568d3f255c6f' title='Show/Hide data repr'><svg class='icon xr-icon-database'><use xlink:href='#icon-database'></use></svg></label><div class='xr-var-attrs'><dl class='xr-attrs'><dt><span>long_name :</span></dt><dd>Standard error on global mean sea level variations tendency</dd><dt><span>units :</span></dt><dd>mm/year</dd><dt><span>orig_data_type :</span></dt><dd>float32</dd><dt><span>fill_value :</span></dt><dd>nan</dd><dt><span>size :</span></dt><dd>1</dd><dt><span>shape :</span></dt><dd>[]</dd><dt><span>chunk_sizes :</span></dt><dd>[]</dd><dt><span>file_chunk_sizes :</span></dt><dd>[1]</dd><dt><span>data_type :</span></dt><dd>float32</dd><dt><span>dimensions :</span></dt><dd>[]</dd><dt><span>file_dimensions :</span></dt><dd>[]</dd></dl></div><div class='xr-var-data'><pre>[1 values with dtype=float32]</pre></div></li></ul></div></li><li class='xr-section-item'><input id='section-a69e466f-130e-4a57-8e94-f0fdc3220af6' class='xr-section-summary-in' type='checkbox'  ><label for='section-a69e466f-130e-4a57-8e94-f0fdc3220af6' class='xr-section-summary' >Indexes: <span>(3)</span></label><div class='xr-section-inline-details'></div><div class='xr-section-details'><ul class='xr-var-list'><li class='xr-var-item'><div class='xr-index-name'><div>lat</div></div><div class='xr-index-preview'>PandasIndex</div><div></div><input id='index-00180f4a-22a0-4b7a-87ef-c5c0dbd06770' class='xr-index-data-in' type='checkbox'/><label for='index-00180f4a-22a0-4b7a-87ef-c5c0dbd06770' title='Show/Hide index repr'><svg class='icon xr-icon-database'><use xlink:href='#icon-database'></use></svg></label><div class='xr-index-data'><pre>PandasIndex(Float64Index([-89.875, -89.625, -89.375, -89.125, -88.875, -88.625, -88.375,\n",
       "              -88.125, -87.875, -87.625,\n",
       "              ...\n",
       "               87.625,  87.875,  88.125,  88.375,  88.625,  88.875,  89.125,\n",
       "               89.375,  89.625,  89.875],\n",
       "             dtype=&#x27;float64&#x27;, name=&#x27;lat&#x27;, length=720))</pre></div></li><li class='xr-var-item'><div class='xr-index-name'><div>lon</div></div><div class='xr-index-preview'>PandasIndex</div><div></div><input id='index-39d28518-5b0c-4d1a-8aa7-6fc0801d1b3a' class='xr-index-data-in' type='checkbox'/><label for='index-39d28518-5b0c-4d1a-8aa7-6fc0801d1b3a' title='Show/Hide index repr'><svg class='icon xr-icon-database'><use xlink:href='#icon-database'></use></svg></label><div class='xr-index-data'><pre>PandasIndex(Float64Index([-179.875, -179.625, -179.375, -179.125, -178.875, -178.625,\n",
       "              -178.375, -178.125, -177.875, -177.625,\n",
       "              ...\n",
       "               177.625,  177.875,  178.125,  178.375,  178.625,  178.875,\n",
       "               179.125,  179.375,  179.625,  179.875],\n",
       "             dtype=&#x27;float64&#x27;, name=&#x27;lon&#x27;, length=1440))</pre></div></li><li class='xr-var-item'><div class='xr-index-name'><div>time</div></div><div class='xr-index-preview'>PandasIndex</div><div></div><input id='index-734e746f-2bb9-4f4d-869e-3736867031e5' class='xr-index-data-in' type='checkbox'/><label for='index-734e746f-2bb9-4f4d-869e-3736867031e5' title='Show/Hide index repr'><svg class='icon xr-icon-database'><use xlink:href='#icon-database'></use></svg></label><div class='xr-index-data'><pre>PandasIndex(DatetimeIndex([&#x27;1993-01-16 12:00:00&#x27;, &#x27;1993-02-15 00:00:00&#x27;,\n",
       "               &#x27;1993-03-16 12:00:00&#x27;, &#x27;1993-04-16 00:00:00&#x27;,\n",
       "               &#x27;1993-05-16 12:00:00&#x27;, &#x27;1993-06-16 00:00:00&#x27;,\n",
       "               &#x27;1993-07-16 12:00:00&#x27;, &#x27;1993-08-16 12:00:00&#x27;,\n",
       "               &#x27;1993-09-16 00:00:00&#x27;, &#x27;1993-10-16 12:00:00&#x27;,\n",
       "               ...\n",
       "               &#x27;2015-03-16 12:00:00&#x27;, &#x27;2015-04-16 00:00:00&#x27;,\n",
       "               &#x27;2015-05-16 12:00:00&#x27;, &#x27;2015-06-16 00:00:00&#x27;,\n",
       "               &#x27;2015-07-16 12:00:00&#x27;, &#x27;2015-08-16 12:00:00&#x27;,\n",
       "               &#x27;2015-09-16 00:00:00&#x27;, &#x27;2015-10-16 12:00:00&#x27;,\n",
       "               &#x27;2015-11-16 00:00:00&#x27;, &#x27;2015-12-16 12:00:00&#x27;],\n",
       "              dtype=&#x27;datetime64[ns]&#x27;, name=&#x27;time&#x27;, length=276, freq=None))</pre></div></li></ul></div></li><li class='xr-section-item'><input id='section-2ad337f5-2560-412e-9584-a745e30510ae' class='xr-section-summary-in' type='checkbox'  ><label for='section-2ad337f5-2560-412e-9584-a745e30510ae' class='xr-section-summary' >Attributes: <span>(18)</span></label><div class='xr-section-inline-details'></div><div class='xr-section-details'><dl class='xr-attrs'><dt><span>Conventions :</span></dt><dd>CF-1.7</dd><dt><span>title :</span></dt><dd>esacci.SEALEVEL.mon.IND.MSL.multi-sensor.multi-platform.MERGED.2-0.r1</dd><dt><span>date_created :</span></dt><dd>2023-01-20T16:47:15.325860</dd><dt><span>processing_level :</span></dt><dd>IND</dd><dt><span>time_coverage_start :</span></dt><dd>1993-01-01T00:00:00</dd><dt><span>time_coverage_end :</span></dt><dd>2016-01-01T00:00:00</dd><dt><span>time_coverage_duration :</span></dt><dd>P8400DT0H0M0S</dd><dt><span>history :</span></dt><dd>[{&#x27;program&#x27;: &#x27;xcube_cci.chunkstore.CciChunkStore&#x27;, &#x27;cube_params&#x27;: {&#x27;time_range&#x27;: [&#x27;1993-01-01T00:00:00&#x27;, &#x27;2015-12-31T23:59:59&#x27;], &#x27;variable_names&#x27;: [&#x27;global_msl&#x27;, &#x27;global_msl_trend&#x27;, &#x27;global_msl_trend_error&#x27;]}}]</dd><dt><span>geospatial_lon_resolution :</span></dt><dd>0.25</dd><dt><span>geospatial_lon_min :</span></dt><dd>-180.0</dd><dt><span>geospatial_lon_max :</span></dt><dd>180.0</dd><dt><span>geospatial_lon_units :</span></dt><dd>degrees east</dd><dt><span>geospatial_lat_resolution :</span></dt><dd>0.25</dd><dt><span>geospatial_lat_min :</span></dt><dd>-90.0</dd><dt><span>geospatial_lat_max :</span></dt><dd>90.0</dd><dt><span>geospatial_lat_units :</span></dt><dd>degrees_north</dd><dt><span>geospatial_bounds_crs :</span></dt><dd>CRS84</dd><dt><span>geospatial_bounds :</span></dt><dd>POLYGON((-180.0 -90.0, -180.0 90.0, 180.0 90.0, 180.0 -90.0, -180.0 -90.0))</dd></dl></div></li></ul></div></div>"
      ],
      "text/plain": [
       "<xarray.Dataset>\n",
       "Dimensions:                 (time: 276, lat: 720, lon: 1440, bnds: 2)\n",
       "Coordinates:\n",
       "  * lat                     (lat) float32 -89.88 -89.62 -89.38 ... 89.62 89.88\n",
       "  * lon                     (lon) float64 -179.9 -179.6 -179.4 ... 179.6 179.9\n",
       "  * time                    (time) datetime64[ns] 1993-01-16T12:00:00 ... 201...\n",
       "    time_bnds               (time, bnds) datetime64[ns] dask.array<chunksize=(276, 2), meta=np.ndarray>\n",
       "Dimensions without coordinates: bnds\n",
       "Data variables:\n",
       "    global_msl              (time) float32 dask.array<chunksize=(276,), meta=np.ndarray>\n",
       "    global_msl_trend        float32 ...\n",
       "    global_msl_trend_error  float32 ...\n",
       "Attributes: (12/18)\n",
       "    Conventions:                CF-1.7\n",
       "    title:                      esacci.SEALEVEL.mon.IND.MSL.multi-sensor.mult...\n",
       "    date_created:               2023-01-20T16:47:15.325860\n",
       "    processing_level:           IND\n",
       "    time_coverage_start:        1993-01-01T00:00:00\n",
       "    time_coverage_end:          2016-01-01T00:00:00\n",
       "    ...                         ...\n",
       "    geospatial_lat_resolution:  0.25\n",
       "    geospatial_lat_min:         -90.0\n",
       "    geospatial_lat_max:         90.0\n",
       "    geospatial_lat_units:       degrees_north\n",
       "    geospatial_bounds_crs:      CRS84\n",
       "    geospatial_bounds:          POLYGON((-180.0 -90.0, -180.0 90.0, 180.0 90...."
      ]
     },
     "execution_count": 8,
     "metadata": {},
     "output_type": "execute_result"
    }
   ],
   "source": [
    "msl_dataset = odp_store.open_data(data_id)\n",
    "msl_dataset"
   ]
  },
  {
   "cell_type": "code",
   "execution_count": 9,
   "id": "61f5766b-4722-424b-bc5f-862c50f4ff4b",
   "metadata": {},
   "outputs": [
    {
     "data": {
      "text/plain": [
       "[<matplotlib.lines.Line2D at 0x7fad15f3b910>]"
      ]
     },
     "execution_count": 9,
     "metadata": {},
     "output_type": "execute_result"
    },
    {
     "data": {
      "image/png": "[encoded data removed]",
      "text/plain": [
       "<Figure size 640x480 with 1 Axes>"
      ]
     },
     "metadata": {},
     "output_type": "display_data"
    }
   ],
   "source": [
    "msl_dataset.global_msl.plot()"
   ]
  },
  {
   "cell_type": "markdown",
   "id": "4ffa9746-2fc5-4cbd-aa57-297d4ca54d7c",
   "metadata": {},
   "source": [
    "## Write CSV"
   ]
  },
  {
   "cell_type": "code",
   "execution_count": 10,
   "id": "4848bb04-309c-4c0d-9320-8de49d089ab2",
   "metadata": {},
   "outputs": [],
   "source": [
    "msl_dataset.global_msl.to_dataframe().to_csv(f\"{clip_data_dir}/global_msl.csv\")"
   ]
  },
  {
   "cell_type": "markdown",
   "id": "7e1ea92b-29f2-4641-8f5a-0bb018f139aa",
   "metadata": {},
   "source": [
    "Read CSV to verify"
   ]
  },
  {
   "cell_type": "code",
   "execution_count": 11,
   "id": "abc5743a-9574-4a4a-aee2-84468d8d94e7",
   "metadata": {},
   "outputs": [
    {
     "data": {
      "text/html": [
       "<div>\n",
       "<style scoped>\n",
       "    .dataframe tbody tr th:only-of-type {\n",
       "        vertical-align: middle;\n",
       "    }\n",
       "\n",
       "    .dataframe tbody tr th {\n",
       "        vertical-align: top;\n",
       "    }\n",
       "\n",
       "    .dataframe thead th {\n",
       "        text-align: right;\n",
       "    }\n",
       "</style>\n",
       "<table border=\"1\" class=\"dataframe\">\n",
       "  <thead>\n",
       "    <tr style=\"text-align: right;\">\n",
       "      <th></th>\n",
       "      <th>global_msl</th>\n",
       "    </tr>\n",
       "    <tr>\n",
       "      <th>time</th>\n",
       "      <th></th>\n",
       "    </tr>\n",
       "  </thead>\n",
       "  <tbody>\n",
       "    <tr>\n",
       "      <th>1993-01-16 12:00:00</th>\n",
       "      <td>-0.001873</td>\n",
       "    </tr>\n",
       "    <tr>\n",
       "      <th>1993-02-15 00:00:00</th>\n",
       "      <td>-0.004756</td>\n",
       "    </tr>\n",
       "    <tr>\n",
       "      <th>1993-03-16 12:00:00</th>\n",
       "      <td>-0.003135</td>\n",
       "    </tr>\n",
       "    <tr>\n",
       "      <th>1993-04-16 00:00:00</th>\n",
       "      <td>-0.003122</td>\n",
       "    </tr>\n",
       "    <tr>\n",
       "      <th>1993-05-16 12:00:00</th>\n",
       "      <td>-0.002989</td>\n",
       "    </tr>\n",
       "    <tr>\n",
       "      <th>...</th>\n",
       "      <td>...</td>\n",
       "    </tr>\n",
       "    <tr>\n",
       "      <th>2015-08-16 12:00:00</th>\n",
       "      <td>0.070812</td>\n",
       "    </tr>\n",
       "    <tr>\n",
       "      <th>2015-09-16 00:00:00</th>\n",
       "      <td>0.077375</td>\n",
       "    </tr>\n",
       "    <tr>\n",
       "      <th>2015-10-16 12:00:00</th>\n",
       "      <td>0.081142</td>\n",
       "    </tr>\n",
       "    <tr>\n",
       "      <th>2015-11-16 00:00:00</th>\n",
       "      <td>0.079500</td>\n",
       "    </tr>\n",
       "    <tr>\n",
       "      <th>2015-12-16 12:00:00</th>\n",
       "      <td>0.077233</td>\n",
       "    </tr>\n",
       "  </tbody>\n",
       "</table>\n",
       "<p>276 rows × 1 columns</p>\n",
       "</div>"
      ],
      "text/plain": [
       "                     global_msl\n",
       "time                           \n",
       "1993-01-16 12:00:00   -0.001873\n",
       "1993-02-15 00:00:00   -0.004756\n",
       "1993-03-16 12:00:00   -0.003135\n",
       "1993-04-16 00:00:00   -0.003122\n",
       "1993-05-16 12:00:00   -0.002989\n",
       "...                         ...\n",
       "2015-08-16 12:00:00    0.070812\n",
       "2015-09-16 00:00:00    0.077375\n",
       "2015-10-16 12:00:00    0.081142\n",
       "2015-11-16 00:00:00    0.079500\n",
       "2015-12-16 12:00:00    0.077233\n",
       "\n",
       "[276 rows x 1 columns]"
      ]
     },
     "execution_count": 11,
     "metadata": {},
     "output_type": "execute_result"
    }
   ],
   "source": [
    "pd.read_csv(f\"{clip_data_dir}/global_msl.csv\", index_col=\"time\")"
   ]
  },
  {
   "cell_type": "markdown",
   "id": "b68e18fb-2536-4a40-858b-aeed5f5764b2",
   "metadata": {},
   "source": [
    "---"
   ]
  },
  {
   "cell_type": "markdown",
   "id": "017b9a32-d6a9-40c4-abf7-1ef73109d13f",
   "metadata": {},
   "source": [
    "# Inspect other Sea Level Datasets"
   ]
  },
  {
   "cell_type": "markdown",
   "id": "4020251a-2436-47fd-94ee-4cc89fb373a7",
   "metadata": {
    "tags": []
   },
   "source": [
    "## CCI Time series of gridded Sea Level Anomalies (SLA), Version 2.0"
   ]
  },
  {
   "cell_type": "code",
   "execution_count": 12,
   "id": "aa506245-8d83-481c-9dde-24fce92663b6",
   "metadata": {},
   "outputs": [],
   "source": [
    "data_id = \"esacci.SEALEVEL.mon.L4.MSLA.multi-sensor.multi-platform.MERGED.2-0.r1\""
   ]
  },
  {
   "cell_type": "code",
   "execution_count": 13,
   "id": "3c1990f4-8045-4d67-a892-9018ca964a82",
   "metadata": {},
   "outputs": [
    {
     "data": {
      "application/json": {
       "attrs": {
        "abstract": "As part of the European Space Agency's (ESA) Sea Level Climate Change Initiative (CCI) project, a multi-satellite merged time series of monthly gridded Sea Level Anomalies (SLA) has been produced from satellite altimeter measurements. The Sea Level Anomaly grids have been calculated after merging the altimetry mission measurements together into monthly grids, with a spatial resolution of 0.25 degrees.   This version of the product is Version 2.0.  \n\nThe following DOI can be used to reference the monthly Sea Level Anomaly product: DOI: 10.5270/esa-sea_level_cci-MSLA-1993_2015-v_2.0-201612\n\nThe complete collection of v2.0 products from the Sea Level CCI project can be referenced using the following DOI: 10.5270/esa-sea_level_cci-1993_2015-v_2.0-201612\n\nWhen using or referring to the Sea Level cci products, please mention the associated DOIs and also use the following citation where a detailed description of the Sea Level_cci project and products can be found:\n\nAblain, M., Cazenave, A., Larnicol, G., Balmaseda, M., Cipollini, P., Faugère, Y., Fernandes, M. J., Henry, O., Johannessen, J. A., Knudsen, P., Andersen, O., Legeais, J., Meyssignac, B., Picot, N., Roca, M., Rudenko, S., Scharffenberg, M. G., Stammer, D., Timms, G., and Benveniste, J.: Improved sea level record over the satellite altimetry era (1993–2010) from the Climate Change Initiative project, Ocean Sci., 11, 67-82, doi:10.5194/os-11-67-2015, 2015.\n\nFor further information on the Sea Level CCI products, and to register for these projects please email: info-sealevel@esa-sealevel-cci.org\n",
        "catalog_url": "https://catalogue.ceda.ac.uk/uuid/142052b9dc754f6da47a631e35ec4609",
        "cci_project": "SEALEVEL",
        "comment": "These data were produced at CLS as part of the ESA Sea Level CCI project.",
        "data_type": "MSLA",
        "ecv": "SEALEVEL",
        "history": "2016-12-02 00:00:00 : creation",
        "platform_id": "multi-platform",
        "processing_level": "L4",
        "product_string": "MERGED",
        "product_version": "2-0",
        "project": "Climate Change Initiative - European Space Agency",
        "publication_date": "2017-01-24T17:43:03",
        "references": "http://www.esa-sealevel-cci.org/products",
        "sensor_id": "multi-sensor",
        "source": "ERS-1 Phase C OPR V6, ERS-1 Phase E OPR V3, ERS-1 Phase F OPR V3, ERS-1 Phase G OPR V6, ERS-2 OPR V6, Envisat V2.1, TOPEX/Poseidon MGDR, Jason-1 GDR-C, Jason-2 GDR-D, GFO GDR NOAA, CryoSat-2 CCP CNES, SARAL GDR-T patch 2",
        "title": "ESA Sea Level Climate Change Initiative (Sea_Level_cci): Time series of gridded Sea Level Anomalies (SLA), Version 2.0",
        "uuid": "142052b9dc754f6da47a631e35ec4609"
       },
       "bbox": [
        -180,
        -90,
        180,
        90
       ],
       "coords": {
        "date_bounds": {
         "attrs": {
          "chunk_sizes": [
           2
          ],
          "data_type": "float32",
          "dimensions": [
           "n"
          ],
          "file_chunk_sizes": [
           2
          ],
          "file_dimensions": [
           "n"
          ],
          "fill_value": null,
          "orig_data_type": "float32",
          "shape": [
           2
          ],
          "size": 2
         },
         "dims": [
          "n"
         ],
         "dtype": "float32",
         "name": "date_bounds"
        },
        "lat": {
         "attrs": {
          "axis": "Y",
          "chunk_sizes": [
           720
          ],
          "data_type": "float32",
          "dimensions": [
           "lat"
          ],
          "file_chunk_sizes": [
           720
          ],
          "file_dimensions": [
           "lat"
          ],
          "fill_value": null,
          "long_name": "Latitude",
          "orig_data_type": "float32",
          "shape": [
           720
          ],
          "size": 720,
          "standard_name": "latitude",
          "units": "degrees_north",
          "valid_max": 89.875,
          "valid_min": -89.875
         },
         "dims": [
          "lat"
         ],
         "dtype": "float32",
         "name": "lat"
        },
        "lon": {
         "attrs": {
          "axis": "X",
          "chunk_sizes": [
           1440
          ],
          "data_type": "float32",
          "dimensions": [
           "lon"
          ],
          "file_chunk_sizes": [
           1440
          ],
          "file_dimensions": [
           "lon"
          ],
          "fill_value": null,
          "long_name": "Longitude",
          "orig_data_type": "float32",
          "shape": [
           1440
          ],
          "size": 1440,
          "standard_name": "longitude",
          "units": "degrees_east",
          "valid_max": 359.875,
          "valid_min": 0.125
         },
         "dims": [
          "lon"
         ],
         "dtype": "float32",
         "name": "lon"
        },
        "time": {
         "attrs": {
          "bounds": "date_bounds",
          "calendar": "julian",
          "chunk_sizes": [
           1
          ],
          "data_type": "float32",
          "dimensions": [],
          "file_chunk_sizes": [
           1
          ],
          "file_dimensions": [],
          "fill_value": null,
          "long_name": "time",
          "month": "March 1993",
          "orig_data_type": "float32",
          "shape": [
           1
          ],
          "size": 1,
          "standard_name": "time",
          "units": "days since 1950-01-01"
         },
         "dims": [],
         "dtype": "float32",
         "name": "time"
        },
        "time_bnds": {
         "attrs": {
          "calendar": "proleptic_gregorian",
          "standard_name": "time_bnds",
          "units": "seconds since 1970-01-01T00:00:00Z"
         },
         "dims": [
          "time",
          "n"
         ],
         "dtype": "int64",
         "name": "time_bnds"
        }
       },
       "crs": "WGS84",
       "data_id": "esacci.SEALEVEL.mon.L4.MSLA.multi-sensor.multi-platform.MERGED.2-0.r1",
       "data_type": "dataset",
       "data_vars": {
        "sla": {
         "attrs": {
          "chunk_sizes": [
           720,
           1440
          ],
          "coordinates": "lon lat",
          "data_type": "float32",
          "dimensions": [
           "lat",
           "lon"
          ],
          "file_chunk_sizes": [
           720,
           1440
          ],
          "file_dimensions": [
           "lat",
           "lon"
          ],
          "fill_value": 18446744000000000000,
          "long_name": "Monthly sea level anomalies",
          "orig_data_type": "float32",
          "shape": [
           720,
           1440
          ],
          "size": 1036800,
          "standard_name": "sea_surface_height_above_sea_level",
          "units": "m"
         },
         "dims": [
          "time",
          "lat",
          "lon"
         ],
         "dtype": "float32",
         "name": "sla"
        }
       },
       "dims": {
        "lat": 720,
        "lon": 1440,
        "n": 2,
        "time": 276
       },
       "open_params_schema": {
        "additionalProperties": false,
        "properties": {
         "bbox": {
          "items": [
           {
            "maximum": 180,
            "minimum": -180,
            "type": "number"
           },
           {
            "maximum": 90,
            "minimum": -90,
            "type": "number"
           },
           {
            "maximum": 180,
            "minimum": -180,
            "type": "number"
           },
           {
            "maximum": 90,
            "minimum": -90,
            "type": "number"
           }
          ],
          "type": "array"
         },
         "normalize_data": {
          "default": true,
          "type": "boolean"
         },
         "time_range": {
          "items": [
           {
            "format": "date",
            "maxDate": "2015-12-31",
            "minDate": "1993-01-01",
            "type": "string"
           },
           {
            "format": "date",
            "maxDate": "2015-12-31",
            "minDate": "1993-01-01",
            "type": "string"
           }
          ],
          "type": "array"
         },
         "variable_names": {
          "items": {
           "enum": [
            "sla"
           ],
           "type": "string"
          },
          "type": "array"
         }
        },
        "type": "object"
       },
       "spatial_res": 0.25,
       "time_period": "1M",
       "time_range": [
        "1993-01-01",
        "2015-12-31"
       ]
      },
      "text/plain": [
       "<xcube.core.store.descriptor.DatasetDescriptor at 0x7fad15f95070>"
      ]
     },
     "execution_count": 13,
     "metadata": {},
     "output_type": "execute_result"
    }
   ],
   "source": [
    "odp_store.describe_data(data_id)"
   ]
  },
  {
   "cell_type": "code",
   "execution_count": 14,
   "id": "7583d442-2345-4e32-ad45-549df5b09f3c",
   "metadata": {},
   "outputs": [
    {
     "data": {
      "text/html": [
       "<div><svg style=\"position: absolute; width: 0; height: 0; overflow: hidden\">\n",
       "<defs>\n",
       "<symbol id=\"icon-database\" viewBox=\"0 0 32 32\">\n",
       "<path d=\"M16 0c-8.837 0-16 2.239-16 5v4c0 2.761 7.163 5 16 5s16-2.239 16-5v-4c0-2.761-7.163-5-16-5z\"></path>\n",
       "<path d=\"M16 17c-8.837 0-16-2.239-16-5v6c0 2.761 7.163 5 16 5s16-2.239 16-5v-6c0 2.761-7.163 5-16 5z\"></path>\n",
       "<path d=\"M16 26c-8.837 0-16-2.239-16-5v6c0 2.761 7.163 5 16 5s16-2.239 16-5v-6c0 2.761-7.163 5-16 5z\"></path>\n",
       "</symbol>\n",
       "<symbol id=\"icon-file-text2\" viewBox=\"0 0 32 32\">\n",
       "<path d=\"M28.681 7.159c-0.694-0.947-1.662-2.053-2.724-3.116s-2.169-2.030-3.116-2.724c-1.612-1.182-2.393-1.319-2.841-1.319h-15.5c-1.378 0-2.5 1.121-2.5 2.5v27c0 1.378 1.122 2.5 2.5 2.5h23c1.378 0 2.5-1.122 2.5-2.5v-19.5c0-0.448-0.137-1.23-1.319-2.841zM24.543 5.457c0.959 0.959 1.712 1.825 2.268 2.543h-4.811v-4.811c0.718 0.556 1.584 1.309 2.543 2.268zM28 29.5c0 0.271-0.229 0.5-0.5 0.5h-23c-0.271 0-0.5-0.229-0.5-0.5v-27c0-0.271 0.229-0.5 0.5-0.5 0 0 15.499-0 15.5 0v7c0 0.552 0.448 1 1 1h7v19.5z\"></path>\n",
       "<path d=\"M23 26h-14c-0.552 0-1-0.448-1-1s0.448-1 1-1h14c0.552 0 1 0.448 1 1s-0.448 1-1 1z\"></path>\n",
       "<path d=\"M23 22h-14c-0.552 0-1-0.448-1-1s0.448-1 1-1h14c0.552 0 1 0.448 1 1s-0.448 1-1 1z\"></path>\n",
       "<path d=\"M23 18h-14c-0.552 0-1-0.448-1-1s0.448-1 1-1h14c0.552 0 1 0.448 1 1s-0.448 1-1 1z\"></path>\n",
       "</symbol>\n",
       "</defs>\n",
       "</svg>\n",
       "<style>/* CSS stylesheet for displaying xarray objects in jupyterlab.\n",
       " *\n",
       " */\n",
       "\n",
       ":root {\n",
       "  --xr-font-color0: var(--jp-content-font-color0, rgba(0, 0, 0, 1));\n",
       "  --xr-font-color2: var(--jp-content-font-color2, rgba(0, 0, 0, 0.54));\n",
       "  --xr-font-color3: var(--jp-content-font-color3, rgba(0, 0, 0, 0.38));\n",
       "  --xr-border-color: var(--jp-border-color2, #e0e0e0);\n",
       "  --xr-disabled-color: var(--jp-layout-color3, #bdbdbd);\n",
       "  --xr-background-color: var(--jp-layout-color0, white);\n",
       "  --xr-background-color-row-even: var(--jp-layout-color1, white);\n",
       "  --xr-background-color-row-odd: var(--jp-layout-color2, #eeeeee);\n",
       "}\n",
       "\n",
       "html[theme=dark],\n",
       "body[data-theme=dark],\n",
       "body.vscode-dark {\n",
       "  --xr-font-color0: rgba(255, 255, 255, 1);\n",
       "  --xr-font-color2: rgba(255, 255, 255, 0.54);\n",
       "  --xr-font-color3: rgba(255, 255, 255, 0.38);\n",
       "  --xr-border-color: #1F1F1F;\n",
       "  --xr-disabled-color: #515151;\n",
       "  --xr-background-color: #111111;\n",
       "  --xr-background-color-row-even: #111111;\n",
       "  --xr-background-color-row-odd: #313131;\n",
       "}\n",
       "\n",
       ".xr-wrap {\n",
       "  display: block !important;\n",
       "  min-width: 300px;\n",
       "  max-width: 700px;\n",
       "}\n",
       "\n",
       ".xr-text-repr-fallback {\n",
       "  /* fallback to plain text repr when CSS is not injected (untrusted notebook) */\n",
       "  display: none;\n",
       "}\n",
       "\n",
       ".xr-header {\n",
       "  padding-top: 6px;\n",
       "  padding-bottom: 6px;\n",
       "  margin-bottom: 4px;\n",
       "  border-bottom: solid 1px var(--xr-border-color);\n",
       "}\n",
       "\n",
       ".xr-header > div,\n",
       ".xr-header > ul {\n",
       "  display: inline;\n",
       "  margin-top: 0;\n",
       "  margin-bottom: 0;\n",
       "}\n",
       "\n",
       ".xr-obj-type,\n",
       ".xr-array-name {\n",
       "  margin-left: 2px;\n",
       "  margin-right: 10px;\n",
       "}\n",
       "\n",
       ".xr-obj-type {\n",
       "  color: var(--xr-font-color2);\n",
       "}\n",
       "\n",
       ".xr-sections {\n",
       "  padding-left: 0 !important;\n",
       "  display: grid;\n",
       "  grid-template-columns: 150px auto auto 1fr 20px 20px;\n",
       "}\n",
       "\n",
       ".xr-section-item {\n",
       "  display: contents;\n",
       "}\n",
       "\n",
       ".xr-section-item input {\n",
       "  display: none;\n",
       "}\n",
       "\n",
       ".xr-section-item input + label {\n",
       "  color: var(--xr-disabled-color);\n",
       "}\n",
       "\n",
       ".xr-section-item input:enabled + label {\n",
       "  cursor: pointer;\n",
       "  color: var(--xr-font-color2);\n",
       "}\n",
       "\n",
       ".xr-section-item input:enabled + label:hover {\n",
       "  color: var(--xr-font-color0);\n",
       "}\n",
       "\n",
       ".xr-section-summary {\n",
       "  grid-column: 1;\n",
       "  color: var(--xr-font-color2);\n",
       "  font-weight: 500;\n",
       "}\n",
       "\n",
       ".xr-section-summary > span {\n",
       "  display: inline-block;\n",
       "  padding-left: 0.5em;\n",
       "}\n",
       "\n",
       ".xr-section-summary-in:disabled + label {\n",
       "  color: var(--xr-font-color2);\n",
       "}\n",
       "\n",
       ".xr-section-summary-in + label:before {\n",
       "  display: inline-block;\n",
       "  content: '►';\n",
       "  font-size: 11px;\n",
       "  width: 15px;\n",
       "  text-align: center;\n",
       "}\n",
       "\n",
       ".xr-section-summary-in:disabled + label:before {\n",
       "  color: var(--xr-disabled-color);\n",
       "}\n",
       "\n",
       ".xr-section-summary-in:checked + label:before {\n",
       "  content: '▼';\n",
       "}\n",
       "\n",
       ".xr-section-summary-in:checked + label > span {\n",
       "  display: none;\n",
       "}\n",
       "\n",
       ".xr-section-summary,\n",
       ".xr-section-inline-details {\n",
       "  padding-top: 4px;\n",
       "  padding-bottom: 4px;\n",
       "}\n",
       "\n",
       ".xr-section-inline-details {\n",
       "  grid-column: 2 / -1;\n",
       "}\n",
       "\n",
       ".xr-section-details {\n",
       "  display: none;\n",
       "  grid-column: 1 / -1;\n",
       "  margin-bottom: 5px;\n",
       "}\n",
       "\n",
       ".xr-section-summary-in:checked ~ .xr-section-details {\n",
       "  display: contents;\n",
       "}\n",
       "\n",
       ".xr-array-wrap {\n",
       "  grid-column: 1 / -1;\n",
       "  display: grid;\n",
       "  grid-template-columns: 20px auto;\n",
       "}\n",
       "\n",
       ".xr-array-wrap > label {\n",
       "  grid-column: 1;\n",
       "  vertical-align: top;\n",
       "}\n",
       "\n",
       ".xr-preview {\n",
       "  color: var(--xr-font-color3);\n",
       "}\n",
       "\n",
       ".xr-array-preview,\n",
       ".xr-array-data {\n",
       "  padding: 0 5px !important;\n",
       "  grid-column: 2;\n",
       "}\n",
       "\n",
       ".xr-array-data,\n",
       ".xr-array-in:checked ~ .xr-array-preview {\n",
       "  display: none;\n",
       "}\n",
       "\n",
       ".xr-array-in:checked ~ .xr-array-data,\n",
       ".xr-array-preview {\n",
       "  display: inline-block;\n",
       "}\n",
       "\n",
       ".xr-dim-list {\n",
       "  display: inline-block !important;\n",
       "  list-style: none;\n",
       "  padding: 0 !important;\n",
       "  margin: 0;\n",
       "}\n",
       "\n",
       ".xr-dim-list li {\n",
       "  display: inline-block;\n",
       "  padding: 0;\n",
       "  margin: 0;\n",
       "}\n",
       "\n",
       ".xr-dim-list:before {\n",
       "  content: '(';\n",
       "}\n",
       "\n",
       ".xr-dim-list:after {\n",
       "  content: ')';\n",
       "}\n",
       "\n",
       ".xr-dim-list li:not(:last-child):after {\n",
       "  content: ',';\n",
       "  padding-right: 5px;\n",
       "}\n",
       "\n",
       ".xr-has-index {\n",
       "  font-weight: bold;\n",
       "}\n",
       "\n",
       ".xr-var-list,\n",
       ".xr-var-item {\n",
       "  display: contents;\n",
       "}\n",
       "\n",
       ".xr-var-item > div,\n",
       ".xr-var-item label,\n",
       ".xr-var-item > .xr-var-name span {\n",
       "  background-color: var(--xr-background-color-row-even);\n",
       "  margin-bottom: 0;\n",
       "}\n",
       "\n",
       ".xr-var-item > .xr-var-name:hover span {\n",
       "  padding-right: 5px;\n",
       "}\n",
       "\n",
       ".xr-var-list > li:nth-child(odd) > div,\n",
       ".xr-var-list > li:nth-child(odd) > label,\n",
       ".xr-var-list > li:nth-child(odd) > .xr-var-name span {\n",
       "  background-color: var(--xr-background-color-row-odd);\n",
       "}\n",
       "\n",
       ".xr-var-name {\n",
       "  grid-column: 1;\n",
       "}\n",
       "\n",
       ".xr-var-dims {\n",
       "  grid-column: 2;\n",
       "}\n",
       "\n",
       ".xr-var-dtype {\n",
       "  grid-column: 3;\n",
       "  text-align: right;\n",
       "  color: var(--xr-font-color2);\n",
       "}\n",
       "\n",
       ".xr-var-preview {\n",
       "  grid-column: 4;\n",
       "}\n",
       "\n",
       ".xr-index-preview {\n",
       "  grid-column: 2 / 5;\n",
       "  color: var(--xr-font-color2);\n",
       "}\n",
       "\n",
       ".xr-var-name,\n",
       ".xr-var-dims,\n",
       ".xr-var-dtype,\n",
       ".xr-preview,\n",
       ".xr-attrs dt {\n",
       "  white-space: nowrap;\n",
       "  overflow: hidden;\n",
       "  text-overflow: ellipsis;\n",
       "  padding-right: 10px;\n",
       "}\n",
       "\n",
       ".xr-var-name:hover,\n",
       ".xr-var-dims:hover,\n",
       ".xr-var-dtype:hover,\n",
       ".xr-attrs dt:hover {\n",
       "  overflow: visible;\n",
       "  width: auto;\n",
       "  z-index: 1;\n",
       "}\n",
       "\n",
       ".xr-var-attrs,\n",
       ".xr-var-data,\n",
       ".xr-index-data {\n",
       "  display: none;\n",
       "  background-color: var(--xr-background-color) !important;\n",
       "  padding-bottom: 5px !important;\n",
       "}\n",
       "\n",
       ".xr-var-attrs-in:checked ~ .xr-var-attrs,\n",
       ".xr-var-data-in:checked ~ .xr-var-data,\n",
       ".xr-index-data-in:checked ~ .xr-index-data {\n",
       "  display: block;\n",
       "}\n",
       "\n",
       ".xr-var-data > table {\n",
       "  float: right;\n",
       "}\n",
       "\n",
       ".xr-var-name span,\n",
       ".xr-var-data,\n",
       ".xr-index-name div,\n",
       ".xr-index-data,\n",
       ".xr-attrs {\n",
       "  padding-left: 25px !important;\n",
       "}\n",
       "\n",
       ".xr-attrs,\n",
       ".xr-var-attrs,\n",
       ".xr-var-data,\n",
       ".xr-index-data {\n",
       "  grid-column: 1 / -1;\n",
       "}\n",
       "\n",
       "dl.xr-attrs {\n",
       "  padding: 0;\n",
       "  margin: 0;\n",
       "  display: grid;\n",
       "  grid-template-columns: 125px auto;\n",
       "}\n",
       "\n",
       ".xr-attrs dt,\n",
       ".xr-attrs dd {\n",
       "  padding: 0;\n",
       "  margin: 0;\n",
       "  float: left;\n",
       "  padding-right: 10px;\n",
       "  width: auto;\n",
       "}\n",
       "\n",
       ".xr-attrs dt {\n",
       "  font-weight: normal;\n",
       "  grid-column: 1;\n",
       "}\n",
       "\n",
       ".xr-attrs dt:hover span {\n",
       "  display: inline-block;\n",
       "  background: var(--xr-background-color);\n",
       "  padding-right: 10px;\n",
       "}\n",
       "\n",
       ".xr-attrs dd {\n",
       "  grid-column: 2;\n",
       "  white-space: pre-wrap;\n",
       "  word-break: break-all;\n",
       "}\n",
       "\n",
       ".xr-icon-database,\n",
       ".xr-icon-file-text2,\n",
       ".xr-no-icon {\n",
       "  display: inline-block;\n",
       "  vertical-align: middle;\n",
       "  width: 1em;\n",
       "  height: 1.5em !important;\n",
       "  stroke-width: 0;\n",
       "  stroke: currentColor;\n",
       "  fill: currentColor;\n",
       "}\n",
       "</style><pre class='xr-text-repr-fallback'>&lt;xarray.Dataset&gt;\n",
       "Dimensions:      (n: 2, lat: 720, lon: 1440, time: 276, bnds: 2)\n",
       "Coordinates:\n",
       "    date_bounds  (n) float32 dask.array&lt;chunksize=(2,), meta=np.ndarray&gt;\n",
       "  * lat          (lat) float32 -89.88 -89.62 -89.38 -89.12 ... 89.38 89.62 89.88\n",
       "  * lon          (lon) float64 -179.9 -179.6 -179.4 -179.1 ... 179.4 179.6 179.9\n",
       "  * time         (time) datetime64[ns] 1993-01-16T12:00:00 ... 2015-12-16T12:...\n",
       "    time_bnds    (time, bnds) datetime64[ns] dask.array&lt;chunksize=(276, 2), meta=np.ndarray&gt;\n",
       "Dimensions without coordinates: n, bnds\n",
       "Data variables:\n",
       "    sla          (time, lat, lon) float32 dask.array&lt;chunksize=(1, 720, 720), meta=np.ndarray&gt;\n",
       "Attributes: (12/18)\n",
       "    Conventions:                CF-1.7\n",
       "    title:                      esacci.SEALEVEL.mon.L4.MSLA.multi-sensor.mult...\n",
       "    date_created:               2023-01-20T16:47:16.781229\n",
       "    processing_level:           L4\n",
       "    time_coverage_start:        1993-01-01T00:00:00\n",
       "    time_coverage_end:          2016-01-01T00:00:00\n",
       "    ...                         ...\n",
       "    geospatial_lat_resolution:  0.25\n",
       "    geospatial_lat_min:         -90.0\n",
       "    geospatial_lat_max:         90.0\n",
       "    geospatial_lat_units:       degrees_north\n",
       "    geospatial_bounds_crs:      CRS84\n",
       "    geospatial_bounds:          POLYGON((-180.0 -90.0, -180.0 90.0, 180.0 90....</pre><div class='xr-wrap' style='display:none'><div class='xr-header'><div class='xr-obj-type'>xarray.Dataset</div></div><ul class='xr-sections'><li class='xr-section-item'><input id='section-26212fc5-6d46-4c9f-b84b-3914cd1af996' class='xr-section-summary-in' type='checkbox' disabled ><label for='section-26212fc5-6d46-4c9f-b84b-3914cd1af996' class='xr-section-summary'  title='Expand/collapse section'>Dimensions:</label><div class='xr-section-inline-details'><ul class='xr-dim-list'><li><span>n</span>: 2</li><li><span class='xr-has-index'>lat</span>: 720</li><li><span class='xr-has-index'>lon</span>: 1440</li><li><span class='xr-has-index'>time</span>: 276</li><li><span>bnds</span>: 2</li></ul></div><div class='xr-section-details'></div></li><li class='xr-section-item'><input id='section-6d672037-1c66-4eeb-9842-21044b09e993' class='xr-section-summary-in' type='checkbox'  checked><label for='section-6d672037-1c66-4eeb-9842-21044b09e993' class='xr-section-summary' >Coordinates: <span>(5)</span></label><div class='xr-section-inline-details'></div><div class='xr-section-details'><ul class='xr-var-list'><li class='xr-var-item'><div class='xr-var-name'><span>date_bounds</span></div><div class='xr-var-dims'>(n)</div><div class='xr-var-dtype'>float32</div><div class='xr-var-preview xr-preview'>dask.array&lt;chunksize=(2,), meta=np.ndarray&gt;</div><input id='attrs-21af6844-c470-4a32-8d68-b66d4df63852' class='xr-var-attrs-in' type='checkbox' ><label for='attrs-21af6844-c470-4a32-8d68-b66d4df63852' title='Show/Hide attributes'><svg class='icon xr-icon-file-text2'><use xlink:href='#icon-file-text2'></use></svg></label><input id='data-4e500fcd-92d1-4646-9d99-aacfb9b088ce' class='xr-var-data-in' type='checkbox'><label for='data-4e500fcd-92d1-4646-9d99-aacfb9b088ce' title='Show/Hide data repr'><svg class='icon xr-icon-database'><use xlink:href='#icon-database'></use></svg></label><div class='xr-var-attrs'><dl class='xr-attrs'><dt><span>orig_data_type :</span></dt><dd>float32</dd><dt><span>fill_value :</span></dt><dd>nan</dd><dt><span>size :</span></dt><dd>2</dd><dt><span>shape :</span></dt><dd>[2]</dd><dt><span>chunk_sizes :</span></dt><dd>[2]</dd><dt><span>file_chunk_sizes :</span></dt><dd>[2]</dd><dt><span>data_type :</span></dt><dd>float32</dd><dt><span>dimensions :</span></dt><dd>[&#x27;n&#x27;]</dd><dt><span>file_dimensions :</span></dt><dd>[&#x27;n&#x27;]</dd></dl></div><div class='xr-var-data'><table>\n",
       "    <tr>\n",
       "        <td>\n",
       "            <table style=\"border-collapse: collapse;\">\n",
       "                <thead>\n",
       "                    <tr>\n",
       "                        <td> </td>\n",
       "                        <th> Array </th>\n",
       "                        <th> Chunk </th>\n",
       "                    </tr>\n",
       "                </thead>\n",
       "                <tbody>\n",
       "                    \n",
       "                    <tr>\n",
       "                        <th> Bytes </th>\n",
       "                        <td> 8 B </td>\n",
       "                        <td> 8 B </td>\n",
       "                    </tr>\n",
       "                    \n",
       "                    <tr>\n",
       "                        <th> Shape </th>\n",
       "                        <td> (2,) </td>\n",
       "                        <td> (2,) </td>\n",
       "                    </tr>\n",
       "                    <tr>\n",
       "                        <th> Dask graph </th>\n",
       "                        <td colspan=\"2\"> 1 chunks in 2 graph layers </td>\n",
       "                    </tr>\n",
       "                    <tr>\n",
       "                        <th> Data type </th>\n",
       "                        <td colspan=\"2\"> float32 numpy.ndarray </td>\n",
       "                    </tr>\n",
       "                </tbody>\n",
       "            </table>\n",
       "        </td>\n",
       "        <td>\n",
       "        <svg width=\"170\" height=\"110\" style=\"stroke:rgb(0,0,0);stroke-width:1\" >\n",
       "\n",
       "  <!-- Horizontal lines -->\n",
       "  <line x1=\"0\" y1=\"0\" x2=\"120\" y2=\"0\" style=\"stroke-width:2\" />\n",
       "  <line x1=\"0\" y1=\"60\" x2=\"120\" y2=\"60\" style=\"stroke-width:2\" />\n",
       "\n",
       "  <!-- Vertical lines -->\n",
       "  <line x1=\"0\" y1=\"0\" x2=\"0\" y2=\"60\" style=\"stroke-width:2\" />\n",
       "  <line x1=\"120\" y1=\"0\" x2=\"120\" y2=\"60\" style=\"stroke-width:2\" />\n",
       "\n",
       "  <!-- Colored Rectangle -->\n",
       "  <polygon points=\"0.0,0.0 120.0,0.0 120.0,60.0 0.0,60.0\" style=\"fill:#ECB172A0;stroke-width:0\"/>\n",
       "\n",
       "  <!-- Text -->\n",
       "  <text x=\"60.000000\" y=\"80.000000\" font-size=\"1.0rem\" font-weight=\"100\" text-anchor=\"middle\" >2</text>\n",
       "  <text x=\"140.000000\" y=\"30.000000\" font-size=\"1.0rem\" font-weight=\"100\" text-anchor=\"middle\" transform=\"rotate(0,140.000000,30.000000)\">1</text>\n",
       "</svg>\n",
       "        </td>\n",
       "    </tr>\n",
       "</table></div></li><li class='xr-var-item'><div class='xr-var-name'><span class='xr-has-index'>lat</span></div><div class='xr-var-dims'>(lat)</div><div class='xr-var-dtype'>float32</div><div class='xr-var-preview xr-preview'>-89.88 -89.62 ... 89.62 89.88</div><input id='attrs-71b790a3-14be-4c16-b166-865af408ca2a' class='xr-var-attrs-in' type='checkbox' ><label for='attrs-71b790a3-14be-4c16-b166-865af408ca2a' title='Show/Hide attributes'><svg class='icon xr-icon-file-text2'><use xlink:href='#icon-file-text2'></use></svg></label><input id='data-91bffda7-8db6-4a57-a89d-5aaae2279610' class='xr-var-data-in' type='checkbox'><label for='data-91bffda7-8db6-4a57-a89d-5aaae2279610' title='Show/Hide data repr'><svg class='icon xr-icon-database'><use xlink:href='#icon-database'></use></svg></label><div class='xr-var-attrs'><dl class='xr-attrs'><dt><span>long_name :</span></dt><dd>Latitude</dd><dt><span>standard_name :</span></dt><dd>latitude</dd><dt><span>units :</span></dt><dd>degrees_north</dd><dt><span>axis :</span></dt><dd>Y</dd><dt><span>valid_min :</span></dt><dd>-89.875</dd><dt><span>valid_max :</span></dt><dd>89.875</dd><dt><span>orig_data_type :</span></dt><dd>float32</dd><dt><span>fill_value :</span></dt><dd>nan</dd><dt><span>size :</span></dt><dd>720</dd><dt><span>shape :</span></dt><dd>[720]</dd><dt><span>chunk_sizes :</span></dt><dd>[720]</dd><dt><span>file_chunk_sizes :</span></dt><dd>[720]</dd><dt><span>data_type :</span></dt><dd>float32</dd><dt><span>dimensions :</span></dt><dd>[&#x27;lat&#x27;]</dd><dt><span>file_dimensions :</span></dt><dd>[&#x27;lat&#x27;]</dd></dl></div><div class='xr-var-data'><pre>array([-89.875, -89.625, -89.375, ...,  89.375,  89.625,  89.875],\n",
       "      dtype=float32)</pre></div></li><li class='xr-var-item'><div class='xr-var-name'><span class='xr-has-index'>lon</span></div><div class='xr-var-dims'>(lon)</div><div class='xr-var-dtype'>float64</div><div class='xr-var-preview xr-preview'>-179.9 -179.6 ... 179.6 179.9</div><input id='attrs-326bea9d-bb83-491c-bed7-1947dc74dd38' class='xr-var-attrs-in' type='checkbox' ><label for='attrs-326bea9d-bb83-491c-bed7-1947dc74dd38' title='Show/Hide attributes'><svg class='icon xr-icon-file-text2'><use xlink:href='#icon-file-text2'></use></svg></label><input id='data-f2955ef8-9628-4dd1-99e1-7dfa348ff063' class='xr-var-data-in' type='checkbox'><label for='data-f2955ef8-9628-4dd1-99e1-7dfa348ff063' title='Show/Hide data repr'><svg class='icon xr-icon-database'><use xlink:href='#icon-database'></use></svg></label><div class='xr-var-attrs'><dl class='xr-attrs'><dt><span>long_name :</span></dt><dd>longitude</dd><dt><span>standard_name :</span></dt><dd>longitude</dd><dt><span>units :</span></dt><dd>degrees east</dd></dl></div><div class='xr-var-data'><pre>array([-179.875, -179.625, -179.375, ...,  179.375,  179.625,  179.875])</pre></div></li><li class='xr-var-item'><div class='xr-var-name'><span class='xr-has-index'>time</span></div><div class='xr-var-dims'>(time)</div><div class='xr-var-dtype'>datetime64[ns]</div><div class='xr-var-preview xr-preview'>1993-01-16T12:00:00 ... 2015-12-...</div><input id='attrs-99160684-2789-408f-9f21-2b485d88796b' class='xr-var-attrs-in' type='checkbox' ><label for='attrs-99160684-2789-408f-9f21-2b485d88796b' title='Show/Hide attributes'><svg class='icon xr-icon-file-text2'><use xlink:href='#icon-file-text2'></use></svg></label><input id='data-6d8fc4fc-6ee0-4f9b-a4ea-420b71c710aa' class='xr-var-data-in' type='checkbox'><label for='data-6d8fc4fc-6ee0-4f9b-a4ea-420b71c710aa' title='Show/Hide data repr'><svg class='icon xr-icon-database'><use xlink:href='#icon-database'></use></svg></label><div class='xr-var-attrs'><dl class='xr-attrs'><dt><span>standard_name :</span></dt><dd>time</dd><dt><span>bounds :</span></dt><dd>time_bnds</dd></dl></div><div class='xr-var-data'><pre>array([&#x27;1993-01-16T12:00:00.000000000&#x27;, &#x27;1993-02-15T00:00:00.000000000&#x27;,\n",
       "       &#x27;1993-03-16T12:00:00.000000000&#x27;, ..., &#x27;2015-10-16T12:00:00.000000000&#x27;,\n",
       "       &#x27;2015-11-16T00:00:00.000000000&#x27;, &#x27;2015-12-16T12:00:00.000000000&#x27;],\n",
       "      dtype=&#x27;datetime64[ns]&#x27;)</pre></div></li><li class='xr-var-item'><div class='xr-var-name'><span>time_bnds</span></div><div class='xr-var-dims'>(time, bnds)</div><div class='xr-var-dtype'>datetime64[ns]</div><div class='xr-var-preview xr-preview'>dask.array&lt;chunksize=(276, 2), meta=np.ndarray&gt;</div><input id='attrs-5c2daa67-d0ec-4717-9a04-261c23cafe4b' class='xr-var-attrs-in' type='checkbox' ><label for='attrs-5c2daa67-d0ec-4717-9a04-261c23cafe4b' title='Show/Hide attributes'><svg class='icon xr-icon-file-text2'><use xlink:href='#icon-file-text2'></use></svg></label><input id='data-f9f741fe-9e38-420f-9c39-8e359ba3d862' class='xr-var-data-in' type='checkbox'><label for='data-f9f741fe-9e38-420f-9c39-8e359ba3d862' title='Show/Hide data repr'><svg class='icon xr-icon-database'><use xlink:href='#icon-database'></use></svg></label><div class='xr-var-attrs'><dl class='xr-attrs'><dt><span>standard_name :</span></dt><dd>time_bnds</dd></dl></div><div class='xr-var-data'><table>\n",
       "    <tr>\n",
       "        <td>\n",
       "            <table style=\"border-collapse: collapse;\">\n",
       "                <thead>\n",
       "                    <tr>\n",
       "                        <td> </td>\n",
       "                        <th> Array </th>\n",
       "                        <th> Chunk </th>\n",
       "                    </tr>\n",
       "                </thead>\n",
       "                <tbody>\n",
       "                    \n",
       "                    <tr>\n",
       "                        <th> Bytes </th>\n",
       "                        <td> 4.31 kiB </td>\n",
       "                        <td> 4.31 kiB </td>\n",
       "                    </tr>\n",
       "                    \n",
       "                    <tr>\n",
       "                        <th> Shape </th>\n",
       "                        <td> (276, 2) </td>\n",
       "                        <td> (276, 2) </td>\n",
       "                    </tr>\n",
       "                    <tr>\n",
       "                        <th> Dask graph </th>\n",
       "                        <td colspan=\"2\"> 1 chunks in 2 graph layers </td>\n",
       "                    </tr>\n",
       "                    <tr>\n",
       "                        <th> Data type </th>\n",
       "                        <td colspan=\"2\"> datetime64[ns] numpy.ndarray </td>\n",
       "                    </tr>\n",
       "                </tbody>\n",
       "            </table>\n",
       "        </td>\n",
       "        <td>\n",
       "        <svg width=\"75\" height=\"170\" style=\"stroke:rgb(0,0,0);stroke-width:1\" >\n",
       "\n",
       "  <!-- Horizontal lines -->\n",
       "  <line x1=\"0\" y1=\"0\" x2=\"25\" y2=\"0\" style=\"stroke-width:2\" />\n",
       "  <line x1=\"0\" y1=\"120\" x2=\"25\" y2=\"120\" style=\"stroke-width:2\" />\n",
       "\n",
       "  <!-- Vertical lines -->\n",
       "  <line x1=\"0\" y1=\"0\" x2=\"0\" y2=\"120\" style=\"stroke-width:2\" />\n",
       "  <line x1=\"25\" y1=\"0\" x2=\"25\" y2=\"120\" style=\"stroke-width:2\" />\n",
       "\n",
       "  <!-- Colored Rectangle -->\n",
       "  <polygon points=\"0.0,0.0 25.412616514582485,0.0 25.412616514582485,120.0 0.0,120.0\" style=\"fill:#ECB172A0;stroke-width:0\"/>\n",
       "\n",
       "  <!-- Text -->\n",
       "  <text x=\"12.706308\" y=\"140.000000\" font-size=\"1.0rem\" font-weight=\"100\" text-anchor=\"middle\" >2</text>\n",
       "  <text x=\"45.412617\" y=\"60.000000\" font-size=\"1.0rem\" font-weight=\"100\" text-anchor=\"middle\" transform=\"rotate(-90,45.412617,60.000000)\">276</text>\n",
       "</svg>\n",
       "        </td>\n",
       "    </tr>\n",
       "</table></div></li></ul></div></li><li class='xr-section-item'><input id='section-c65d21cd-23d3-434e-9fbb-4f481a92f757' class='xr-section-summary-in' type='checkbox'  checked><label for='section-c65d21cd-23d3-434e-9fbb-4f481a92f757' class='xr-section-summary' >Data variables: <span>(1)</span></label><div class='xr-section-inline-details'></div><div class='xr-section-details'><ul class='xr-var-list'><li class='xr-var-item'><div class='xr-var-name'><span>sla</span></div><div class='xr-var-dims'>(time, lat, lon)</div><div class='xr-var-dtype'>float32</div><div class='xr-var-preview xr-preview'>dask.array&lt;chunksize=(1, 720, 720), meta=np.ndarray&gt;</div><input id='attrs-a6e9d00a-655e-4118-9462-a95618664b81' class='xr-var-attrs-in' type='checkbox' ><label for='attrs-a6e9d00a-655e-4118-9462-a95618664b81' title='Show/Hide attributes'><svg class='icon xr-icon-file-text2'><use xlink:href='#icon-file-text2'></use></svg></label><input id='data-366ea261-9962-4348-9222-c90ca3f6bda8' class='xr-var-data-in' type='checkbox'><label for='data-366ea261-9962-4348-9222-c90ca3f6bda8' title='Show/Hide data repr'><svg class='icon xr-icon-database'><use xlink:href='#icon-database'></use></svg></label><div class='xr-var-attrs'><dl class='xr-attrs'><dt><span>long_name :</span></dt><dd>Monthly sea level anomalies</dd><dt><span>standard_name :</span></dt><dd>sea_surface_height_above_sea_level</dd><dt><span>units :</span></dt><dd>m</dd><dt><span>orig_data_type :</span></dt><dd>float32</dd><dt><span>fill_value :</span></dt><dd>1.8446744e+19</dd><dt><span>size :</span></dt><dd>286156800</dd><dt><span>shape :</span></dt><dd>[276, 720, 1440]</dd><dt><span>chunk_sizes :</span></dt><dd>[1, 720, 720]</dd><dt><span>file_chunk_sizes :</span></dt><dd>[720, 720]</dd><dt><span>data_type :</span></dt><dd>float32</dd><dt><span>dimensions :</span></dt><dd>[&#x27;time&#x27;, &#x27;lat&#x27;, &#x27;lon&#x27;]</dd><dt><span>file_dimensions :</span></dt><dd>[&#x27;lat&#x27;, &#x27;lon&#x27;]</dd></dl></div><div class='xr-var-data'><table>\n",
       "    <tr>\n",
       "        <td>\n",
       "            <table style=\"border-collapse: collapse;\">\n",
       "                <thead>\n",
       "                    <tr>\n",
       "                        <td> </td>\n",
       "                        <th> Array </th>\n",
       "                        <th> Chunk </th>\n",
       "                    </tr>\n",
       "                </thead>\n",
       "                <tbody>\n",
       "                    \n",
       "                    <tr>\n",
       "                        <th> Bytes </th>\n",
       "                        <td> 1.07 GiB </td>\n",
       "                        <td> 1.98 MiB </td>\n",
       "                    </tr>\n",
       "                    \n",
       "                    <tr>\n",
       "                        <th> Shape </th>\n",
       "                        <td> (276, 720, 1440) </td>\n",
       "                        <td> (1, 720, 720) </td>\n",
       "                    </tr>\n",
       "                    <tr>\n",
       "                        <th> Dask graph </th>\n",
       "                        <td colspan=\"2\"> 552 chunks in 5 graph layers </td>\n",
       "                    </tr>\n",
       "                    <tr>\n",
       "                        <th> Data type </th>\n",
       "                        <td colspan=\"2\"> float32 numpy.ndarray </td>\n",
       "                    </tr>\n",
       "                </tbody>\n",
       "            </table>\n",
       "        </td>\n",
       "        <td>\n",
       "        <svg width=\"204\" height=\"134\" style=\"stroke:rgb(0,0,0);stroke-width:1\" >\n",
       "\n",
       "  <!-- Horizontal lines -->\n",
       "  <line x1=\"10\" y1=\"0\" x2=\"34\" y2=\"24\" style=\"stroke-width:2\" />\n",
       "  <line x1=\"10\" y1=\"60\" x2=\"34\" y2=\"84\" style=\"stroke-width:2\" />\n",
       "\n",
       "  <!-- Vertical lines -->\n",
       "  <line x1=\"10\" y1=\"0\" x2=\"10\" y2=\"60\" style=\"stroke-width:2\" />\n",
       "  <line x1=\"11\" y1=\"1\" x2=\"11\" y2=\"61\" />\n",
       "  <line x1=\"12\" y1=\"2\" x2=\"12\" y2=\"62\" />\n",
       "  <line x1=\"13\" y1=\"3\" x2=\"13\" y2=\"63\" />\n",
       "  <line x1=\"15\" y1=\"5\" x2=\"15\" y2=\"65\" />\n",
       "  <line x1=\"16\" y1=\"6\" x2=\"16\" y2=\"66\" />\n",
       "  <line x1=\"17\" y1=\"7\" x2=\"17\" y2=\"67\" />\n",
       "  <line x1=\"19\" y1=\"9\" x2=\"19\" y2=\"69\" />\n",
       "  <line x1=\"20\" y1=\"10\" x2=\"20\" y2=\"70\" />\n",
       "  <line x1=\"21\" y1=\"11\" x2=\"21\" y2=\"71\" />\n",
       "  <line x1=\"22\" y1=\"12\" x2=\"22\" y2=\"72\" />\n",
       "  <line x1=\"24\" y1=\"14\" x2=\"24\" y2=\"74\" />\n",
       "  <line x1=\"25\" y1=\"15\" x2=\"25\" y2=\"75\" />\n",
       "  <line x1=\"26\" y1=\"16\" x2=\"26\" y2=\"76\" />\n",
       "  <line x1=\"28\" y1=\"18\" x2=\"28\" y2=\"78\" />\n",
       "  <line x1=\"29\" y1=\"19\" x2=\"29\" y2=\"79\" />\n",
       "  <line x1=\"30\" y1=\"20\" x2=\"30\" y2=\"80\" />\n",
       "  <line x1=\"31\" y1=\"21\" x2=\"31\" y2=\"81\" />\n",
       "  <line x1=\"33\" y1=\"23\" x2=\"33\" y2=\"83\" />\n",
       "  <line x1=\"34\" y1=\"24\" x2=\"34\" y2=\"84\" style=\"stroke-width:2\" />\n",
       "\n",
       "  <!-- Colored Rectangle -->\n",
       "  <polygon points=\"10.0,0.0 34.60474957977363,24.60474957977363 34.60474957977363,84.60474957977362 10.0,60.0\" style=\"fill:#8B4903A0;stroke-width:0\"/>\n",
       "\n",
       "  <!-- Horizontal lines -->\n",
       "  <line x1=\"10\" y1=\"0\" x2=\"130\" y2=\"0\" style=\"stroke-width:2\" />\n",
       "  <line x1=\"11\" y1=\"1\" x2=\"131\" y2=\"1\" />\n",
       "  <line x1=\"12\" y1=\"2\" x2=\"132\" y2=\"2\" />\n",
       "  <line x1=\"13\" y1=\"3\" x2=\"133\" y2=\"3\" />\n",
       "  <line x1=\"15\" y1=\"5\" x2=\"135\" y2=\"5\" />\n",
       "  <line x1=\"16\" y1=\"6\" x2=\"136\" y2=\"6\" />\n",
       "  <line x1=\"17\" y1=\"7\" x2=\"137\" y2=\"7\" />\n",
       "  <line x1=\"19\" y1=\"9\" x2=\"139\" y2=\"9\" />\n",
       "  <line x1=\"20\" y1=\"10\" x2=\"140\" y2=\"10\" />\n",
       "  <line x1=\"21\" y1=\"11\" x2=\"141\" y2=\"11\" />\n",
       "  <line x1=\"22\" y1=\"12\" x2=\"142\" y2=\"12\" />\n",
       "  <line x1=\"24\" y1=\"14\" x2=\"144\" y2=\"14\" />\n",
       "  <line x1=\"25\" y1=\"15\" x2=\"145\" y2=\"15\" />\n",
       "  <line x1=\"26\" y1=\"16\" x2=\"146\" y2=\"16\" />\n",
       "  <line x1=\"28\" y1=\"18\" x2=\"148\" y2=\"18\" />\n",
       "  <line x1=\"29\" y1=\"19\" x2=\"149\" y2=\"19\" />\n",
       "  <line x1=\"30\" y1=\"20\" x2=\"150\" y2=\"20\" />\n",
       "  <line x1=\"31\" y1=\"21\" x2=\"151\" y2=\"21\" />\n",
       "  <line x1=\"33\" y1=\"23\" x2=\"153\" y2=\"23\" />\n",
       "  <line x1=\"34\" y1=\"24\" x2=\"154\" y2=\"24\" style=\"stroke-width:2\" />\n",
       "\n",
       "  <!-- Vertical lines -->\n",
       "  <line x1=\"10\" y1=\"0\" x2=\"34\" y2=\"24\" style=\"stroke-width:2\" />\n",
       "  <line x1=\"70\" y1=\"0\" x2=\"94\" y2=\"24\" />\n",
       "  <line x1=\"130\" y1=\"0\" x2=\"154\" y2=\"24\" style=\"stroke-width:2\" />\n",
       "\n",
       "  <!-- Colored Rectangle -->\n",
       "  <polygon points=\"10.0,0.0 130.0,0.0 154.60474957977362,24.60474957977363 34.60474957977363,24.60474957977363\" style=\"fill:#8B4903A0;stroke-width:0\"/>\n",
       "\n",
       "  <!-- Horizontal lines -->\n",
       "  <line x1=\"34\" y1=\"24\" x2=\"154\" y2=\"24\" style=\"stroke-width:2\" />\n",
       "  <line x1=\"34\" y1=\"84\" x2=\"154\" y2=\"84\" style=\"stroke-width:2\" />\n",
       "\n",
       "  <!-- Vertical lines -->\n",
       "  <line x1=\"34\" y1=\"24\" x2=\"34\" y2=\"84\" style=\"stroke-width:2\" />\n",
       "  <line x1=\"94\" y1=\"24\" x2=\"94\" y2=\"84\" />\n",
       "  <line x1=\"154\" y1=\"24\" x2=\"154\" y2=\"84\" style=\"stroke-width:2\" />\n",
       "\n",
       "  <!-- Colored Rectangle -->\n",
       "  <polygon points=\"34.60474957977363,24.60474957977363 154.60474957977362,24.60474957977363 154.60474957977362,84.60474957977362 34.60474957977363,84.60474957977362\" style=\"fill:#ECB172A0;stroke-width:0\"/>\n",
       "\n",
       "  <!-- Text -->\n",
       "  <text x=\"94.604750\" y=\"104.604750\" font-size=\"1.0rem\" font-weight=\"100\" text-anchor=\"middle\" >1440</text>\n",
       "  <text x=\"174.604750\" y=\"54.604750\" font-size=\"1.0rem\" font-weight=\"100\" text-anchor=\"middle\" transform=\"rotate(-90,174.604750,54.604750)\">720</text>\n",
       "  <text x=\"12.302375\" y=\"92.302375\" font-size=\"1.0rem\" font-weight=\"100\" text-anchor=\"middle\" transform=\"rotate(45,12.302375,92.302375)\">276</text>\n",
       "</svg>\n",
       "        </td>\n",
       "    </tr>\n",
       "</table></div></li></ul></div></li><li class='xr-section-item'><input id='section-d6d03b3f-f308-4af4-95c6-91983d1a72a7' class='xr-section-summary-in' type='checkbox'  ><label for='section-d6d03b3f-f308-4af4-95c6-91983d1a72a7' class='xr-section-summary' >Indexes: <span>(3)</span></label><div class='xr-section-inline-details'></div><div class='xr-section-details'><ul class='xr-var-list'><li class='xr-var-item'><div class='xr-index-name'><div>lat</div></div><div class='xr-index-preview'>PandasIndex</div><div></div><input id='index-449b1b8e-4a6b-4f1b-bdfc-568a33947e41' class='xr-index-data-in' type='checkbox'/><label for='index-449b1b8e-4a6b-4f1b-bdfc-568a33947e41' title='Show/Hide index repr'><svg class='icon xr-icon-database'><use xlink:href='#icon-database'></use></svg></label><div class='xr-index-data'><pre>PandasIndex(Float64Index([-89.875, -89.625, -89.375, -89.125, -88.875, -88.625, -88.375,\n",
       "              -88.125, -87.875, -87.625,\n",
       "              ...\n",
       "               87.625,  87.875,  88.125,  88.375,  88.625,  88.875,  89.125,\n",
       "               89.375,  89.625,  89.875],\n",
       "             dtype=&#x27;float64&#x27;, name=&#x27;lat&#x27;, length=720))</pre></div></li><li class='xr-var-item'><div class='xr-index-name'><div>lon</div></div><div class='xr-index-preview'>PandasIndex</div><div></div><input id='index-3624e58c-bbff-4d76-9444-57727e86a2d2' class='xr-index-data-in' type='checkbox'/><label for='index-3624e58c-bbff-4d76-9444-57727e86a2d2' title='Show/Hide index repr'><svg class='icon xr-icon-database'><use xlink:href='#icon-database'></use></svg></label><div class='xr-index-data'><pre>PandasIndex(Float64Index([-179.875, -179.625, -179.375, -179.125, -178.875, -178.625,\n",
       "              -178.375, -178.125, -177.875, -177.625,\n",
       "              ...\n",
       "               177.625,  177.875,  178.125,  178.375,  178.625,  178.875,\n",
       "               179.125,  179.375,  179.625,  179.875],\n",
       "             dtype=&#x27;float64&#x27;, name=&#x27;lon&#x27;, length=1440))</pre></div></li><li class='xr-var-item'><div class='xr-index-name'><div>time</div></div><div class='xr-index-preview'>PandasIndex</div><div></div><input id='index-f370ab75-2878-4077-9158-32e3bec7aac8' class='xr-index-data-in' type='checkbox'/><label for='index-f370ab75-2878-4077-9158-32e3bec7aac8' title='Show/Hide index repr'><svg class='icon xr-icon-database'><use xlink:href='#icon-database'></use></svg></label><div class='xr-index-data'><pre>PandasIndex(DatetimeIndex([&#x27;1993-01-16 12:00:00&#x27;, &#x27;1993-02-15 00:00:00&#x27;,\n",
       "               &#x27;1993-03-16 12:00:00&#x27;, &#x27;1993-04-16 00:00:00&#x27;,\n",
       "               &#x27;1993-05-16 12:00:00&#x27;, &#x27;1993-06-16 00:00:00&#x27;,\n",
       "               &#x27;1993-07-16 12:00:00&#x27;, &#x27;1993-08-16 12:00:00&#x27;,\n",
       "               &#x27;1993-09-16 00:00:00&#x27;, &#x27;1993-10-16 12:00:00&#x27;,\n",
       "               ...\n",
       "               &#x27;2015-03-16 12:00:00&#x27;, &#x27;2015-04-16 00:00:00&#x27;,\n",
       "               &#x27;2015-05-16 12:00:00&#x27;, &#x27;2015-06-16 00:00:00&#x27;,\n",
       "               &#x27;2015-07-16 12:00:00&#x27;, &#x27;2015-08-16 12:00:00&#x27;,\n",
       "               &#x27;2015-09-16 00:00:00&#x27;, &#x27;2015-10-16 12:00:00&#x27;,\n",
       "               &#x27;2015-11-16 00:00:00&#x27;, &#x27;2015-12-16 12:00:00&#x27;],\n",
       "              dtype=&#x27;datetime64[ns]&#x27;, name=&#x27;time&#x27;, length=276, freq=None))</pre></div></li></ul></div></li><li class='xr-section-item'><input id='section-5cd09fac-9dd5-4cc2-80fc-efa0397b177e' class='xr-section-summary-in' type='checkbox'  ><label for='section-5cd09fac-9dd5-4cc2-80fc-efa0397b177e' class='xr-section-summary' >Attributes: <span>(18)</span></label><div class='xr-section-inline-details'></div><div class='xr-section-details'><dl class='xr-attrs'><dt><span>Conventions :</span></dt><dd>CF-1.7</dd><dt><span>title :</span></dt><dd>esacci.SEALEVEL.mon.L4.MSLA.multi-sensor.multi-platform.MERGED.2-0.r1</dd><dt><span>date_created :</span></dt><dd>2023-01-20T16:47:16.781229</dd><dt><span>processing_level :</span></dt><dd>L4</dd><dt><span>time_coverage_start :</span></dt><dd>1993-01-01T00:00:00</dd><dt><span>time_coverage_end :</span></dt><dd>2016-01-01T00:00:00</dd><dt><span>time_coverage_duration :</span></dt><dd>P8400DT0H0M0S</dd><dt><span>history :</span></dt><dd>[{&#x27;program&#x27;: &#x27;xcube_cci.chunkstore.CciChunkStore&#x27;, &#x27;cube_params&#x27;: {&#x27;time_range&#x27;: [&#x27;1993-01-01T00:00:00&#x27;, &#x27;2015-12-31T23:59:59&#x27;], &#x27;variable_names&#x27;: [&#x27;sla&#x27;]}}]</dd><dt><span>geospatial_lon_resolution :</span></dt><dd>0.25</dd><dt><span>geospatial_lon_min :</span></dt><dd>-180.0</dd><dt><span>geospatial_lon_max :</span></dt><dd>180.0</dd><dt><span>geospatial_lon_units :</span></dt><dd>degrees east</dd><dt><span>geospatial_lat_resolution :</span></dt><dd>0.25</dd><dt><span>geospatial_lat_min :</span></dt><dd>-90.0</dd><dt><span>geospatial_lat_max :</span></dt><dd>90.0</dd><dt><span>geospatial_lat_units :</span></dt><dd>degrees_north</dd><dt><span>geospatial_bounds_crs :</span></dt><dd>CRS84</dd><dt><span>geospatial_bounds :</span></dt><dd>POLYGON((-180.0 -90.0, -180.0 90.0, 180.0 90.0, 180.0 -90.0, -180.0 -90.0))</dd></dl></div></li></ul></div></div>"
      ],
      "text/plain": [
       "<xarray.Dataset>\n",
       "Dimensions:      (n: 2, lat: 720, lon: 1440, time: 276, bnds: 2)\n",
       "Coordinates:\n",
       "    date_bounds  (n) float32 dask.array<chunksize=(2,), meta=np.ndarray>\n",
       "  * lat          (lat) float32 -89.88 -89.62 -89.38 -89.12 ... 89.38 89.62 89.88\n",
       "  * lon          (lon) float64 -179.9 -179.6 -179.4 -179.1 ... 179.4 179.6 179.9\n",
       "  * time         (time) datetime64[ns] 1993-01-16T12:00:00 ... 2015-12-16T12:...\n",
       "    time_bnds    (time, bnds) datetime64[ns] dask.array<chunksize=(276, 2), meta=np.ndarray>\n",
       "Dimensions without coordinates: n, bnds\n",
       "Data variables:\n",
       "    sla          (time, lat, lon) float32 dask.array<chunksize=(1, 720, 720), meta=np.ndarray>\n",
       "Attributes: (12/18)\n",
       "    Conventions:                CF-1.7\n",
       "    title:                      esacci.SEALEVEL.mon.L4.MSLA.multi-sensor.mult...\n",
       "    date_created:               2023-01-20T16:47:16.781229\n",
       "    processing_level:           L4\n",
       "    time_coverage_start:        1993-01-01T00:00:00\n",
       "    time_coverage_end:          2016-01-01T00:00:00\n",
       "    ...                         ...\n",
       "    geospatial_lat_resolution:  0.25\n",
       "    geospatial_lat_min:         -90.0\n",
       "    geospatial_lat_max:         90.0\n",
       "    geospatial_lat_units:       degrees_north\n",
       "    geospatial_bounds_crs:      CRS84\n",
       "    geospatial_bounds:          POLYGON((-180.0 -90.0, -180.0 90.0, 180.0 90...."
      ]
     },
     "execution_count": 14,
     "metadata": {},
     "output_type": "execute_result"
    }
   ],
   "source": [
    "msla_dataset = odp_store.open_data(data_id)\n",
    "msla_dataset"
   ]
  },
  {
   "cell_type": "code",
   "execution_count": 15,
   "id": "88a704bc-0cd9-45fe-9c00-0d83db0c30ae",
   "metadata": {},
   "outputs": [
    {
     "data": {
      "text/plain": [
       "<matplotlib.image.AxesImage at 0x7fad144fba30>"
      ]
     },
     "execution_count": 15,
     "metadata": {},
     "output_type": "execute_result"
    },
    {
     "data": {
      "image/png": "[encoded data removed]",
      "text/plain": [
       "<Figure size 640x480 with 2 Axes>"
      ]
     },
     "metadata": {},
     "output_type": "display_data"
    }
   ],
   "source": [
    "msla_dataset.sla.isel(time=0).plot.imshow(vmin=-0.25, vmax=+0.25, cmap=\"coolwarm\")"
   ]
  },
  {
   "cell_type": "markdown",
   "id": "da59a8bd-d993-4f55-aeca-d7071cd32c2b",
   "metadata": {},
   "source": [
    "## CCI Oceanic Indicators of Mean Sea Level Changes (MSLAMPH), Version 2.0"
   ]
  },
  {
   "cell_type": "code",
   "execution_count": 16,
   "id": "d589bd7b-9361-4953-9f27-bbc65a32fa77",
   "metadata": {},
   "outputs": [],
   "source": [
    "data_id = \"esacci.SEALEVEL.mon.IND.MSLAMPH.multi-sensor.multi-platform.MERGED.2-0.r1\""
   ]
  },
  {
   "cell_type": "code",
   "execution_count": 17,
   "id": "5c97590a-5c4f-465f-8ed1-b50db1685b24",
   "metadata": {},
   "outputs": [
    {
     "data": {
      "application/json": {
       "attrs": {
        "abstract": "As part of the European Space Agency's (ESA) Sea Level Climate Change Initiative (CCI) project, a number of oceanic indicators of mean sea level changes have been produced from merging satellite altimetry measurements of sea level anomalies.  The oceanic indicators dataset consists of static files covering the whole altimeter period, describing the evolution of the project's monthly sea level anomaly gridded product (see separate dataset record).\n\nThe oceanic indicators that are provided are: \n1) the temporal evolution of the global Mean Sea Level (MSL) DOI: 10.5270/esa-sea_level_cci-IND_MSL_MERGED-1993_2015-v_2.0-201612 ;\n2) the geographic distribution of Mean Sea Level changes (MSLTR) DOI: 10.5270/esa-sea_level_cci-IND_MSLTR_MERGED-1993_2015-v_2.0-201612 ;\n3) Maps of the amplitude and phase of the annual cycle (MSLAMPH) DOI: 10.5270/esa-sea_level_cci-IND_MSLAMPH_MERGED-1993_2015-v_2.0-201612.\n\nThe complete collection of v2.0 products from the Sea Level CCI project can be referenced using the following  DOI: 10.5270/esa-sea_level_cci-1993_2015-v_2.0-201612.\n\nWhen using or referring to the SL_cci products, please mention the associated DOIs and also use the following citation where a detailed description of the SL_cci project and products can be found:\n\nAblain, M., Cazenave, A., Larnicol, G., Balmaseda, M., Cipollini, P., Faugère, Y., Fernandes, M. J., Henry, O., Johannessen, J. A., Knudsen, P., Andersen, O., Legeais, J., Meyssignac, B., Picot, N., Roca, M., Rudenko, S., Scharffenberg, M. G., Stammer, D., Timms, G., and Benveniste, J.: Improved sea level record over the satellite altimetry era (1993–2010) from the Climate Change Initiative project, Ocean Sci., 11, 67-82, doi:10.5194/os-11-67-2015, 2015.\n\nFor further information on the Sea Level CCI products, and to register for these products please email: info-sealevel@esa-sealevel-cci.org\n\n",
        "catalog_url": "https://catalogue.ceda.ac.uk/uuid/3ac333b828b54e3495c7749f5bce2fe3",
        "cci_project": "SEALEVEL",
        "comment": "These data were produced at CLS as part of the ESA Sea Level CCI project.",
        "data_type": "MSLAMPH",
        "ecv": "SEALEVEL",
        "history": "2016-12-02 00:00:00 : creation",
        "platform_id": "multi-platform",
        "processing_level": "IND",
        "product_string": "MERGED",
        "product_version": "2-0",
        "project": "Climate Change Initiative - European Space Agency",
        "publication_date": "2017-01-24T17:41:04",
        "references": "http://www.esa-sealevel-cci.org/products",
        "sensor_id": "multi-sensor",
        "source": "ERS-1 Phase C OPR V6, ERS-1 Phase E OPR V3, ERS-1 Phase F OPR V3, ERS-1 Phase G OPR V6, ERS-2 OPR V6, Envisat V2.1, TOPEX/Poseidon MGDR, Jason-1 GDR-C, Jason-2 GDR-D, GFO GDR NOAA, CryoSat-2 CCP CNES, SARAL GDR-T patch 2",
        "title": "ESA Sea Level Climate Change Initiative (Sea_Level_cci): Oceanic Indicators of Mean Sea Level Changes,  Version 2.0",
        "uuid": "3ac333b828b54e3495c7749f5bce2fe3"
       },
       "bbox": [
        -180,
        -90,
        180,
        90
       ],
       "coords": {
        "lat": {
         "attrs": {
          "axis": "Y",
          "chunk_sizes": [
           720
          ],
          "data_type": "float32",
          "dimensions": [
           "lat"
          ],
          "file_chunk_sizes": [
           720
          ],
          "file_dimensions": [
           "lat"
          ],
          "fill_value": null,
          "long_name": "Latitude",
          "orig_data_type": "float32",
          "shape": [
           720
          ],
          "size": 720,
          "standard_name": "latitude",
          "units": "degrees_north",
          "valid_max": 89.875,
          "valid_min": -89.875
         },
         "dims": [
          "lat"
         ],
         "dtype": "float32",
         "name": "lat"
        },
        "lon": {
         "attrs": {
          "axis": "X",
          "chunk_sizes": [
           1440
          ],
          "data_type": "float32",
          "dimensions": [
           "lon"
          ],
          "file_chunk_sizes": [
           1440
          ],
          "file_dimensions": [
           "lon"
          ],
          "fill_value": null,
          "long_name": "Longitude",
          "orig_data_type": "float32",
          "shape": [
           1440
          ],
          "size": 1440,
          "standard_name": "longitude",
          "units": "degrees_east",
          "valid_max": 359.875,
          "valid_min": 0.125
         },
         "dims": [
          "lon"
         ],
         "dtype": "float32",
         "name": "lon"
        },
        "period": {
         "attrs": {
          "chunk_sizes": [
           2
          ],
          "data_type": "float32",
          "dimensions": [
           "period"
          ],
          "file_chunk_sizes": [
           2
          ],
          "file_dimensions": [
           "period"
          ],
          "fill_value": null,
          "long_name": "Period of signal",
          "orig_data_type": "float32",
          "shape": [
           2
          ],
          "size": 2,
          "standard_name": "harmonic_period",
          "units": "year"
         },
         "dims": [
          "period"
         ],
         "dtype": "float32",
         "name": "period"
        },
        "time": {
         "attrs": {
          "chunk_sizes": [
           276
          ],
          "data_type": "float32",
          "dimensions": [
           "time"
          ],
          "file_chunk_sizes": [
           276
          ],
          "file_dimensions": [
           "time"
          ],
          "fill_value": null,
          "long_name": "time",
          "orig_data_type": "float32",
          "shape": [
           276
          ],
          "size": 276,
          "standard_name": "time",
          "units": "days since 1950-01-01"
         },
         "dims": [
          "time"
         ],
         "dtype": "float32",
         "name": "time"
        },
        "time_bnds": {
         "attrs": {
          "calendar": "proleptic_gregorian",
          "standard_name": "time_bnds",
          "units": "seconds since 1970-01-01T00:00:00Z"
         },
         "dims": [
          "time",
          "period"
         ],
         "dtype": "int64",
         "name": "time_bnds"
        }
       },
       "crs": "WGS84",
       "data_id": "esacci.SEALEVEL.mon.IND.MSLAMPH.multi-sensor.multi-platform.MERGED.2-0.r1",
       "data_type": "dataset",
       "data_vars": {
        "ampl": {
         "attrs": {
          "chunk_sizes": [
           720,
           1440,
           2
          ],
          "data_type": "float32",
          "dimensions": [
           "lat",
           "lon",
           "period"
          ],
          "file_chunk_sizes": [
           720,
           1440,
           2
          ],
          "file_dimensions": [
           "lat",
           "lon",
           "period"
          ],
          "fill_value": 18446744000000000000,
          "long_name": "Geographical distribution of mean sea level amplitude",
          "orig_data_type": "float32",
          "shape": [
           720,
           1440,
           2
          ],
          "size": 2073600,
          "standard_name": "amplitude_of_global_average_sea_level_change",
          "units": "m"
         },
         "dims": [
          "time",
          "period",
          "lat",
          "lon"
         ],
         "dtype": "float32",
         "name": "ampl"
        },
        "phase": {
         "attrs": {
          "chunk_sizes": [
           720,
           1440,
           2
          ],
          "data_type": "float32",
          "dimensions": [
           "lat",
           "lon",
           "period"
          ],
          "file_chunk_sizes": [
           720,
           1440,
           2
          ],
          "file_dimensions": [
           "lat",
           "lon",
           "period"
          ],
          "fill_value": 18446744000000000000,
          "long_name": "Geographical distribution of mean sea level phase",
          "orig_data_type": "float32",
          "shape": [
           720,
           1440,
           2
          ],
          "size": 2073600,
          "standard_name": "phase_of_global_average_sea_level_change",
          "units": "degrees"
         },
         "dims": [
          "time",
          "period",
          "lat",
          "lon"
         ],
         "dtype": "float32",
         "name": "phase"
        }
       },
       "dims": {
        "lat": 720,
        "lon": 1440,
        "period": 2,
        "time": 276
       },
       "open_params_schema": {
        "additionalProperties": false,
        "properties": {
         "bbox": {
          "items": [
           {
            "maximum": 180,
            "minimum": -180,
            "type": "number"
           },
           {
            "maximum": 90,
            "minimum": -90,
            "type": "number"
           },
           {
            "maximum": 180,
            "minimum": -180,
            "type": "number"
           },
           {
            "maximum": 90,
            "minimum": -90,
            "type": "number"
           }
          ],
          "type": "array"
         },
         "normalize_data": {
          "default": true,
          "type": "boolean"
         },
         "time_range": {
          "items": [
           {
            "format": "date",
            "maxDate": "2015-12-31",
            "minDate": "1993-01-01",
            "type": "string"
           },
           {
            "format": "date",
            "maxDate": "2015-12-31",
            "minDate": "1993-01-01",
            "type": "string"
           }
          ],
          "type": "array"
         },
         "variable_names": {
          "items": {
           "enum": [
            "ampl",
            "phase"
           ],
           "type": "string"
          },
          "type": "array"
         }
        },
        "type": "object"
       },
       "spatial_res": 0.25,
       "time_period": "1M",
       "time_range": [
        "1993-01-01",
        "2015-12-31"
       ]
      },
      "text/plain": [
       "<xcube.core.store.descriptor.DatasetDescriptor at 0x7fad144cf3a0>"
      ]
     },
     "execution_count": 17,
     "metadata": {},
     "output_type": "execute_result"
    }
   ],
   "source": [
    "odp_store.describe_data(data_id)"
   ]
  },
  {
   "cell_type": "code",
   "execution_count": 18,
   "id": "894374a5-eb62-4dd0-8bb6-5a29605fc7c9",
   "metadata": {},
   "outputs": [],
   "source": [
    "# mslamph_dataset = odp_store.open_data(data_id)\n",
    "# raises ValueError: The truth value of a Array is ambiguous. Use a.any() or a.all()."
   ]
  },
  {
   "cell_type": "markdown",
   "id": "c8c1f612-784a-4ffb-b0de-85a75e838878",
   "metadata": {},
   "source": [
    "# Oceanic Indicators of Mean Sea Level Changes (MSLTR), Version 2.0"
   ]
  },
  {
   "cell_type": "code",
   "execution_count": 19,
   "id": "60acc5c4-1ca9-4fee-b6bf-97acedf921da",
   "metadata": {},
   "outputs": [],
   "source": [
    "data_id = \"esacci.SEALEVEL.mon.IND.MSLTR.multi-sensor.multi-platform.MERGED.2-0.r1\""
   ]
  },
  {
   "cell_type": "code",
   "execution_count": 20,
   "id": "a7b89435-07e8-463f-8475-3d7a3239ccec",
   "metadata": {},
   "outputs": [
    {
     "data": {
      "application/json": {
       "attrs": {
        "abstract": "As part of the European Space Agency's (ESA) Sea Level Climate Change Initiative (CCI) project, a number of oceanic indicators of mean sea level changes have been produced from merging satellite altimetry measurements of sea level anomalies.  The oceanic indicators dataset consists of static files covering the whole altimeter period, describing the evolution of the project's monthly sea level anomaly gridded product (see separate dataset record).\n\nThe oceanic indicators that are provided are: \n1) the temporal evolution of the global Mean Sea Level (MSL) DOI: 10.5270/esa-sea_level_cci-IND_MSL_MERGED-1993_2015-v_2.0-201612 ;\n2) the geographic distribution of Mean Sea Level changes (MSLTR) DOI: 10.5270/esa-sea_level_cci-IND_MSLTR_MERGED-1993_2015-v_2.0-201612 ;\n3) Maps of the amplitude and phase of the annual cycle (MSLAMPH) DOI: 10.5270/esa-sea_level_cci-IND_MSLAMPH_MERGED-1993_2015-v_2.0-201612.\n\nThe complete collection of v2.0 products from the Sea Level CCI project can be referenced using the following  DOI: 10.5270/esa-sea_level_cci-1993_2015-v_2.0-201612.\n\nWhen using or referring to the SL_cci products, please mention the associated DOIs and also use the following citation where a detailed description of the SL_cci project and products can be found:\n\nAblain, M., Cazenave, A., Larnicol, G., Balmaseda, M., Cipollini, P., Faugère, Y., Fernandes, M. J., Henry, O., Johannessen, J. A., Knudsen, P., Andersen, O., Legeais, J., Meyssignac, B., Picot, N., Roca, M., Rudenko, S., Scharffenberg, M. G., Stammer, D., Timms, G., and Benveniste, J.: Improved sea level record over the satellite altimetry era (1993–2010) from the Climate Change Initiative project, Ocean Sci., 11, 67-82, doi:10.5194/os-11-67-2015, 2015.\n\nFor further information on the Sea Level CCI products, and to register for these products please email: info-sealevel@esa-sealevel-cci.org\n\n",
        "catalog_url": "https://catalogue.ceda.ac.uk/uuid/3ac333b828b54e3495c7749f5bce2fe3",
        "cci_project": "SEALEVEL",
        "comment": "These data were produced at CLS as part of the ESA Sea Level CCI project.",
        "data_type": "MSLTR",
        "ecv": "SEALEVEL",
        "history": "2016-12-02 00:00:00 : creation",
        "platform_id": "multi-platform",
        "processing_level": "IND",
        "product_string": "MERGED",
        "product_version": "2-0",
        "project": "Climate Change Initiative - European Space Agency",
        "publication_date": "2017-01-24T17:41:04",
        "references": "http://www.esa-sealevel-cci.org/products",
        "sensor_id": "multi-sensor",
        "source": "ERS-1 Phase C OPR V6, ERS-1 Phase E OPR V3, ERS-1 Phase F OPR V3, ERS-1 Phase G OPR V6, ERS-2 OPR V6, Envisat V2.1, TOPEX/Poseidon MGDR, Jason-1 GDR-C, Jason-2 GDR-D, GFO GDR NOAA, CryoSat-2 CCP CNES, SARAL GDR-T patch 2",
        "title": "ESA Sea Level Climate Change Initiative (Sea_Level_cci): Oceanic Indicators of Mean Sea Level Changes,  Version 2.0",
        "uuid": "3ac333b828b54e3495c7749f5bce2fe3"
       },
       "bbox": [
        -180,
        -90,
        180,
        90
       ],
       "coords": {
        "lat": {
         "attrs": {
          "axis": "Y",
          "chunk_sizes": [
           720
          ],
          "data_type": "float32",
          "dimensions": [
           "lat"
          ],
          "file_chunk_sizes": [
           720
          ],
          "file_dimensions": [
           "lat"
          ],
          "fill_value": null,
          "long_name": "Latitude",
          "orig_data_type": "float32",
          "shape": [
           720
          ],
          "size": 720,
          "standard_name": "latitude",
          "units": "degrees_north",
          "valid_max": 89.875,
          "valid_min": -89.875
         },
         "dims": [
          "lat"
         ],
         "dtype": "float32",
         "name": "lat"
        },
        "lon": {
         "attrs": {
          "axis": "X",
          "chunk_sizes": [
           1440
          ],
          "data_type": "float32",
          "dimensions": [
           "lon"
          ],
          "file_chunk_sizes": [
           1440
          ],
          "file_dimensions": [
           "lon"
          ],
          "fill_value": null,
          "long_name": "Longitude",
          "orig_data_type": "float32",
          "shape": [
           1440
          ],
          "size": 1440,
          "standard_name": "longitude",
          "units": "degrees_east",
          "valid_max": 359.875,
          "valid_min": 0.125
         },
         "dims": [
          "lon"
         ],
         "dtype": "float32",
         "name": "lon"
        },
        "time": {
         "attrs": {
          "calendar": "julian",
          "chunk_sizes": [
           276
          ],
          "data_type": "float32",
          "dimensions": [
           "time"
          ],
          "file_chunk_sizes": [
           276
          ],
          "file_dimensions": [
           "time"
          ],
          "fill_value": null,
          "long_name": "time",
          "orig_data_type": "float32",
          "shape": [
           276
          ],
          "size": 276,
          "standard_name": "time",
          "units": "days since 1950-01-01"
         },
         "dims": [
          "time"
         ],
         "dtype": "float32",
         "name": "time"
        },
        "time_bnds": {
         "attrs": {
          "calendar": "proleptic_gregorian",
          "standard_name": "time_bnds",
          "units": "seconds since 1970-01-01T00:00:00Z"
         },
         "dims": [
          "time",
          "bnds"
         ],
         "dtype": "int64",
         "name": "time_bnds"
        }
       },
       "crs": "WGS84",
       "data_id": "esacci.SEALEVEL.mon.IND.MSLTR.multi-sensor.multi-platform.MERGED.2-0.r1",
       "data_type": "dataset",
       "data_vars": {
        "local_msl_trend": {
         "attrs": {
          "chunk_sizes": [
           720,
           1440
          ],
          "data_type": "float32",
          "dimensions": [
           "lat",
           "lon"
          ],
          "file_chunk_sizes": [
           720,
           1440
          ],
          "file_dimensions": [
           "lat",
           "lon"
          ],
          "fill_value": 18446744000000000000,
          "long_name": "Geographical distribution of mean sea level trends",
          "orig_data_type": "float32",
          "shape": [
           720,
           1440
          ],
          "size": 1036800,
          "standard_name": "tendency_of_sea_surface_height_above_sea_level",
          "units": "mm/year"
         },
         "dims": [
          "time",
          "lat",
          "lon"
         ],
         "dtype": "float32",
         "name": "local_msl_trend"
        },
        "local_msl_trend_error": {
         "attrs": {
          "chunk_sizes": [
           720,
           1440
          ],
          "data_type": "float32",
          "dimensions": [
           "lat",
           "lon"
          ],
          "file_chunk_sizes": [
           720,
           1440
          ],
          "file_dimensions": [
           "lat",
           "lon"
          ],
          "fill_value": 18446744000000000000,
          "long_name": "Geographical distribution of mean sea level trends errors",
          "orig_data_type": "float32",
          "shape": [
           720,
           1440
          ],
          "size": 1036800,
          "units": "mm/year"
         },
         "dims": [
          "time",
          "lat",
          "lon"
         ],
         "dtype": "float32",
         "name": "local_msl_trend_error"
        }
       },
       "dims": {
        "bnds": 2,
        "lat": 720,
        "lon": 1440,
        "time": 276
       },
       "open_params_schema": {
        "additionalProperties": false,
        "properties": {
         "bbox": {
          "items": [
           {
            "maximum": 180,
            "minimum": -180,
            "type": "number"
           },
           {
            "maximum": 90,
            "minimum": -90,
            "type": "number"
           },
           {
            "maximum": 180,
            "minimum": -180,
            "type": "number"
           },
           {
            "maximum": 90,
            "minimum": -90,
            "type": "number"
           }
          ],
          "type": "array"
         },
         "normalize_data": {
          "default": true,
          "type": "boolean"
         },
         "time_range": {
          "items": [
           {
            "format": "date",
            "maxDate": "2015-12-31",
            "minDate": "1993-01-01",
            "type": "string"
           },
           {
            "format": "date",
            "maxDate": "2015-12-31",
            "minDate": "1993-01-01",
            "type": "string"
           }
          ],
          "type": "array"
         },
         "variable_names": {
          "items": {
           "enum": [
            "local_msl_trend",
            "local_msl_trend_error"
           ],
           "type": "string"
          },
          "type": "array"
         }
        },
        "type": "object"
       },
       "spatial_res": 0.25,
       "time_period": "1M",
       "time_range": [
        "1993-01-01",
        "2015-12-31"
       ]
      },
      "text/plain": [
       "<xcube.core.store.descriptor.DatasetDescriptor at 0x7fad1458c940>"
      ]
     },
     "execution_count": 20,
     "metadata": {},
     "output_type": "execute_result"
    }
   ],
   "source": [
    "odp_store.describe_data(data_id)"
   ]
  },
  {
   "cell_type": "code",
   "execution_count": 21,
   "id": "6722bc42-4818-4fb5-934e-900125e301b9",
   "metadata": {},
   "outputs": [
    {
     "data": {
      "text/html": [
       "<div><svg style=\"position: absolute; width: 0; height: 0; overflow: hidden\">\n",
       "<defs>\n",
       "<symbol id=\"icon-database\" viewBox=\"0 0 32 32\">\n",
       "<path d=\"M16 0c-8.837 0-16 2.239-16 5v4c0 2.761 7.163 5 16 5s16-2.239 16-5v-4c0-2.761-7.163-5-16-5z\"></path>\n",
       "<path d=\"M16 17c-8.837 0-16-2.239-16-5v6c0 2.761 7.163 5 16 5s16-2.239 16-5v-6c0 2.761-7.163 5-16 5z\"></path>\n",
       "<path d=\"M16 26c-8.837 0-16-2.239-16-5v6c0 2.761 7.163 5 16 5s16-2.239 16-5v-6c0 2.761-7.163 5-16 5z\"></path>\n",
       "</symbol>\n",
       "<symbol id=\"icon-file-text2\" viewBox=\"0 0 32 32\">\n",
       "<path d=\"M28.681 7.159c-0.694-0.947-1.662-2.053-2.724-3.116s-2.169-2.030-3.116-2.724c-1.612-1.182-2.393-1.319-2.841-1.319h-15.5c-1.378 0-2.5 1.121-2.5 2.5v27c0 1.378 1.122 2.5 2.5 2.5h23c1.378 0 2.5-1.122 2.5-2.5v-19.5c0-0.448-0.137-1.23-1.319-2.841zM24.543 5.457c0.959 0.959 1.712 1.825 2.268 2.543h-4.811v-4.811c0.718 0.556 1.584 1.309 2.543 2.268zM28 29.5c0 0.271-0.229 0.5-0.5 0.5h-23c-0.271 0-0.5-0.229-0.5-0.5v-27c0-0.271 0.229-0.5 0.5-0.5 0 0 15.499-0 15.5 0v7c0 0.552 0.448 1 1 1h7v19.5z\"></path>\n",
       "<path d=\"M23 26h-14c-0.552 0-1-0.448-1-1s0.448-1 1-1h14c0.552 0 1 0.448 1 1s-0.448 1-1 1z\"></path>\n",
       "<path d=\"M23 22h-14c-0.552 0-1-0.448-1-1s0.448-1 1-1h14c0.552 0 1 0.448 1 1s-0.448 1-1 1z\"></path>\n",
       "<path d=\"M23 18h-14c-0.552 0-1-0.448-1-1s0.448-1 1-1h14c0.552 0 1 0.448 1 1s-0.448 1-1 1z\"></path>\n",
       "</symbol>\n",
       "</defs>\n",
       "</svg>\n",
       "<style>/* CSS stylesheet for displaying xarray objects in jupyterlab.\n",
       " *\n",
       " */\n",
       "\n",
       ":root {\n",
       "  --xr-font-color0: var(--jp-content-font-color0, rgba(0, 0, 0, 1));\n",
       "  --xr-font-color2: var(--jp-content-font-color2, rgba(0, 0, 0, 0.54));\n",
       "  --xr-font-color3: var(--jp-content-font-color3, rgba(0, 0, 0, 0.38));\n",
       "  --xr-border-color: var(--jp-border-color2, #e0e0e0);\n",
       "  --xr-disabled-color: var(--jp-layout-color3, #bdbdbd);\n",
       "  --xr-background-color: var(--jp-layout-color0, white);\n",
       "  --xr-background-color-row-even: var(--jp-layout-color1, white);\n",
       "  --xr-background-color-row-odd: var(--jp-layout-color2, #eeeeee);\n",
       "}\n",
       "\n",
       "html[theme=dark],\n",
       "body[data-theme=dark],\n",
       "body.vscode-dark {\n",
       "  --xr-font-color0: rgba(255, 255, 255, 1);\n",
       "  --xr-font-color2: rgba(255, 255, 255, 0.54);\n",
       "  --xr-font-color3: rgba(255, 255, 255, 0.38);\n",
       "  --xr-border-color: #1F1F1F;\n",
       "  --xr-disabled-color: #515151;\n",
       "  --xr-background-color: #111111;\n",
       "  --xr-background-color-row-even: #111111;\n",
       "  --xr-background-color-row-odd: #313131;\n",
       "}\n",
       "\n",
       ".xr-wrap {\n",
       "  display: block !important;\n",
       "  min-width: 300px;\n",
       "  max-width: 700px;\n",
       "}\n",
       "\n",
       ".xr-text-repr-fallback {\n",
       "  /* fallback to plain text repr when CSS is not injected (untrusted notebook) */\n",
       "  display: none;\n",
       "}\n",
       "\n",
       ".xr-header {\n",
       "  padding-top: 6px;\n",
       "  padding-bottom: 6px;\n",
       "  margin-bottom: 4px;\n",
       "  border-bottom: solid 1px var(--xr-border-color);\n",
       "}\n",
       "\n",
       ".xr-header > div,\n",
       ".xr-header > ul {\n",
       "  display: inline;\n",
       "  margin-top: 0;\n",
       "  margin-bottom: 0;\n",
       "}\n",
       "\n",
       ".xr-obj-type,\n",
       ".xr-array-name {\n",
       "  margin-left: 2px;\n",
       "  margin-right: 10px;\n",
       "}\n",
       "\n",
       ".xr-obj-type {\n",
       "  color: var(--xr-font-color2);\n",
       "}\n",
       "\n",
       ".xr-sections {\n",
       "  padding-left: 0 !important;\n",
       "  display: grid;\n",
       "  grid-template-columns: 150px auto auto 1fr 20px 20px;\n",
       "}\n",
       "\n",
       ".xr-section-item {\n",
       "  display: contents;\n",
       "}\n",
       "\n",
       ".xr-section-item input {\n",
       "  display: none;\n",
       "}\n",
       "\n",
       ".xr-section-item input + label {\n",
       "  color: var(--xr-disabled-color);\n",
       "}\n",
       "\n",
       ".xr-section-item input:enabled + label {\n",
       "  cursor: pointer;\n",
       "  color: var(--xr-font-color2);\n",
       "}\n",
       "\n",
       ".xr-section-item input:enabled + label:hover {\n",
       "  color: var(--xr-font-color0);\n",
       "}\n",
       "\n",
       ".xr-section-summary {\n",
       "  grid-column: 1;\n",
       "  color: var(--xr-font-color2);\n",
       "  font-weight: 500;\n",
       "}\n",
       "\n",
       ".xr-section-summary > span {\n",
       "  display: inline-block;\n",
       "  padding-left: 0.5em;\n",
       "}\n",
       "\n",
       ".xr-section-summary-in:disabled + label {\n",
       "  color: var(--xr-font-color2);\n",
       "}\n",
       "\n",
       ".xr-section-summary-in + label:before {\n",
       "  display: inline-block;\n",
       "  content: '►';\n",
       "  font-size: 11px;\n",
       "  width: 15px;\n",
       "  text-align: center;\n",
       "}\n",
       "\n",
       ".xr-section-summary-in:disabled + label:before {\n",
       "  color: var(--xr-disabled-color);\n",
       "}\n",
       "\n",
       ".xr-section-summary-in:checked + label:before {\n",
       "  content: '▼';\n",
       "}\n",
       "\n",
       ".xr-section-summary-in:checked + label > span {\n",
       "  display: none;\n",
       "}\n",
       "\n",
       ".xr-section-summary,\n",
       ".xr-section-inline-details {\n",
       "  padding-top: 4px;\n",
       "  padding-bottom: 4px;\n",
       "}\n",
       "\n",
       ".xr-section-inline-details {\n",
       "  grid-column: 2 / -1;\n",
       "}\n",
       "\n",
       ".xr-section-details {\n",
       "  display: none;\n",
       "  grid-column: 1 / -1;\n",
       "  margin-bottom: 5px;\n",
       "}\n",
       "\n",
       ".xr-section-summary-in:checked ~ .xr-section-details {\n",
       "  display: contents;\n",
       "}\n",
       "\n",
       ".xr-array-wrap {\n",
       "  grid-column: 1 / -1;\n",
       "  display: grid;\n",
       "  grid-template-columns: 20px auto;\n",
       "}\n",
       "\n",
       ".xr-array-wrap > label {\n",
       "  grid-column: 1;\n",
       "  vertical-align: top;\n",
       "}\n",
       "\n",
       ".xr-preview {\n",
       "  color: var(--xr-font-color3);\n",
       "}\n",
       "\n",
       ".xr-array-preview,\n",
       ".xr-array-data {\n",
       "  padding: 0 5px !important;\n",
       "  grid-column: 2;\n",
       "}\n",
       "\n",
       ".xr-array-data,\n",
       ".xr-array-in:checked ~ .xr-array-preview {\n",
       "  display: none;\n",
       "}\n",
       "\n",
       ".xr-array-in:checked ~ .xr-array-data,\n",
       ".xr-array-preview {\n",
       "  display: inline-block;\n",
       "}\n",
       "\n",
       ".xr-dim-list {\n",
       "  display: inline-block !important;\n",
       "  list-style: none;\n",
       "  padding: 0 !important;\n",
       "  margin: 0;\n",
       "}\n",
       "\n",
       ".xr-dim-list li {\n",
       "  display: inline-block;\n",
       "  padding: 0;\n",
       "  margin: 0;\n",
       "}\n",
       "\n",
       ".xr-dim-list:before {\n",
       "  content: '(';\n",
       "}\n",
       "\n",
       ".xr-dim-list:after {\n",
       "  content: ')';\n",
       "}\n",
       "\n",
       ".xr-dim-list li:not(:last-child):after {\n",
       "  content: ',';\n",
       "  padding-right: 5px;\n",
       "}\n",
       "\n",
       ".xr-has-index {\n",
       "  font-weight: bold;\n",
       "}\n",
       "\n",
       ".xr-var-list,\n",
       ".xr-var-item {\n",
       "  display: contents;\n",
       "}\n",
       "\n",
       ".xr-var-item > div,\n",
       ".xr-var-item label,\n",
       ".xr-var-item > .xr-var-name span {\n",
       "  background-color: var(--xr-background-color-row-even);\n",
       "  margin-bottom: 0;\n",
       "}\n",
       "\n",
       ".xr-var-item > .xr-var-name:hover span {\n",
       "  padding-right: 5px;\n",
       "}\n",
       "\n",
       ".xr-var-list > li:nth-child(odd) > div,\n",
       ".xr-var-list > li:nth-child(odd) > label,\n",
       ".xr-var-list > li:nth-child(odd) > .xr-var-name span {\n",
       "  background-color: var(--xr-background-color-row-odd);\n",
       "}\n",
       "\n",
       ".xr-var-name {\n",
       "  grid-column: 1;\n",
       "}\n",
       "\n",
       ".xr-var-dims {\n",
       "  grid-column: 2;\n",
       "}\n",
       "\n",
       ".xr-var-dtype {\n",
       "  grid-column: 3;\n",
       "  text-align: right;\n",
       "  color: var(--xr-font-color2);\n",
       "}\n",
       "\n",
       ".xr-var-preview {\n",
       "  grid-column: 4;\n",
       "}\n",
       "\n",
       ".xr-index-preview {\n",
       "  grid-column: 2 / 5;\n",
       "  color: var(--xr-font-color2);\n",
       "}\n",
       "\n",
       ".xr-var-name,\n",
       ".xr-var-dims,\n",
       ".xr-var-dtype,\n",
       ".xr-preview,\n",
       ".xr-attrs dt {\n",
       "  white-space: nowrap;\n",
       "  overflow: hidden;\n",
       "  text-overflow: ellipsis;\n",
       "  padding-right: 10px;\n",
       "}\n",
       "\n",
       ".xr-var-name:hover,\n",
       ".xr-var-dims:hover,\n",
       ".xr-var-dtype:hover,\n",
       ".xr-attrs dt:hover {\n",
       "  overflow: visible;\n",
       "  width: auto;\n",
       "  z-index: 1;\n",
       "}\n",
       "\n",
       ".xr-var-attrs,\n",
       ".xr-var-data,\n",
       ".xr-index-data {\n",
       "  display: none;\n",
       "  background-color: var(--xr-background-color) !important;\n",
       "  padding-bottom: 5px !important;\n",
       "}\n",
       "\n",
       ".xr-var-attrs-in:checked ~ .xr-var-attrs,\n",
       ".xr-var-data-in:checked ~ .xr-var-data,\n",
       ".xr-index-data-in:checked ~ .xr-index-data {\n",
       "  display: block;\n",
       "}\n",
       "\n",
       ".xr-var-data > table {\n",
       "  float: right;\n",
       "}\n",
       "\n",
       ".xr-var-name span,\n",
       ".xr-var-data,\n",
       ".xr-index-name div,\n",
       ".xr-index-data,\n",
       ".xr-attrs {\n",
       "  padding-left: 25px !important;\n",
       "}\n",
       "\n",
       ".xr-attrs,\n",
       ".xr-var-attrs,\n",
       ".xr-var-data,\n",
       ".xr-index-data {\n",
       "  grid-column: 1 / -1;\n",
       "}\n",
       "\n",
       "dl.xr-attrs {\n",
       "  padding: 0;\n",
       "  margin: 0;\n",
       "  display: grid;\n",
       "  grid-template-columns: 125px auto;\n",
       "}\n",
       "\n",
       ".xr-attrs dt,\n",
       ".xr-attrs dd {\n",
       "  padding: 0;\n",
       "  margin: 0;\n",
       "  float: left;\n",
       "  padding-right: 10px;\n",
       "  width: auto;\n",
       "}\n",
       "\n",
       ".xr-attrs dt {\n",
       "  font-weight: normal;\n",
       "  grid-column: 1;\n",
       "}\n",
       "\n",
       ".xr-attrs dt:hover span {\n",
       "  display: inline-block;\n",
       "  background: var(--xr-background-color);\n",
       "  padding-right: 10px;\n",
       "}\n",
       "\n",
       ".xr-attrs dd {\n",
       "  grid-column: 2;\n",
       "  white-space: pre-wrap;\n",
       "  word-break: break-all;\n",
       "}\n",
       "\n",
       ".xr-icon-database,\n",
       ".xr-icon-file-text2,\n",
       ".xr-no-icon {\n",
       "  display: inline-block;\n",
       "  vertical-align: middle;\n",
       "  width: 1em;\n",
       "  height: 1.5em !important;\n",
       "  stroke-width: 0;\n",
       "  stroke: currentColor;\n",
       "  fill: currentColor;\n",
       "}\n",
       "</style><pre class='xr-text-repr-fallback'>&lt;xarray.Dataset&gt;\n",
       "Dimensions:                (lat: 720, time: 276, lon: 1440, bnds: 2)\n",
       "Coordinates:\n",
       "  * lat                    (lat) float32 -89.88 -89.62 -89.38 ... 89.62 89.88\n",
       "  * lon                    (lon) float64 -179.9 -179.6 -179.4 ... 179.6 179.9\n",
       "  * time                   (time) datetime64[ns] 1993-01-16T12:00:00 ... 2015...\n",
       "    time_bnds              (time, bnds) datetime64[ns] dask.array&lt;chunksize=(276, 2), meta=np.ndarray&gt;\n",
       "Dimensions without coordinates: bnds\n",
       "Data variables:\n",
       "    local_msl_trend        (time, lat, lon) float32 dask.array&lt;chunksize=(276, 45, 45), meta=np.ndarray&gt;\n",
       "    local_msl_trend_error  (time, lat, lon) float32 dask.array&lt;chunksize=(276, 45, 45), meta=np.ndarray&gt;\n",
       "Attributes: (12/18)\n",
       "    Conventions:                CF-1.7\n",
       "    title:                      esacci.SEALEVEL.mon.IND.MSLTR.multi-sensor.mu...\n",
       "    date_created:               2023-01-20T16:47:18.125230\n",
       "    processing_level:           IND\n",
       "    time_coverage_start:        1993-01-01T00:00:00\n",
       "    time_coverage_end:          2016-01-01T00:00:00\n",
       "    ...                         ...\n",
       "    geospatial_lat_resolution:  0.25\n",
       "    geospatial_lat_min:         -90.0\n",
       "    geospatial_lat_max:         90.0\n",
       "    geospatial_lat_units:       degrees_north\n",
       "    geospatial_bounds_crs:      CRS84\n",
       "    geospatial_bounds:          POLYGON((-180.0 -90.0, -180.0 90.0, 180.0 90....</pre><div class='xr-wrap' style='display:none'><div class='xr-header'><div class='xr-obj-type'>xarray.Dataset</div></div><ul class='xr-sections'><li class='xr-section-item'><input id='section-2b812bd1-7efa-4bac-9fc3-4028c1f5fd79' class='xr-section-summary-in' type='checkbox' disabled ><label for='section-2b812bd1-7efa-4bac-9fc3-4028c1f5fd79' class='xr-section-summary'  title='Expand/collapse section'>Dimensions:</label><div class='xr-section-inline-details'><ul class='xr-dim-list'><li><span class='xr-has-index'>lat</span>: 720</li><li><span class='xr-has-index'>time</span>: 276</li><li><span class='xr-has-index'>lon</span>: 1440</li><li><span>bnds</span>: 2</li></ul></div><div class='xr-section-details'></div></li><li class='xr-section-item'><input id='section-518035a9-4110-4fa8-a527-7af274f8c45d' class='xr-section-summary-in' type='checkbox'  checked><label for='section-518035a9-4110-4fa8-a527-7af274f8c45d' class='xr-section-summary' >Coordinates: <span>(4)</span></label><div class='xr-section-inline-details'></div><div class='xr-section-details'><ul class='xr-var-list'><li class='xr-var-item'><div class='xr-var-name'><span class='xr-has-index'>lat</span></div><div class='xr-var-dims'>(lat)</div><div class='xr-var-dtype'>float32</div><div class='xr-var-preview xr-preview'>-89.88 -89.62 ... 89.62 89.88</div><input id='attrs-a2039afc-fec0-4e18-bd66-12b7ca0eb57e' class='xr-var-attrs-in' type='checkbox' ><label for='attrs-a2039afc-fec0-4e18-bd66-12b7ca0eb57e' title='Show/Hide attributes'><svg class='icon xr-icon-file-text2'><use xlink:href='#icon-file-text2'></use></svg></label><input id='data-32b8be31-2797-4128-89fc-4318f9905a9a' class='xr-var-data-in' type='checkbox'><label for='data-32b8be31-2797-4128-89fc-4318f9905a9a' title='Show/Hide data repr'><svg class='icon xr-icon-database'><use xlink:href='#icon-database'></use></svg></label><div class='xr-var-attrs'><dl class='xr-attrs'><dt><span>long_name :</span></dt><dd>Latitude</dd><dt><span>standard_name :</span></dt><dd>latitude</dd><dt><span>units :</span></dt><dd>degrees_north</dd><dt><span>axis :</span></dt><dd>Y</dd><dt><span>valid_min :</span></dt><dd>-89.875</dd><dt><span>valid_max :</span></dt><dd>89.875</dd><dt><span>orig_data_type :</span></dt><dd>float32</dd><dt><span>fill_value :</span></dt><dd>nan</dd><dt><span>size :</span></dt><dd>720</dd><dt><span>shape :</span></dt><dd>[720]</dd><dt><span>chunk_sizes :</span></dt><dd>[720]</dd><dt><span>file_chunk_sizes :</span></dt><dd>[720]</dd><dt><span>data_type :</span></dt><dd>float32</dd><dt><span>dimensions :</span></dt><dd>[&#x27;lat&#x27;]</dd><dt><span>file_dimensions :</span></dt><dd>[&#x27;lat&#x27;]</dd></dl></div><div class='xr-var-data'><pre>array([-89.875, -89.625, -89.375, ...,  89.375,  89.625,  89.875],\n",
       "      dtype=float32)</pre></div></li><li class='xr-var-item'><div class='xr-var-name'><span class='xr-has-index'>lon</span></div><div class='xr-var-dims'>(lon)</div><div class='xr-var-dtype'>float64</div><div class='xr-var-preview xr-preview'>-179.9 -179.6 ... 179.6 179.9</div><input id='attrs-9b6aa45f-0e69-403c-b74e-477a143c48e5' class='xr-var-attrs-in' type='checkbox' ><label for='attrs-9b6aa45f-0e69-403c-b74e-477a143c48e5' title='Show/Hide attributes'><svg class='icon xr-icon-file-text2'><use xlink:href='#icon-file-text2'></use></svg></label><input id='data-e1213a43-a2cb-4ab6-abdd-2f2b98b8dd53' class='xr-var-data-in' type='checkbox'><label for='data-e1213a43-a2cb-4ab6-abdd-2f2b98b8dd53' title='Show/Hide data repr'><svg class='icon xr-icon-database'><use xlink:href='#icon-database'></use></svg></label><div class='xr-var-attrs'><dl class='xr-attrs'><dt><span>long_name :</span></dt><dd>longitude</dd><dt><span>standard_name :</span></dt><dd>longitude</dd><dt><span>units :</span></dt><dd>degrees east</dd></dl></div><div class='xr-var-data'><pre>array([-179.875, -179.625, -179.375, ...,  179.375,  179.625,  179.875])</pre></div></li><li class='xr-var-item'><div class='xr-var-name'><span class='xr-has-index'>time</span></div><div class='xr-var-dims'>(time)</div><div class='xr-var-dtype'>datetime64[ns]</div><div class='xr-var-preview xr-preview'>1993-01-16T12:00:00 ... 2015-12-...</div><input id='attrs-95d7a304-3917-4942-af86-0639c283574a' class='xr-var-attrs-in' type='checkbox' ><label for='attrs-95d7a304-3917-4942-af86-0639c283574a' title='Show/Hide attributes'><svg class='icon xr-icon-file-text2'><use xlink:href='#icon-file-text2'></use></svg></label><input id='data-f2f5653b-a268-4f2a-9f1d-aae62c3e0524' class='xr-var-data-in' type='checkbox'><label for='data-f2f5653b-a268-4f2a-9f1d-aae62c3e0524' title='Show/Hide data repr'><svg class='icon xr-icon-database'><use xlink:href='#icon-database'></use></svg></label><div class='xr-var-attrs'><dl class='xr-attrs'><dt><span>standard_name :</span></dt><dd>time</dd><dt><span>bounds :</span></dt><dd>time_bnds</dd></dl></div><div class='xr-var-data'><pre>array([&#x27;1993-01-16T12:00:00.000000000&#x27;, &#x27;1993-02-15T00:00:00.000000000&#x27;,\n",
       "       &#x27;1993-03-16T12:00:00.000000000&#x27;, ..., &#x27;2015-10-16T12:00:00.000000000&#x27;,\n",
       "       &#x27;2015-11-16T00:00:00.000000000&#x27;, &#x27;2015-12-16T12:00:00.000000000&#x27;],\n",
       "      dtype=&#x27;datetime64[ns]&#x27;)</pre></div></li><li class='xr-var-item'><div class='xr-var-name'><span>time_bnds</span></div><div class='xr-var-dims'>(time, bnds)</div><div class='xr-var-dtype'>datetime64[ns]</div><div class='xr-var-preview xr-preview'>dask.array&lt;chunksize=(276, 2), meta=np.ndarray&gt;</div><input id='attrs-3d73c60f-f5ca-4694-bcbd-59daec952852' class='xr-var-attrs-in' type='checkbox' ><label for='attrs-3d73c60f-f5ca-4694-bcbd-59daec952852' title='Show/Hide attributes'><svg class='icon xr-icon-file-text2'><use xlink:href='#icon-file-text2'></use></svg></label><input id='data-d64b9d7b-1367-4c33-8545-23d631fa60a3' class='xr-var-data-in' type='checkbox'><label for='data-d64b9d7b-1367-4c33-8545-23d631fa60a3' title='Show/Hide data repr'><svg class='icon xr-icon-database'><use xlink:href='#icon-database'></use></svg></label><div class='xr-var-attrs'><dl class='xr-attrs'><dt><span>standard_name :</span></dt><dd>time_bnds</dd></dl></div><div class='xr-var-data'><table>\n",
       "    <tr>\n",
       "        <td>\n",
       "            <table style=\"border-collapse: collapse;\">\n",
       "                <thead>\n",
       "                    <tr>\n",
       "                        <td> </td>\n",
       "                        <th> Array </th>\n",
       "                        <th> Chunk </th>\n",
       "                    </tr>\n",
       "                </thead>\n",
       "                <tbody>\n",
       "                    \n",
       "                    <tr>\n",
       "                        <th> Bytes </th>\n",
       "                        <td> 4.31 kiB </td>\n",
       "                        <td> 4.31 kiB </td>\n",
       "                    </tr>\n",
       "                    \n",
       "                    <tr>\n",
       "                        <th> Shape </th>\n",
       "                        <td> (276, 2) </td>\n",
       "                        <td> (276, 2) </td>\n",
       "                    </tr>\n",
       "                    <tr>\n",
       "                        <th> Dask graph </th>\n",
       "                        <td colspan=\"2\"> 1 chunks in 2 graph layers </td>\n",
       "                    </tr>\n",
       "                    <tr>\n",
       "                        <th> Data type </th>\n",
       "                        <td colspan=\"2\"> datetime64[ns] numpy.ndarray </td>\n",
       "                    </tr>\n",
       "                </tbody>\n",
       "            </table>\n",
       "        </td>\n",
       "        <td>\n",
       "        <svg width=\"75\" height=\"170\" style=\"stroke:rgb(0,0,0);stroke-width:1\" >\n",
       "\n",
       "  <!-- Horizontal lines -->\n",
       "  <line x1=\"0\" y1=\"0\" x2=\"25\" y2=\"0\" style=\"stroke-width:2\" />\n",
       "  <line x1=\"0\" y1=\"120\" x2=\"25\" y2=\"120\" style=\"stroke-width:2\" />\n",
       "\n",
       "  <!-- Vertical lines -->\n",
       "  <line x1=\"0\" y1=\"0\" x2=\"0\" y2=\"120\" style=\"stroke-width:2\" />\n",
       "  <line x1=\"25\" y1=\"0\" x2=\"25\" y2=\"120\" style=\"stroke-width:2\" />\n",
       "\n",
       "  <!-- Colored Rectangle -->\n",
       "  <polygon points=\"0.0,0.0 25.412616514582485,0.0 25.412616514582485,120.0 0.0,120.0\" style=\"fill:#ECB172A0;stroke-width:0\"/>\n",
       "\n",
       "  <!-- Text -->\n",
       "  <text x=\"12.706308\" y=\"140.000000\" font-size=\"1.0rem\" font-weight=\"100\" text-anchor=\"middle\" >2</text>\n",
       "  <text x=\"45.412617\" y=\"60.000000\" font-size=\"1.0rem\" font-weight=\"100\" text-anchor=\"middle\" transform=\"rotate(-90,45.412617,60.000000)\">276</text>\n",
       "</svg>\n",
       "        </td>\n",
       "    </tr>\n",
       "</table></div></li></ul></div></li><li class='xr-section-item'><input id='section-3ae70c20-ef82-4458-a883-3ab915b358d5' class='xr-section-summary-in' type='checkbox'  checked><label for='section-3ae70c20-ef82-4458-a883-3ab915b358d5' class='xr-section-summary' >Data variables: <span>(2)</span></label><div class='xr-section-inline-details'></div><div class='xr-section-details'><ul class='xr-var-list'><li class='xr-var-item'><div class='xr-var-name'><span>local_msl_trend</span></div><div class='xr-var-dims'>(time, lat, lon)</div><div class='xr-var-dtype'>float32</div><div class='xr-var-preview xr-preview'>dask.array&lt;chunksize=(276, 45, 45), meta=np.ndarray&gt;</div><input id='attrs-5323c963-10bc-41de-aca3-26fa5957b9a4' class='xr-var-attrs-in' type='checkbox' ><label for='attrs-5323c963-10bc-41de-aca3-26fa5957b9a4' title='Show/Hide attributes'><svg class='icon xr-icon-file-text2'><use xlink:href='#icon-file-text2'></use></svg></label><input id='data-78006882-1ff3-4cec-ad01-51710e234478' class='xr-var-data-in' type='checkbox'><label for='data-78006882-1ff3-4cec-ad01-51710e234478' title='Show/Hide data repr'><svg class='icon xr-icon-database'><use xlink:href='#icon-database'></use></svg></label><div class='xr-var-attrs'><dl class='xr-attrs'><dt><span>long_name :</span></dt><dd>Geographical distribution of mean sea level trends</dd><dt><span>standard_name :</span></dt><dd>tendency_of_sea_surface_height_above_sea_level</dd><dt><span>units :</span></dt><dd>mm/year</dd><dt><span>orig_data_type :</span></dt><dd>float32</dd><dt><span>fill_value :</span></dt><dd>1.8446744e+19</dd><dt><span>size :</span></dt><dd>286156800</dd><dt><span>shape :</span></dt><dd>[276, 720, 1440]</dd><dt><span>chunk_sizes :</span></dt><dd>[276, 45, 45]</dd><dt><span>file_chunk_sizes :</span></dt><dd>[45, 45]</dd><dt><span>data_type :</span></dt><dd>float32</dd><dt><span>dimensions :</span></dt><dd>[&#x27;time&#x27;, &#x27;lat&#x27;, &#x27;lon&#x27;]</dd><dt><span>file_dimensions :</span></dt><dd>[&#x27;lat&#x27;, &#x27;lon&#x27;]</dd></dl></div><div class='xr-var-data'><table>\n",
       "    <tr>\n",
       "        <td>\n",
       "            <table style=\"border-collapse: collapse;\">\n",
       "                <thead>\n",
       "                    <tr>\n",
       "                        <td> </td>\n",
       "                        <th> Array </th>\n",
       "                        <th> Chunk </th>\n",
       "                    </tr>\n",
       "                </thead>\n",
       "                <tbody>\n",
       "                    \n",
       "                    <tr>\n",
       "                        <th> Bytes </th>\n",
       "                        <td> 1.07 GiB </td>\n",
       "                        <td> 2.13 MiB </td>\n",
       "                    </tr>\n",
       "                    \n",
       "                    <tr>\n",
       "                        <th> Shape </th>\n",
       "                        <td> (276, 720, 1440) </td>\n",
       "                        <td> (276, 45, 45) </td>\n",
       "                    </tr>\n",
       "                    <tr>\n",
       "                        <th> Dask graph </th>\n",
       "                        <td colspan=\"2\"> 512 chunks in 5 graph layers </td>\n",
       "                    </tr>\n",
       "                    <tr>\n",
       "                        <th> Data type </th>\n",
       "                        <td colspan=\"2\"> float32 numpy.ndarray </td>\n",
       "                    </tr>\n",
       "                </tbody>\n",
       "            </table>\n",
       "        </td>\n",
       "        <td>\n",
       "        <svg width=\"204\" height=\"134\" style=\"stroke:rgb(0,0,0);stroke-width:1\" >\n",
       "\n",
       "  <!-- Horizontal lines -->\n",
       "  <line x1=\"10\" y1=\"0\" x2=\"34\" y2=\"24\" style=\"stroke-width:2\" />\n",
       "  <line x1=\"10\" y1=\"3\" x2=\"34\" y2=\"28\" />\n",
       "  <line x1=\"10\" y1=\"7\" x2=\"34\" y2=\"32\" />\n",
       "  <line x1=\"10\" y1=\"11\" x2=\"34\" y2=\"35\" />\n",
       "  <line x1=\"10\" y1=\"15\" x2=\"34\" y2=\"39\" />\n",
       "  <line x1=\"10\" y1=\"18\" x2=\"34\" y2=\"43\" />\n",
       "  <line x1=\"10\" y1=\"22\" x2=\"34\" y2=\"47\" />\n",
       "  <line x1=\"10\" y1=\"26\" x2=\"34\" y2=\"50\" />\n",
       "  <line x1=\"10\" y1=\"30\" x2=\"34\" y2=\"54\" />\n",
       "  <line x1=\"10\" y1=\"33\" x2=\"34\" y2=\"58\" />\n",
       "  <line x1=\"10\" y1=\"37\" x2=\"34\" y2=\"62\" />\n",
       "  <line x1=\"10\" y1=\"41\" x2=\"34\" y2=\"65\" />\n",
       "  <line x1=\"10\" y1=\"45\" x2=\"34\" y2=\"69\" />\n",
       "  <line x1=\"10\" y1=\"48\" x2=\"34\" y2=\"73\" />\n",
       "  <line x1=\"10\" y1=\"52\" x2=\"34\" y2=\"77\" />\n",
       "  <line x1=\"10\" y1=\"56\" x2=\"34\" y2=\"80\" />\n",
       "  <line x1=\"10\" y1=\"60\" x2=\"34\" y2=\"84\" style=\"stroke-width:2\" />\n",
       "\n",
       "  <!-- Vertical lines -->\n",
       "  <line x1=\"10\" y1=\"0\" x2=\"10\" y2=\"60\" style=\"stroke-width:2\" />\n",
       "  <line x1=\"34\" y1=\"24\" x2=\"34\" y2=\"84\" style=\"stroke-width:2\" />\n",
       "\n",
       "  <!-- Colored Rectangle -->\n",
       "  <polygon points=\"10.0,0.0 34.60474957977363,24.60474957977363 34.60474957977363,84.60474957977362 10.0,60.0\" style=\"fill:#ECB172A0;stroke-width:0\"/>\n",
       "\n",
       "  <!-- Horizontal lines -->\n",
       "  <line x1=\"10\" y1=\"0\" x2=\"130\" y2=\"0\" style=\"stroke-width:2\" />\n",
       "  <line x1=\"34\" y1=\"24\" x2=\"154\" y2=\"24\" style=\"stroke-width:2\" />\n",
       "\n",
       "  <!-- Vertical lines -->\n",
       "  <line x1=\"10\" y1=\"0\" x2=\"34\" y2=\"24\" style=\"stroke-width:2\" />\n",
       "  <line x1=\"13\" y1=\"0\" x2=\"38\" y2=\"24\" />\n",
       "  <line x1=\"21\" y1=\"0\" x2=\"45\" y2=\"24\" />\n",
       "  <line x1=\"28\" y1=\"0\" x2=\"53\" y2=\"24\" />\n",
       "  <line x1=\"32\" y1=\"0\" x2=\"57\" y2=\"24\" />\n",
       "  <line x1=\"40\" y1=\"0\" x2=\"64\" y2=\"24\" />\n",
       "  <line x1=\"47\" y1=\"0\" x2=\"72\" y2=\"24\" />\n",
       "  <line x1=\"51\" y1=\"0\" x2=\"75\" y2=\"24\" />\n",
       "  <line x1=\"58\" y1=\"0\" x2=\"83\" y2=\"24\" />\n",
       "  <line x1=\"66\" y1=\"0\" x2=\"90\" y2=\"24\" />\n",
       "  <line x1=\"70\" y1=\"0\" x2=\"94\" y2=\"24\" />\n",
       "  <line x1=\"77\" y1=\"0\" x2=\"102\" y2=\"24\" />\n",
       "  <line x1=\"85\" y1=\"0\" x2=\"109\" y2=\"24\" />\n",
       "  <line x1=\"88\" y1=\"0\" x2=\"113\" y2=\"24\" />\n",
       "  <line x1=\"96\" y1=\"0\" x2=\"120\" y2=\"24\" />\n",
       "  <line x1=\"103\" y1=\"0\" x2=\"128\" y2=\"24\" />\n",
       "  <line x1=\"107\" y1=\"0\" x2=\"132\" y2=\"24\" />\n",
       "  <line x1=\"115\" y1=\"0\" x2=\"139\" y2=\"24\" />\n",
       "  <line x1=\"122\" y1=\"0\" x2=\"147\" y2=\"24\" />\n",
       "  <line x1=\"130\" y1=\"0\" x2=\"154\" y2=\"24\" style=\"stroke-width:2\" />\n",
       "\n",
       "  <!-- Colored Rectangle -->\n",
       "  <polygon points=\"10.0,0.0 130.0,0.0 154.60474957977362,24.60474957977363 34.60474957977363,24.60474957977363\" style=\"fill:#8B4903A0;stroke-width:0\"/>\n",
       "\n",
       "  <!-- Horizontal lines -->\n",
       "  <line x1=\"34\" y1=\"24\" x2=\"154\" y2=\"24\" style=\"stroke-width:2\" />\n",
       "  <line x1=\"34\" y1=\"28\" x2=\"154\" y2=\"28\" />\n",
       "  <line x1=\"34\" y1=\"32\" x2=\"154\" y2=\"32\" />\n",
       "  <line x1=\"34\" y1=\"35\" x2=\"154\" y2=\"35\" />\n",
       "  <line x1=\"34\" y1=\"39\" x2=\"154\" y2=\"39\" />\n",
       "  <line x1=\"34\" y1=\"43\" x2=\"154\" y2=\"43\" />\n",
       "  <line x1=\"34\" y1=\"47\" x2=\"154\" y2=\"47\" />\n",
       "  <line x1=\"34\" y1=\"50\" x2=\"154\" y2=\"50\" />\n",
       "  <line x1=\"34\" y1=\"54\" x2=\"154\" y2=\"54\" />\n",
       "  <line x1=\"34\" y1=\"58\" x2=\"154\" y2=\"58\" />\n",
       "  <line x1=\"34\" y1=\"62\" x2=\"154\" y2=\"62\" />\n",
       "  <line x1=\"34\" y1=\"65\" x2=\"154\" y2=\"65\" />\n",
       "  <line x1=\"34\" y1=\"69\" x2=\"154\" y2=\"69\" />\n",
       "  <line x1=\"34\" y1=\"73\" x2=\"154\" y2=\"73\" />\n",
       "  <line x1=\"34\" y1=\"77\" x2=\"154\" y2=\"77\" />\n",
       "  <line x1=\"34\" y1=\"80\" x2=\"154\" y2=\"80\" />\n",
       "  <line x1=\"34\" y1=\"84\" x2=\"154\" y2=\"84\" style=\"stroke-width:2\" />\n",
       "\n",
       "  <!-- Vertical lines -->\n",
       "  <line x1=\"34\" y1=\"24\" x2=\"34\" y2=\"84\" style=\"stroke-width:2\" />\n",
       "  <line x1=\"38\" y1=\"24\" x2=\"38\" y2=\"84\" />\n",
       "  <line x1=\"45\" y1=\"24\" x2=\"45\" y2=\"84\" />\n",
       "  <line x1=\"53\" y1=\"24\" x2=\"53\" y2=\"84\" />\n",
       "  <line x1=\"57\" y1=\"24\" x2=\"57\" y2=\"84\" />\n",
       "  <line x1=\"64\" y1=\"24\" x2=\"64\" y2=\"84\" />\n",
       "  <line x1=\"72\" y1=\"24\" x2=\"72\" y2=\"84\" />\n",
       "  <line x1=\"75\" y1=\"24\" x2=\"75\" y2=\"84\" />\n",
       "  <line x1=\"83\" y1=\"24\" x2=\"83\" y2=\"84\" />\n",
       "  <line x1=\"90\" y1=\"24\" x2=\"90\" y2=\"84\" />\n",
       "  <line x1=\"94\" y1=\"24\" x2=\"94\" y2=\"84\" />\n",
       "  <line x1=\"102\" y1=\"24\" x2=\"102\" y2=\"84\" />\n",
       "  <line x1=\"109\" y1=\"24\" x2=\"109\" y2=\"84\" />\n",
       "  <line x1=\"113\" y1=\"24\" x2=\"113\" y2=\"84\" />\n",
       "  <line x1=\"120\" y1=\"24\" x2=\"120\" y2=\"84\" />\n",
       "  <line x1=\"128\" y1=\"24\" x2=\"128\" y2=\"84\" />\n",
       "  <line x1=\"132\" y1=\"24\" x2=\"132\" y2=\"84\" />\n",
       "  <line x1=\"139\" y1=\"24\" x2=\"139\" y2=\"84\" />\n",
       "  <line x1=\"147\" y1=\"24\" x2=\"147\" y2=\"84\" />\n",
       "  <line x1=\"154\" y1=\"24\" x2=\"154\" y2=\"84\" style=\"stroke-width:2\" />\n",
       "\n",
       "  <!-- Colored Rectangle -->\n",
       "  <polygon points=\"34.60474957977363,24.60474957977363 154.60474957977362,24.60474957977363 154.60474957977362,84.60474957977362 34.60474957977363,84.60474957977362\" style=\"fill:#8B4903A0;stroke-width:0\"/>\n",
       "\n",
       "  <!-- Text -->\n",
       "  <text x=\"94.604750\" y=\"104.604750\" font-size=\"1.0rem\" font-weight=\"100\" text-anchor=\"middle\" >1440</text>\n",
       "  <text x=\"174.604750\" y=\"54.604750\" font-size=\"1.0rem\" font-weight=\"100\" text-anchor=\"middle\" transform=\"rotate(-90,174.604750,54.604750)\">720</text>\n",
       "  <text x=\"12.302375\" y=\"92.302375\" font-size=\"1.0rem\" font-weight=\"100\" text-anchor=\"middle\" transform=\"rotate(45,12.302375,92.302375)\">276</text>\n",
       "</svg>\n",
       "        </td>\n",
       "    </tr>\n",
       "</table></div></li><li class='xr-var-item'><div class='xr-var-name'><span>local_msl_trend_error</span></div><div class='xr-var-dims'>(time, lat, lon)</div><div class='xr-var-dtype'>float32</div><div class='xr-var-preview xr-preview'>dask.array&lt;chunksize=(276, 45, 45), meta=np.ndarray&gt;</div><input id='attrs-ff304287-3279-4dc1-b4c6-24e7910331cc' class='xr-var-attrs-in' type='checkbox' ><label for='attrs-ff304287-3279-4dc1-b4c6-24e7910331cc' title='Show/Hide attributes'><svg class='icon xr-icon-file-text2'><use xlink:href='#icon-file-text2'></use></svg></label><input id='data-b2d15f49-2658-4d74-8862-99fa015ae187' class='xr-var-data-in' type='checkbox'><label for='data-b2d15f49-2658-4d74-8862-99fa015ae187' title='Show/Hide data repr'><svg class='icon xr-icon-database'><use xlink:href='#icon-database'></use></svg></label><div class='xr-var-attrs'><dl class='xr-attrs'><dt><span>long_name :</span></dt><dd>Geographical distribution of mean sea level trends errors</dd><dt><span>units :</span></dt><dd>mm/year</dd><dt><span>orig_data_type :</span></dt><dd>float32</dd><dt><span>fill_value :</span></dt><dd>1.8446744e+19</dd><dt><span>size :</span></dt><dd>286156800</dd><dt><span>shape :</span></dt><dd>[276, 720, 1440]</dd><dt><span>chunk_sizes :</span></dt><dd>[276, 45, 45]</dd><dt><span>file_chunk_sizes :</span></dt><dd>[45, 45]</dd><dt><span>data_type :</span></dt><dd>float32</dd><dt><span>dimensions :</span></dt><dd>[&#x27;time&#x27;, &#x27;lat&#x27;, &#x27;lon&#x27;]</dd><dt><span>file_dimensions :</span></dt><dd>[&#x27;lat&#x27;, &#x27;lon&#x27;]</dd></dl></div><div class='xr-var-data'><table>\n",
       "    <tr>\n",
       "        <td>\n",
       "            <table style=\"border-collapse: collapse;\">\n",
       "                <thead>\n",
       "                    <tr>\n",
       "                        <td> </td>\n",
       "                        <th> Array </th>\n",
       "                        <th> Chunk </th>\n",
       "                    </tr>\n",
       "                </thead>\n",
       "                <tbody>\n",
       "                    \n",
       "                    <tr>\n",
       "                        <th> Bytes </th>\n",
       "                        <td> 1.07 GiB </td>\n",
       "                        <td> 2.13 MiB </td>\n",
       "                    </tr>\n",
       "                    \n",
       "                    <tr>\n",
       "                        <th> Shape </th>\n",
       "                        <td> (276, 720, 1440) </td>\n",
       "                        <td> (276, 45, 45) </td>\n",
       "                    </tr>\n",
       "                    <tr>\n",
       "                        <th> Dask graph </th>\n",
       "                        <td colspan=\"2\"> 512 chunks in 5 graph layers </td>\n",
       "                    </tr>\n",
       "                    <tr>\n",
       "                        <th> Data type </th>\n",
       "                        <td colspan=\"2\"> float32 numpy.ndarray </td>\n",
       "                    </tr>\n",
       "                </tbody>\n",
       "            </table>\n",
       "        </td>\n",
       "        <td>\n",
       "        <svg width=\"204\" height=\"134\" style=\"stroke:rgb(0,0,0);stroke-width:1\" >\n",
       "\n",
       "  <!-- Horizontal lines -->\n",
       "  <line x1=\"10\" y1=\"0\" x2=\"34\" y2=\"24\" style=\"stroke-width:2\" />\n",
       "  <line x1=\"10\" y1=\"3\" x2=\"34\" y2=\"28\" />\n",
       "  <line x1=\"10\" y1=\"7\" x2=\"34\" y2=\"32\" />\n",
       "  <line x1=\"10\" y1=\"11\" x2=\"34\" y2=\"35\" />\n",
       "  <line x1=\"10\" y1=\"15\" x2=\"34\" y2=\"39\" />\n",
       "  <line x1=\"10\" y1=\"18\" x2=\"34\" y2=\"43\" />\n",
       "  <line x1=\"10\" y1=\"22\" x2=\"34\" y2=\"47\" />\n",
       "  <line x1=\"10\" y1=\"26\" x2=\"34\" y2=\"50\" />\n",
       "  <line x1=\"10\" y1=\"30\" x2=\"34\" y2=\"54\" />\n",
       "  <line x1=\"10\" y1=\"33\" x2=\"34\" y2=\"58\" />\n",
       "  <line x1=\"10\" y1=\"37\" x2=\"34\" y2=\"62\" />\n",
       "  <line x1=\"10\" y1=\"41\" x2=\"34\" y2=\"65\" />\n",
       "  <line x1=\"10\" y1=\"45\" x2=\"34\" y2=\"69\" />\n",
       "  <line x1=\"10\" y1=\"48\" x2=\"34\" y2=\"73\" />\n",
       "  <line x1=\"10\" y1=\"52\" x2=\"34\" y2=\"77\" />\n",
       "  <line x1=\"10\" y1=\"56\" x2=\"34\" y2=\"80\" />\n",
       "  <line x1=\"10\" y1=\"60\" x2=\"34\" y2=\"84\" style=\"stroke-width:2\" />\n",
       "\n",
       "  <!-- Vertical lines -->\n",
       "  <line x1=\"10\" y1=\"0\" x2=\"10\" y2=\"60\" style=\"stroke-width:2\" />\n",
       "  <line x1=\"34\" y1=\"24\" x2=\"34\" y2=\"84\" style=\"stroke-width:2\" />\n",
       "\n",
       "  <!-- Colored Rectangle -->\n",
       "  <polygon points=\"10.0,0.0 34.60474957977363,24.60474957977363 34.60474957977363,84.60474957977362 10.0,60.0\" style=\"fill:#ECB172A0;stroke-width:0\"/>\n",
       "\n",
       "  <!-- Horizontal lines -->\n",
       "  <line x1=\"10\" y1=\"0\" x2=\"130\" y2=\"0\" style=\"stroke-width:2\" />\n",
       "  <line x1=\"34\" y1=\"24\" x2=\"154\" y2=\"24\" style=\"stroke-width:2\" />\n",
       "\n",
       "  <!-- Vertical lines -->\n",
       "  <line x1=\"10\" y1=\"0\" x2=\"34\" y2=\"24\" style=\"stroke-width:2\" />\n",
       "  <line x1=\"13\" y1=\"0\" x2=\"38\" y2=\"24\" />\n",
       "  <line x1=\"21\" y1=\"0\" x2=\"45\" y2=\"24\" />\n",
       "  <line x1=\"28\" y1=\"0\" x2=\"53\" y2=\"24\" />\n",
       "  <line x1=\"32\" y1=\"0\" x2=\"57\" y2=\"24\" />\n",
       "  <line x1=\"40\" y1=\"0\" x2=\"64\" y2=\"24\" />\n",
       "  <line x1=\"47\" y1=\"0\" x2=\"72\" y2=\"24\" />\n",
       "  <line x1=\"51\" y1=\"0\" x2=\"75\" y2=\"24\" />\n",
       "  <line x1=\"58\" y1=\"0\" x2=\"83\" y2=\"24\" />\n",
       "  <line x1=\"66\" y1=\"0\" x2=\"90\" y2=\"24\" />\n",
       "  <line x1=\"70\" y1=\"0\" x2=\"94\" y2=\"24\" />\n",
       "  <line x1=\"77\" y1=\"0\" x2=\"102\" y2=\"24\" />\n",
       "  <line x1=\"85\" y1=\"0\" x2=\"109\" y2=\"24\" />\n",
       "  <line x1=\"88\" y1=\"0\" x2=\"113\" y2=\"24\" />\n",
       "  <line x1=\"96\" y1=\"0\" x2=\"120\" y2=\"24\" />\n",
       "  <line x1=\"103\" y1=\"0\" x2=\"128\" y2=\"24\" />\n",
       "  <line x1=\"107\" y1=\"0\" x2=\"132\" y2=\"24\" />\n",
       "  <line x1=\"115\" y1=\"0\" x2=\"139\" y2=\"24\" />\n",
       "  <line x1=\"122\" y1=\"0\" x2=\"147\" y2=\"24\" />\n",
       "  <line x1=\"130\" y1=\"0\" x2=\"154\" y2=\"24\" style=\"stroke-width:2\" />\n",
       "\n",
       "  <!-- Colored Rectangle -->\n",
       "  <polygon points=\"10.0,0.0 130.0,0.0 154.60474957977362,24.60474957977363 34.60474957977363,24.60474957977363\" style=\"fill:#8B4903A0;stroke-width:0\"/>\n",
       "\n",
       "  <!-- Horizontal lines -->\n",
       "  <line x1=\"34\" y1=\"24\" x2=\"154\" y2=\"24\" style=\"stroke-width:2\" />\n",
       "  <line x1=\"34\" y1=\"28\" x2=\"154\" y2=\"28\" />\n",
       "  <line x1=\"34\" y1=\"32\" x2=\"154\" y2=\"32\" />\n",
       "  <line x1=\"34\" y1=\"35\" x2=\"154\" y2=\"35\" />\n",
       "  <line x1=\"34\" y1=\"39\" x2=\"154\" y2=\"39\" />\n",
       "  <line x1=\"34\" y1=\"43\" x2=\"154\" y2=\"43\" />\n",
       "  <line x1=\"34\" y1=\"47\" x2=\"154\" y2=\"47\" />\n",
       "  <line x1=\"34\" y1=\"50\" x2=\"154\" y2=\"50\" />\n",
       "  <line x1=\"34\" y1=\"54\" x2=\"154\" y2=\"54\" />\n",
       "  <line x1=\"34\" y1=\"58\" x2=\"154\" y2=\"58\" />\n",
       "  <line x1=\"34\" y1=\"62\" x2=\"154\" y2=\"62\" />\n",
       "  <line x1=\"34\" y1=\"65\" x2=\"154\" y2=\"65\" />\n",
       "  <line x1=\"34\" y1=\"69\" x2=\"154\" y2=\"69\" />\n",
       "  <line x1=\"34\" y1=\"73\" x2=\"154\" y2=\"73\" />\n",
       "  <line x1=\"34\" y1=\"77\" x2=\"154\" y2=\"77\" />\n",
       "  <line x1=\"34\" y1=\"80\" x2=\"154\" y2=\"80\" />\n",
       "  <line x1=\"34\" y1=\"84\" x2=\"154\" y2=\"84\" style=\"stroke-width:2\" />\n",
       "\n",
       "  <!-- Vertical lines -->\n",
       "  <line x1=\"34\" y1=\"24\" x2=\"34\" y2=\"84\" style=\"stroke-width:2\" />\n",
       "  <line x1=\"38\" y1=\"24\" x2=\"38\" y2=\"84\" />\n",
       "  <line x1=\"45\" y1=\"24\" x2=\"45\" y2=\"84\" />\n",
       "  <line x1=\"53\" y1=\"24\" x2=\"53\" y2=\"84\" />\n",
       "  <line x1=\"57\" y1=\"24\" x2=\"57\" y2=\"84\" />\n",
       "  <line x1=\"64\" y1=\"24\" x2=\"64\" y2=\"84\" />\n",
       "  <line x1=\"72\" y1=\"24\" x2=\"72\" y2=\"84\" />\n",
       "  <line x1=\"75\" y1=\"24\" x2=\"75\" y2=\"84\" />\n",
       "  <line x1=\"83\" y1=\"24\" x2=\"83\" y2=\"84\" />\n",
       "  <line x1=\"90\" y1=\"24\" x2=\"90\" y2=\"84\" />\n",
       "  <line x1=\"94\" y1=\"24\" x2=\"94\" y2=\"84\" />\n",
       "  <line x1=\"102\" y1=\"24\" x2=\"102\" y2=\"84\" />\n",
       "  <line x1=\"109\" y1=\"24\" x2=\"109\" y2=\"84\" />\n",
       "  <line x1=\"113\" y1=\"24\" x2=\"113\" y2=\"84\" />\n",
       "  <line x1=\"120\" y1=\"24\" x2=\"120\" y2=\"84\" />\n",
       "  <line x1=\"128\" y1=\"24\" x2=\"128\" y2=\"84\" />\n",
       "  <line x1=\"132\" y1=\"24\" x2=\"132\" y2=\"84\" />\n",
       "  <line x1=\"139\" y1=\"24\" x2=\"139\" y2=\"84\" />\n",
       "  <line x1=\"147\" y1=\"24\" x2=\"147\" y2=\"84\" />\n",
       "  <line x1=\"154\" y1=\"24\" x2=\"154\" y2=\"84\" style=\"stroke-width:2\" />\n",
       "\n",
       "  <!-- Colored Rectangle -->\n",
       "  <polygon points=\"34.60474957977363,24.60474957977363 154.60474957977362,24.60474957977363 154.60474957977362,84.60474957977362 34.60474957977363,84.60474957977362\" style=\"fill:#8B4903A0;stroke-width:0\"/>\n",
       "\n",
       "  <!-- Text -->\n",
       "  <text x=\"94.604750\" y=\"104.604750\" font-size=\"1.0rem\" font-weight=\"100\" text-anchor=\"middle\" >1440</text>\n",
       "  <text x=\"174.604750\" y=\"54.604750\" font-size=\"1.0rem\" font-weight=\"100\" text-anchor=\"middle\" transform=\"rotate(-90,174.604750,54.604750)\">720</text>\n",
       "  <text x=\"12.302375\" y=\"92.302375\" font-size=\"1.0rem\" font-weight=\"100\" text-anchor=\"middle\" transform=\"rotate(45,12.302375,92.302375)\">276</text>\n",
       "</svg>\n",
       "        </td>\n",
       "    </tr>\n",
       "</table></div></li></ul></div></li><li class='xr-section-item'><input id='section-97e3452c-5bce-4554-8f23-ce16ae2dc63c' class='xr-section-summary-in' type='checkbox'  ><label for='section-97e3452c-5bce-4554-8f23-ce16ae2dc63c' class='xr-section-summary' >Indexes: <span>(3)</span></label><div class='xr-section-inline-details'></div><div class='xr-section-details'><ul class='xr-var-list'><li class='xr-var-item'><div class='xr-index-name'><div>lat</div></div><div class='xr-index-preview'>PandasIndex</div><div></div><input id='index-e67a2198-7c6d-468d-a38a-15057df5bcf6' class='xr-index-data-in' type='checkbox'/><label for='index-e67a2198-7c6d-468d-a38a-15057df5bcf6' title='Show/Hide index repr'><svg class='icon xr-icon-database'><use xlink:href='#icon-database'></use></svg></label><div class='xr-index-data'><pre>PandasIndex(Float64Index([-89.875, -89.625, -89.375, -89.125, -88.875, -88.625, -88.375,\n",
       "              -88.125, -87.875, -87.625,\n",
       "              ...\n",
       "               87.625,  87.875,  88.125,  88.375,  88.625,  88.875,  89.125,\n",
       "               89.375,  89.625,  89.875],\n",
       "             dtype=&#x27;float64&#x27;, name=&#x27;lat&#x27;, length=720))</pre></div></li><li class='xr-var-item'><div class='xr-index-name'><div>lon</div></div><div class='xr-index-preview'>PandasIndex</div><div></div><input id='index-d0dcf46d-a23e-4342-b5bf-9578bc9fa221' class='xr-index-data-in' type='checkbox'/><label for='index-d0dcf46d-a23e-4342-b5bf-9578bc9fa221' title='Show/Hide index repr'><svg class='icon xr-icon-database'><use xlink:href='#icon-database'></use></svg></label><div class='xr-index-data'><pre>PandasIndex(Float64Index([-179.875, -179.625, -179.375, -179.125, -178.875, -178.625,\n",
       "              -178.375, -178.125, -177.875, -177.625,\n",
       "              ...\n",
       "               177.625,  177.875,  178.125,  178.375,  178.625,  178.875,\n",
       "               179.125,  179.375,  179.625,  179.875],\n",
       "             dtype=&#x27;float64&#x27;, name=&#x27;lon&#x27;, length=1440))</pre></div></li><li class='xr-var-item'><div class='xr-index-name'><div>time</div></div><div class='xr-index-preview'>PandasIndex</div><div></div><input id='index-a0b82da8-eb8d-42b9-8d14-a7a46ba6e40f' class='xr-index-data-in' type='checkbox'/><label for='index-a0b82da8-eb8d-42b9-8d14-a7a46ba6e40f' title='Show/Hide index repr'><svg class='icon xr-icon-database'><use xlink:href='#icon-database'></use></svg></label><div class='xr-index-data'><pre>PandasIndex(DatetimeIndex([&#x27;1993-01-16 12:00:00&#x27;, &#x27;1993-02-15 00:00:00&#x27;,\n",
       "               &#x27;1993-03-16 12:00:00&#x27;, &#x27;1993-04-16 00:00:00&#x27;,\n",
       "               &#x27;1993-05-16 12:00:00&#x27;, &#x27;1993-06-16 00:00:00&#x27;,\n",
       "               &#x27;1993-07-16 12:00:00&#x27;, &#x27;1993-08-16 12:00:00&#x27;,\n",
       "               &#x27;1993-09-16 00:00:00&#x27;, &#x27;1993-10-16 12:00:00&#x27;,\n",
       "               ...\n",
       "               &#x27;2015-03-16 12:00:00&#x27;, &#x27;2015-04-16 00:00:00&#x27;,\n",
       "               &#x27;2015-05-16 12:00:00&#x27;, &#x27;2015-06-16 00:00:00&#x27;,\n",
       "               &#x27;2015-07-16 12:00:00&#x27;, &#x27;2015-08-16 12:00:00&#x27;,\n",
       "               &#x27;2015-09-16 00:00:00&#x27;, &#x27;2015-10-16 12:00:00&#x27;,\n",
       "               &#x27;2015-11-16 00:00:00&#x27;, &#x27;2015-12-16 12:00:00&#x27;],\n",
       "              dtype=&#x27;datetime64[ns]&#x27;, name=&#x27;time&#x27;, length=276, freq=None))</pre></div></li></ul></div></li><li class='xr-section-item'><input id='section-55a0d9ab-7623-4352-80f9-343301e5f62b' class='xr-section-summary-in' type='checkbox'  ><label for='section-55a0d9ab-7623-4352-80f9-343301e5f62b' class='xr-section-summary' >Attributes: <span>(18)</span></label><div class='xr-section-inline-details'></div><div class='xr-section-details'><dl class='xr-attrs'><dt><span>Conventions :</span></dt><dd>CF-1.7</dd><dt><span>title :</span></dt><dd>esacci.SEALEVEL.mon.IND.MSLTR.multi-sensor.multi-platform.MERGED.2-0.r1</dd><dt><span>date_created :</span></dt><dd>2023-01-20T16:47:18.125230</dd><dt><span>processing_level :</span></dt><dd>IND</dd><dt><span>time_coverage_start :</span></dt><dd>1993-01-01T00:00:00</dd><dt><span>time_coverage_end :</span></dt><dd>2016-01-01T00:00:00</dd><dt><span>time_coverage_duration :</span></dt><dd>P8400DT0H0M0S</dd><dt><span>history :</span></dt><dd>[{&#x27;program&#x27;: &#x27;xcube_cci.chunkstore.CciChunkStore&#x27;, &#x27;cube_params&#x27;: {&#x27;time_range&#x27;: [&#x27;1993-01-01T00:00:00&#x27;, &#x27;2015-12-31T23:59:59&#x27;], &#x27;variable_names&#x27;: [&#x27;local_msl_trend&#x27;, &#x27;local_msl_trend_error&#x27;]}}]</dd><dt><span>geospatial_lon_resolution :</span></dt><dd>0.25</dd><dt><span>geospatial_lon_min :</span></dt><dd>-180.0</dd><dt><span>geospatial_lon_max :</span></dt><dd>180.0</dd><dt><span>geospatial_lon_units :</span></dt><dd>degrees east</dd><dt><span>geospatial_lat_resolution :</span></dt><dd>0.25</dd><dt><span>geospatial_lat_min :</span></dt><dd>-90.0</dd><dt><span>geospatial_lat_max :</span></dt><dd>90.0</dd><dt><span>geospatial_lat_units :</span></dt><dd>degrees_north</dd><dt><span>geospatial_bounds_crs :</span></dt><dd>CRS84</dd><dt><span>geospatial_bounds :</span></dt><dd>POLYGON((-180.0 -90.0, -180.0 90.0, 180.0 90.0, 180.0 -90.0, -180.0 -90.0))</dd></dl></div></li></ul></div></div>"
      ],
      "text/plain": [
       "<xarray.Dataset>\n",
       "Dimensions:                (lat: 720, time: 276, lon: 1440, bnds: 2)\n",
       "Coordinates:\n",
       "  * lat                    (lat) float32 -89.88 -89.62 -89.38 ... 89.62 89.88\n",
       "  * lon                    (lon) float64 -179.9 -179.6 -179.4 ... 179.6 179.9\n",
       "  * time                   (time) datetime64[ns] 1993-01-16T12:00:00 ... 2015...\n",
       "    time_bnds              (time, bnds) datetime64[ns] dask.array<chunksize=(276, 2), meta=np.ndarray>\n",
       "Dimensions without coordinates: bnds\n",
       "Data variables:\n",
       "    local_msl_trend        (time, lat, lon) float32 dask.array<chunksize=(276, 45, 45), meta=np.ndarray>\n",
       "    local_msl_trend_error  (time, lat, lon) float32 dask.array<chunksize=(276, 45, 45), meta=np.ndarray>\n",
       "Attributes: (12/18)\n",
       "    Conventions:                CF-1.7\n",
       "    title:                      esacci.SEALEVEL.mon.IND.MSLTR.multi-sensor.mu...\n",
       "    date_created:               2023-01-20T16:47:18.125230\n",
       "    processing_level:           IND\n",
       "    time_coverage_start:        1993-01-01T00:00:00\n",
       "    time_coverage_end:          2016-01-01T00:00:00\n",
       "    ...                         ...\n",
       "    geospatial_lat_resolution:  0.25\n",
       "    geospatial_lat_min:         -90.0\n",
       "    geospatial_lat_max:         90.0\n",
       "    geospatial_lat_units:       degrees_north\n",
       "    geospatial_bounds_crs:      CRS84\n",
       "    geospatial_bounds:          POLYGON((-180.0 -90.0, -180.0 90.0, 180.0 90...."
      ]
     },
     "execution_count": 21,
     "metadata": {},
     "output_type": "execute_result"
    }
   ],
   "source": [
    "msltr_dataset = odp_store.open_data(data_id)\n",
    "msltr_dataset"
   ]
  },
  {
   "cell_type": "code",
   "execution_count": 22,
   "id": "a1dfe811-1d5c-46d9-ab6b-e0b57418c451",
   "metadata": {},
   "outputs": [
    {
     "data": {
      "text/plain": [
       "<matplotlib.image.AxesImage at 0x7facf8327d30>"
      ]
     },
     "execution_count": 22,
     "metadata": {},
     "output_type": "execute_result"
    },
    {
     "data": {
      "image/png": "[encoded data removed]",
      "text/plain": [
       "<Figure size 640x480 with 2 Axes>"
      ]
     },
     "metadata": {},
     "output_type": "display_data"
    }
   ],
   "source": [
    "msltr_dataset.local_msl_trend.isel(time=190).plot.imshow()"
   ]
  },
  {
   "cell_type": "code",
   "execution_count": 23,
   "id": "51cbad37-d2cd-4877-960b-24fc48ddfdd3",
   "metadata": {},
   "outputs": [
    {
     "data": {
      "text/plain": [
       "<matplotlib.image.AxesImage at 0x7facf812caf0>"
      ]
     },
     "execution_count": 23,
     "metadata": {},
     "output_type": "execute_result"
    },
    {
     "data": {
      "image/png": "[encoded data removed]",
      "text/plain": [
       "<Figure size 640x480 with 2 Axes>"
      ]
     },
     "metadata": {},
     "output_type": "display_data"
    }
   ],
   "source": [
    "msltr_dataset.local_msl_trend_error.isel(time=190).plot.imshow()"
   ]
  }
 ],
 "metadata": {
  "kernelspec": {
   "display_name": "Python 3 (ipykernel)",
   "language": "python",
   "name": "python3"
  },
  "language_info": {
   "codemirror_mode": {
    "name": "ipython",
    "version": 3
   },
   "file_extension": ".py",
   "mimetype": "text/x-python",
   "name": "python",
   "nbconvert_exporter": "python",
   "pygments_lexer": "ipython3",
   "version": "3.9.13"
  }
 },
 "nbformat": 4,
 "nbformat_minor": 5
}
